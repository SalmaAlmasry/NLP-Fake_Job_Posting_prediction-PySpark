{
 "cells": [
  {
   "cell_type": "markdown",
   "metadata": {
    "id": "cQPfmjkQKHuV"
   },
   "source": [
    "# NLP in Pyspark's MLlib Project\n",
    "\n",
    "## Fake Job Posting Predictions\n",
    "\n",
    "Indeed.com has just hired you to create a system that automatically flags suspicious job postings on it's website. It has recently seen an influx of fake job postings that is negativley impacting it's customer experience. Becuase of the high volume of job postings it receives everyday, their employees do have the capacity to check every posting so they would like prioritize which postings to review before deleting it. \n",
    "\n",
    "#### Your task\n",
    "Use the attached dataset with NLP to create an alogorthim which automatically flags suspicious posts for review. \n",
    "\n",
    "#### The data\n",
    "This dataset contains 18K job descriptions out of which about 800 are fake. The data consists of both textual information and meta-information about the jobs.\n",
    "\n",
    "**Data Source:** https://www.kaggle.com/shivamb/real-or-fake-fake-jobposting-prediction\n",
    "\n",
    "#### Have fun!"
   ]
  },
  {
   "cell_type": "code",
   "execution_count": 1,
   "metadata": {
    "id": "UECyMJPYKHvE"
   },
   "outputs": [
    {
     "name": "stdout",
     "output_type": "stream",
     "text": [
      "You are working with 1 core(s)\n"
     ]
    },
    {
     "data": {
      "text/html": [
       "\n",
       "            <div>\n",
       "                <p><b>SparkSession - in-memory</b></p>\n",
       "                \n",
       "        <div>\n",
       "            <p><b>SparkContext</b></p>\n",
       "\n",
       "            <p><a href=\"http://4f7e6961ca2f:4041\">Spark UI</a></p>\n",
       "\n",
       "            <dl>\n",
       "              <dt>Version</dt>\n",
       "                <dd><code>v3.3.1</code></dd>\n",
       "              <dt>Master</dt>\n",
       "                <dd><code>local[*]</code></dd>\n",
       "              <dt>AppName</dt>\n",
       "                <dd><code>NLP</code></dd>\n",
       "            </dl>\n",
       "        </div>\n",
       "        \n",
       "            </div>\n",
       "        "
      ],
      "text/plain": [
       "<pyspark.sql.session.SparkSession at 0x7f4fde9d0fa0>"
      ]
     },
     "execution_count": 1,
     "metadata": {},
     "output_type": "execute_result"
    }
   ],
   "source": [
    "# First let's create our PySpark instance\n",
    "import pyspark\n",
    "from pyspark.sql import SparkSession\n",
    "spark = SparkSession.builder.appName(\"NLP\").getOrCreate()\n",
    "\n",
    "cores = spark._jsc.sc().getExecutorMemoryStatus().keySet().size()\n",
    "print(\"You are working with\", cores, \"core(s)\")\n",
    "spark"
   ]
  },
  {
   "cell_type": "code",
   "execution_count": 2,
   "metadata": {
    "id": "YadiBKBJKHvH"
   },
   "outputs": [],
   "source": [
    "from pyspark.ml.feature import * #CountVectorizer,StringIndexer, RegexTokenizer,StopWordsRemover, vectorassembler\n",
    "from pyspark.sql.functions import * #col,udf,regexp_replace,isnull\n",
    "from pyspark.sql.types import * #StringType,IntegerType\n",
    "from pyspark.ml.classification import *\n",
    "from pyspark.ml.evaluation import *\n",
    "from pyspark.ml.tuning import CrossValidator, ParamGridBuilder\n",
    "\n",
    "# For pipeline development\n",
    "from pyspark.ml import Pipeline "
   ]
  },
  {
   "cell_type": "code",
   "execution_count": 3,
   "metadata": {},
   "outputs": [],
   "source": [
    "# To display ALL columns\n",
    "import pandas as pd\n",
    "pd.set_option('display.max_colwidth', None)\n",
    "pd.set_option('display.max_columns', None)\n",
    "pd.set_option('display.max_rows', None)"
   ]
  },
  {
   "cell_type": "code",
   "execution_count": 4,
   "metadata": {
    "id": "WNCGVciyKHvI"
   },
   "outputs": [],
   "source": [
    "#reading our dataset\n",
    "path =\"../Datasets/\"\n",
    "df = spark.read.csv(path+'fake_job_postings.csv',inferSchema=True,header=True)"
   ]
  },
  {
   "cell_type": "code",
   "execution_count": 5,
   "metadata": {
    "id": "eQZeT9frKHvJ"
   },
   "outputs": [
    {
     "data": {
      "text/html": [
       "<div>\n",
       "<style scoped>\n",
       "    .dataframe tbody tr th:only-of-type {\n",
       "        vertical-align: middle;\n",
       "    }\n",
       "\n",
       "    .dataframe tbody tr th {\n",
       "        vertical-align: top;\n",
       "    }\n",
       "\n",
       "    .dataframe thead th {\n",
       "        text-align: right;\n",
       "    }\n",
       "</style>\n",
       "<table border=\"1\" class=\"dataframe\">\n",
       "  <thead>\n",
       "    <tr style=\"text-align: right;\">\n",
       "      <th></th>\n",
       "      <th>job_id</th>\n",
       "      <th>title</th>\n",
       "      <th>location</th>\n",
       "      <th>department</th>\n",
       "      <th>salary_range</th>\n",
       "      <th>company_profile</th>\n",
       "      <th>description</th>\n",
       "      <th>requirements</th>\n",
       "      <th>benefits</th>\n",
       "      <th>telecommuting</th>\n",
       "      <th>has_company_logo</th>\n",
       "      <th>has_questions</th>\n",
       "      <th>employment_type</th>\n",
       "      <th>required_experience</th>\n",
       "      <th>required_education</th>\n",
       "      <th>industry</th>\n",
       "      <th>function</th>\n",
       "      <th>fraudulent</th>\n",
       "    </tr>\n",
       "  </thead>\n",
       "  <tbody>\n",
       "    <tr>\n",
       "      <th>0</th>\n",
       "      <td>1</td>\n",
       "      <td>Marketing Intern</td>\n",
       "      <td>US, NY, New York</td>\n",
       "      <td>Marketing</td>\n",
       "      <td>None</td>\n",
       "      <td>We're Food52, and we've created a groundbreaking and award-winning cooking site. We support, connect, and celebrate home cooks, and give them everything they need in one place.We have a top editorial, business, and engineering team. We're focused on using technology to find new and better ways to connect people around their specific food interests, and to offer them superb, highly curated information about food and cooking. We attract the most talented home cooks and contributors in the country; we also publish well-known professionals like Mario Batali, Gwyneth Paltrow, and Danny Meyer. And we have partnerships with Whole Foods Market and Random House.Food52 has been named the best food website by the James Beard Foundation and IACP, and has been featured in the New York Times, NPR, Pando Daily, TechCrunch, and on the Today Show.We're located in Chelsea, in New York City.</td>\n",
       "      <td>Food52, a fast-growing, James Beard Award-winning online food community and crowd-sourced and curated recipe hub, is currently interviewing full- and part-time unpaid interns to work in a small team of editors, executives, and developers in its New York City headquarters.Reproducing and/or repackaging existing Food52 content for a number of partner sites, such as Huffington Post, Yahoo, Buzzfeed, and more in their various content management systemsResearching blogs and websites for the Provisions by Food52 Affiliate ProgramAssisting in day-to-day affiliate program support, such as screening affiliates and assisting in any affiliate inquiriesSupporting with PR &amp;amp; Events when neededHelping with office administrative work, such as filing, mailing, and preparing for meetingsWorking with developers to document bugs and suggest improvements to the siteSupporting the marketing and executive staff</td>\n",
       "      <td>Experience with content management systems a major plus (any blogging counts!)Familiar with the Food52 editorial voice and aestheticLoves food, appreciates the importance of home cooking and cooking with the seasonsMeticulous editor, perfectionist, obsessive attention to detail, maddened by typos and broken links, delighted by finding and fixing themCheerful under pressureExcellent communication skillsA+ multi-tasker and juggler of responsibilities big and smallInterested in and engaged with social media like Twitter, Facebook, and PinterestLoves problem-solving and collaborating to drive Food52 forwardThinks big picture but pitches in on the nitty gritty of running a small company (dishes, shopping, administrative support)Comfortable with the realities of working for a startup: being on call on evenings and weekends, and working long hours</td>\n",
       "      <td>None</td>\n",
       "      <td>0</td>\n",
       "      <td>1</td>\n",
       "      <td>0</td>\n",
       "      <td>Other</td>\n",
       "      <td>Internship</td>\n",
       "      <td>None</td>\n",
       "      <td>None</td>\n",
       "      <td>Marketing</td>\n",
       "      <td>0</td>\n",
       "    </tr>\n",
       "    <tr>\n",
       "      <th>1</th>\n",
       "      <td>2</td>\n",
       "      <td>Customer Service - Cloud Video Production</td>\n",
       "      <td>NZ, , Auckland</td>\n",
       "      <td>Success</td>\n",
       "      <td>None</td>\n",
       "      <td>90 Seconds, the worlds Cloud Video Production Service.90 Seconds is the worlds Cloud Video Production Service enabling brands and agencies to get high quality online video content shot and produced anywhere in the world. 90 Seconds makes video production fast, affordable, and all managed seamlessly in the cloud from purchase to publish. http://90#URL_fbe6559afac620a3cd2c22281f7b8d0eef56a73e3d9a311e2f1ca13d081dd630#90 Seconds removes the hassle, cost, risk and speed issues of working with regular video production companies by managing every aspect of video projects in a beautiful online experience. With a growing global network of over 2,000 rated video professionals in over 50 countries managed by dedicated production success teams in 5 countries, 90 Seconds provides a 100% success guarantee.90 Seconds has produced almost 4,000 videos in over 30 Countries for over 500 Global brands including some of the worlds largest including Paypal, L’Oreal, Sony and Barclays and has offices in Auckland, London, Sydney, Tokyo and Singapore.http://90#URL_fbe6559afac620a3cd2c22281f7b8d0eef56a73e3d9a311e2f1ca13d081dd630# | http://90#URL_e2ad0bde3f09a0913a486abdbb1e6ac373bb3310f64b1fbcf550049bcba4a17b# | http://90#URL_8c5dd1806f97ab90876d9daebeb430f682dbc87e2f01549b47e96c7bff2ea17e#</td>\n",
       "      <td>Organised - Focused - Vibrant - Awesome!Do you have a passion for customer service? Slick typing skills? Maybe Account Management? ...And think administration is cooler than a polar bear on a jetski? Then we need to hear you! We are the Cloud Video Production Service and opperating on a glodal level. Yeah, it's pretty cool. Serious about delivering a world class product and excellent customer service.Our rapidly expanding business is looking for a talented Project Manager to manage the successful delivery of video projects, manage client communications and drive the production process. Work with some of the coolest brands on the planet and learn from a global team that are representing NZ is a huge way!We are entering the next growth stage of our business and growing quickly internationally.  Therefore, the position is bursting with opportunity for the right person entering the business at the right time. 90 Seconds, the worlds Cloud Video Production Service - http://90#URL_fbe6559afac620a3cd2c22281f7b8d0eef56a73e3d9a311e2f1ca13d081dd630#90 Seconds is the worlds Cloud Video Production Service enabling brands and agencies to get high quality online video content shot and produced anywhere in the world. Fast, affordable, and all managed seamlessly in the cloud from purchase to publish. 90 Seconds removes the hassle, cost, risk and speed issues of working with regular video production companies by managing every aspect of video projects in a beautiful online experience.  With a growing network of over 2,000 rated video professionals in over 50 countries and dedicated production success teams in 5 countries guaranteeing video project success 100%. It's as easy as commissioning a quick google adwords campaign.90 Seconds has produced almost 4,000 videos in over 30 Countries for over 500 Global brands including some of the worlds largest including Paypal, L'oreal, Sony and Barclays and has offices in Auckland, London, Sydney, Tokyo &amp;amp; Singapore.Our Auckland office is based right in the heart of the Wynyard Quarter Innovation Precinct - GridAKL!</td>\n",
       "      <td>What we expect from you:Your key responsibility will be to communicate with the client, 90 Seconds team and freelance community throughout the video production process including, shoot planning, securing freelance talent, managing workflow and the online production management system.  The aim is to manage each video project effectively so that we produce great videos that our clients love.Key attributesClient focused - excellent customer service and communication skillsOnline - oustanding computer knowledge and experience using online software and project management toolsOrganised - manage workload and able to multi-task100% attention to detailMotivated - self-starter with a passion for doing excellent work and achieving great resultsAdaptable - show initiative and think on your feet as this is a constantly evolving atmosphereFlexible - fast turnaround work and after hours availabilityEasy going &amp;amp; upbeat - dosen't get bogged down and loves the challengeSense of Humour - have a laugh and know that working in a startup takes guts!Ability to deliver - including meeting project deadlines and budgetAttitude is more important than experience at 90 Seconds, however previous experience in customer service and/or project management is beneficialPlease view our platform / website at #URL_395a8683a907ce95f49a12fb240e6e47ad8d5a4f96d07ebbd869c4dd4dea1826# and get a clear understand about what we do before reaching out.</td>\n",
       "      <td>What you will get from usThrough being part of the 90 Seconds team you will gain:experience working on projects located around the world with an international brandexperience working with a variety of clients and on a large range of projectsopportunity to drive and grow production function and teama positive working environment with a great teamPay$40,000-$55,000Applying for this role with a VIDEOBeing a video business, we understand that one of the quickest ways that we can assess your suitability for this role, and one of the quickest ways that you can apply for it, is for you to submit a 60-90 second long video telling us about yourself, your experience and why you think you would be perfect for the role.  It’s not about being a filmmaker or making a really creative video.  A simple video filmed with a smart phone or web cam will be fine. Please also include where you are based and when you can start.You can upload the video onto YouTube or Vimeo (or similar) as a Draft or Live link.APPLICATIONS DUE by 5pm on Wednesday 18th July 2014 - Once you have a video ready, apply for this role via the following link together with a cover letter and your CV. After we have watched your video and get an idea of your suitability for the role, we will email the shortlisted candidates</td>\n",
       "      <td>0</td>\n",
       "      <td>1</td>\n",
       "      <td>0</td>\n",
       "      <td>Full-time</td>\n",
       "      <td>Not Applicable</td>\n",
       "      <td>None</td>\n",
       "      <td>Marketing and Advertising</td>\n",
       "      <td>Customer Service</td>\n",
       "      <td>0</td>\n",
       "    </tr>\n",
       "    <tr>\n",
       "      <th>2</th>\n",
       "      <td>3</td>\n",
       "      <td>Commissioning Machinery Assistant (CMA)</td>\n",
       "      <td>US, IA, Wever</td>\n",
       "      <td>None</td>\n",
       "      <td>None</td>\n",
       "      <td>Valor Services provides Workforce Solutions that meet the needs of companies across the Private Sector, with a special focus on the Oil &amp;amp; Gas Industry. Valor Services will be involved with you throughout every step of the hiring process and remain in contact with you all the way through the final step of signing of the employment contract with your new employer. Valor Services was founded with the vision of employing the unique skills, experiences, and qualities of America’s finest veterans to provide Private Sector companies with precise and concerted value-added services – and America’s finest Veterans with an optimized career opportunity.We are eager to get the word out to veterans that there are ample opportunities for employment in the private sector and that you are the ideal candidates to fill those positions. Valor Services Your Success is Our Mission. ™</td>\n",
       "      <td>Our client, located in Houston, is actively seeking an experienced Commissioning Machinery Assistant that possesses strong supervisory skills and has an attention to detail. A strong dedication to safety is a must. The ideal candidate will execute all activities while complying with quality requirements and health, environmental, and safety regulations.</td>\n",
       "      <td>Implement pre-commissioning and commissioning procedures for rotary equipment.Execute all activities with subcontractor’s assigned crew that pertains to the discipline.Ensure effective utilization of commissioning manpower and consumables.Ensure the execution of vendor specialists' field activities with the assigned resources from the sub-contractor per vendor’s representative plans.Carry out equipment inspections with client representatives and ensure proper certification is produced.Prepare forms for all pending tests and submit signed certificates for final hand over to the certification engineer for QA and QC.Coordinate in the field with vendor representatives.Keep records of all activities.Ensure that safety practices are strictly followed during the execution of activities.Report progress and constraints to the mechanical supervisor.Possible authorization by site manager to receive or issue a Permit To Work according to project Permit To Work procedures.Assist supervisor to expedite pending punch-list items in accordance with the commissioning manager’s priorities.Assist supervisor to coordinate and supervise construction-support activities during pre-commissioning and commissioning activities.Company Overview:Our client is a premiere engineering, construction, and procurement company that executes large-scale projects internationally.</td>\n",
       "      <td>None</td>\n",
       "      <td>0</td>\n",
       "      <td>1</td>\n",
       "      <td>0</td>\n",
       "      <td>None</td>\n",
       "      <td>None</td>\n",
       "      <td>None</td>\n",
       "      <td>None</td>\n",
       "      <td>None</td>\n",
       "      <td>0</td>\n",
       "    </tr>\n",
       "  </tbody>\n",
       "</table>\n",
       "</div>"
      ],
      "text/plain": [
       "   job_id                                      title          location  \\\n",
       "0       1                           Marketing Intern  US, NY, New York   \n",
       "1       2  Customer Service - Cloud Video Production    NZ, , Auckland   \n",
       "2       3    Commissioning Machinery Assistant (CMA)     US, IA, Wever   \n",
       "\n",
       "  department salary_range  \\\n",
       "0  Marketing         None   \n",
       "1    Success         None   \n",
       "2       None         None   \n",
       "\n",
       "                                                                                                                                                                                                                                                                                                                                                                                                                                                                                                                                                                                                                                                                                                                                                                                                                                                                                                                                                                                                                                                                                                                                                                                                                                                                                                                          company_profile  \\\n",
       "0                                                                                                                                                                                                                                                                                                                                                                                                                   We're Food52, and we've created a groundbreaking and award-winning cooking site. We support, connect, and celebrate home cooks, and give them everything they need in one place.We have a top editorial, business, and engineering team. We're focused on using technology to find new and better ways to connect people around their specific food interests, and to offer them superb, highly curated information about food and cooking. We attract the most talented home cooks and contributors in the country; we also publish well-known professionals like Mario Batali, Gwyneth Paltrow, and Danny Meyer. And we have partnerships with Whole Foods Market and Random House.Food52 has been named the best food website by the James Beard Foundation and IACP, and has been featured in the New York Times, NPR, Pando Daily, TechCrunch, and on the Today Show.We're located in Chelsea, in New York City.   \n",
       "1  90 Seconds, the worlds Cloud Video Production Service.90 Seconds is the worlds Cloud Video Production Service enabling brands and agencies to get high quality online video content shot and produced anywhere in the world. 90 Seconds makes video production fast, affordable, and all managed seamlessly in the cloud from purchase to publish. http://90#URL_fbe6559afac620a3cd2c22281f7b8d0eef56a73e3d9a311e2f1ca13d081dd630#90 Seconds removes the hassle, cost, risk and speed issues of working with regular video production companies by managing every aspect of video projects in a beautiful online experience. With a growing global network of over 2,000 rated video professionals in over 50 countries managed by dedicated production success teams in 5 countries, 90 Seconds provides a 100% success guarantee.90 Seconds has produced almost 4,000 videos in over 30 Countries for over 500 Global brands including some of the worlds largest including Paypal, L’Oreal, Sony and Barclays and has offices in Auckland, London, Sydney, Tokyo and Singapore.http://90#URL_fbe6559afac620a3cd2c22281f7b8d0eef56a73e3d9a311e2f1ca13d081dd630# | http://90#URL_e2ad0bde3f09a0913a486abdbb1e6ac373bb3310f64b1fbcf550049bcba4a17b# | http://90#URL_8c5dd1806f97ab90876d9daebeb430f682dbc87e2f01549b47e96c7bff2ea17e#    \n",
       "2                                                                                                                                                                                                                                                                                                                                                                                                                         Valor Services provides Workforce Solutions that meet the needs of companies across the Private Sector, with a special focus on the Oil &amp; Gas Industry. Valor Services will be involved with you throughout every step of the hiring process and remain in contact with you all the way through the final step of signing of the employment contract with your new employer. Valor Services was founded with the vision of employing the unique skills, experiences, and qualities of America’s finest veterans to provide Private Sector companies with precise and concerted value-added services – and America’s finest Veterans with an optimized career opportunity.We are eager to get the word out to veterans that there are ample opportunities for employment in the private sector and that you are the ideal candidates to fill those positions. Valor Services Your Success is Our Mission. ™    \n",
       "\n",
       "                                                                                                                                                                                                                                                                                                                                                                                                                                                                                                                                                                                                                                                                                                                                                                                                                                                                                                                                                                                                                                                                                                                                                                                                                                                                                                                                                                                                                                                                                                                                                                                                                                                                                                                                                                                                                                                                                                                                                                                                                                                                                                                                                     description  \\\n",
       "0                                                                                                                                                                                                                                                                                                                                                                                                                                                                                                                                                                                                                                                                                                                                                                                                                                                                                                                                                                                                                                                                                                                                                                                                                      Food52, a fast-growing, James Beard Award-winning online food community and crowd-sourced and curated recipe hub, is currently interviewing full- and part-time unpaid interns to work in a small team of editors, executives, and developers in its New York City headquarters.Reproducing and/or repackaging existing Food52 content for a number of partner sites, such as Huffington Post, Yahoo, Buzzfeed, and more in their various content management systemsResearching blogs and websites for the Provisions by Food52 Affiliate ProgramAssisting in day-to-day affiliate program support, such as screening affiliates and assisting in any affiliate inquiriesSupporting with PR &amp; Events when neededHelping with office administrative work, such as filing, mailing, and preparing for meetingsWorking with developers to document bugs and suggest improvements to the siteSupporting the marketing and executive staff   \n",
       "1  Organised - Focused - Vibrant - Awesome!Do you have a passion for customer service? Slick typing skills? Maybe Account Management? ...And think administration is cooler than a polar bear on a jetski? Then we need to hear you! We are the Cloud Video Production Service and opperating on a glodal level. Yeah, it's pretty cool. Serious about delivering a world class product and excellent customer service.Our rapidly expanding business is looking for a talented Project Manager to manage the successful delivery of video projects, manage client communications and drive the production process. Work with some of the coolest brands on the planet and learn from a global team that are representing NZ is a huge way!We are entering the next growth stage of our business and growing quickly internationally.  Therefore, the position is bursting with opportunity for the right person entering the business at the right time. 90 Seconds, the worlds Cloud Video Production Service - http://90#URL_fbe6559afac620a3cd2c22281f7b8d0eef56a73e3d9a311e2f1ca13d081dd630#90 Seconds is the worlds Cloud Video Production Service enabling brands and agencies to get high quality online video content shot and produced anywhere in the world. Fast, affordable, and all managed seamlessly in the cloud from purchase to publish. 90 Seconds removes the hassle, cost, risk and speed issues of working with regular video production companies by managing every aspect of video projects in a beautiful online experience.  With a growing network of over 2,000 rated video professionals in over 50 countries and dedicated production success teams in 5 countries guaranteeing video project success 100%. It's as easy as commissioning a quick google adwords campaign.90 Seconds has produced almost 4,000 videos in over 30 Countries for over 500 Global brands including some of the worlds largest including Paypal, L'oreal, Sony and Barclays and has offices in Auckland, London, Sydney, Tokyo &amp; Singapore.Our Auckland office is based right in the heart of the Wynyard Quarter Innovation Precinct - GridAKL!    \n",
       "2                                                                                                                                                                                                                                                                                                                                                                                                                                                                                                                                                                                                                                                                                                                                                                                                                                                                                                                                                                                                                                                                                                                                                                                                                                                                                                                                                                                                                                                                                                                                                                                                                                                                                                                                                                                            Our client, located in Houston, is actively seeking an experienced Commissioning Machinery Assistant that possesses strong supervisory skills and has an attention to detail. A strong dedication to safety is a must. The ideal candidate will execute all activities while complying with quality requirements and health, environmental, and safety regulations.   \n",
       "\n",
       "                                                                                                                                                                                                                                                                                                                                                                                                                                                                                                                                                                                                                                                                                                                                                                                                                                                                                                                                                                                                                                                                                                                                                                                                                                                                                                                                                                                                                                                                                requirements  \\\n",
       "0                                                                                                                                                                                                                                                                                                                                                                                                                                                                                                                                                                                                       Experience with content management systems a major plus (any blogging counts!)Familiar with the Food52 editorial voice and aestheticLoves food, appreciates the importance of home cooking and cooking with the seasonsMeticulous editor, perfectionist, obsessive attention to detail, maddened by typos and broken links, delighted by finding and fixing themCheerful under pressureExcellent communication skillsA+ multi-tasker and juggler of responsibilities big and smallInterested in and engaged with social media like Twitter, Facebook, and PinterestLoves problem-solving and collaborating to drive Food52 forwardThinks big picture but pitches in on the nitty gritty of running a small company (dishes, shopping, administrative support)Comfortable with the realities of working for a startup: being on call on evenings and weekends, and working long hours   \n",
       "1  What we expect from you:Your key responsibility will be to communicate with the client, 90 Seconds team and freelance community throughout the video production process including, shoot planning, securing freelance talent, managing workflow and the online production management system.  The aim is to manage each video project effectively so that we produce great videos that our clients love.Key attributesClient focused - excellent customer service and communication skillsOnline - oustanding computer knowledge and experience using online software and project management toolsOrganised - manage workload and able to multi-task100% attention to detailMotivated - self-starter with a passion for doing excellent work and achieving great resultsAdaptable - show initiative and think on your feet as this is a constantly evolving atmosphereFlexible - fast turnaround work and after hours availabilityEasy going &amp; upbeat - dosen't get bogged down and loves the challengeSense of Humour - have a laugh and know that working in a startup takes guts!Ability to deliver - including meeting project deadlines and budgetAttitude is more important than experience at 90 Seconds, however previous experience in customer service and/or project management is beneficialPlease view our platform / website at #URL_395a8683a907ce95f49a12fb240e6e47ad8d5a4f96d07ebbd869c4dd4dea1826# and get a clear understand about what we do before reaching out.   \n",
       "2                                                                        Implement pre-commissioning and commissioning procedures for rotary equipment.Execute all activities with subcontractor’s assigned crew that pertains to the discipline.Ensure effective utilization of commissioning manpower and consumables.Ensure the execution of vendor specialists' field activities with the assigned resources from the sub-contractor per vendor’s representative plans.Carry out equipment inspections with client representatives and ensure proper certification is produced.Prepare forms for all pending tests and submit signed certificates for final hand over to the certification engineer for QA and QC.Coordinate in the field with vendor representatives.Keep records of all activities.Ensure that safety practices are strictly followed during the execution of activities.Report progress and constraints to the mechanical supervisor.Possible authorization by site manager to receive or issue a Permit To Work according to project Permit To Work procedures.Assist supervisor to expedite pending punch-list items in accordance with the commissioning manager’s priorities.Assist supervisor to coordinate and supervise construction-support activities during pre-commissioning and commissioning activities.Company Overview:Our client is a premiere engineering, construction, and procurement company that executes large-scale projects internationally.   \n",
       "\n",
       "                                                                                                                                                                                                                                                                                                                                                                                                                                                                                                                                                                                                                                                                                                                                                                                                                                                                                                                                                                                                                                                                                                                                                                                                                                                                                                                                       benefits  \\\n",
       "0                                                                                                                                                                                                                                                                                                                                                                                                                                                                                                                                                                                                                                                                                                                                                                                                                                                                                                                                                                                                                                                                                                                                                                                                                                                                                                                                          None   \n",
       "1  What you will get from usThrough being part of the 90 Seconds team you will gain:experience working on projects located around the world with an international brandexperience working with a variety of clients and on a large range of projectsopportunity to drive and grow production function and teama positive working environment with a great teamPay$40,000-$55,000Applying for this role with a VIDEOBeing a video business, we understand that one of the quickest ways that we can assess your suitability for this role, and one of the quickest ways that you can apply for it, is for you to submit a 60-90 second long video telling us about yourself, your experience and why you think you would be perfect for the role.  It’s not about being a filmmaker or making a really creative video.  A simple video filmed with a smart phone or web cam will be fine. Please also include where you are based and when you can start.You can upload the video onto YouTube or Vimeo (or similar) as a Draft or Live link.APPLICATIONS DUE by 5pm on Wednesday 18th July 2014 - Once you have a video ready, apply for this role via the following link together with a cover letter and your CV. After we have watched your video and get an idea of your suitability for the role, we will email the shortlisted candidates   \n",
       "2                                                                                                                                                                                                                                                                                                                                                                                                                                                                                                                                                                                                                                                                                                                                                                                                                                                                                                                                                                                                                                                                                                                                                                                                                                                                                                                                          None   \n",
       "\n",
       "  telecommuting has_company_logo has_questions employment_type  \\\n",
       "0             0                1             0           Other   \n",
       "1             0                1             0       Full-time   \n",
       "2             0                1             0            None   \n",
       "\n",
       "  required_experience required_education                   industry  \\\n",
       "0          Internship               None                       None   \n",
       "1      Not Applicable               None  Marketing and Advertising   \n",
       "2                None               None                       None   \n",
       "\n",
       "           function fraudulent  \n",
       "0         Marketing          0  \n",
       "1  Customer Service          0  \n",
       "2              None          0  "
      ]
     },
     "execution_count": 5,
     "metadata": {},
     "output_type": "execute_result"
    }
   ],
   "source": [
    "df.limit(3).toPandas()"
   ]
  },
  {
   "cell_type": "code",
   "execution_count": 6,
   "metadata": {},
   "outputs": [
    {
     "data": {
      "text/plain": [
       "17880"
      ]
     },
     "execution_count": 6,
     "metadata": {},
     "output_type": "execute_result"
    }
   ],
   "source": [
    "df.count()"
   ]
  },
  {
   "cell_type": "code",
   "execution_count": 7,
   "metadata": {},
   "outputs": [
    {
     "name": "stdout",
     "output_type": "stream",
     "text": [
      "root\n",
      " |-- job_id: integer (nullable = true)\n",
      " |-- title: string (nullable = true)\n",
      " |-- location: string (nullable = true)\n",
      " |-- department: string (nullable = true)\n",
      " |-- salary_range: string (nullable = true)\n",
      " |-- company_profile: string (nullable = true)\n",
      " |-- description: string (nullable = true)\n",
      " |-- requirements: string (nullable = true)\n",
      " |-- benefits: string (nullable = true)\n",
      " |-- telecommuting: string (nullable = true)\n",
      " |-- has_company_logo: string (nullable = true)\n",
      " |-- has_questions: string (nullable = true)\n",
      " |-- employment_type: string (nullable = true)\n",
      " |-- required_experience: string (nullable = true)\n",
      " |-- required_education: string (nullable = true)\n",
      " |-- industry: string (nullable = true)\n",
      " |-- function: string (nullable = true)\n",
      " |-- fraudulent: string (nullable = true)\n",
      "\n"
     ]
    }
   ],
   "source": [
    "df.printSchema()"
   ]
  },
  {
   "cell_type": "markdown",
   "metadata": {},
   "source": [
    "## PreProcessing "
   ]
  },
  {
   "cell_type": "markdown",
   "metadata": {},
   "source": [
    "Checking our target (dependent variable) column.."
   ]
  },
  {
   "cell_type": "code",
   "execution_count": 8,
   "metadata": {
    "id": "BahgZStCKHvK"
   },
   "outputs": [
    {
     "name": "stdout",
     "output_type": "stream",
     "text": [
      "+--------------------+-----+\n",
      "|          fraudulent|count|\n",
      "+--------------------+-----+\n",
      "|                   0|16080|\n",
      "|                   1|  886|\n",
      "|                null|  176|\n",
      "|           Full-time|   73|\n",
      "|Hospital & Health...|   55|\n",
      "|   Bachelor's Degree|   53|\n",
      "|         Engineering|   26|\n",
      "| perform quality ...|   17|\n",
      "|         Unspecified|   15|\n",
      "|    Mid-Senior level|   15|\n",
      "|           Associate|   14|\n",
      "|               Sales|   14|\n",
      "|Information Techn...|   13|\n",
      "|           Marketing|   13|\n",
      "| passionate about...|   13|\n",
      "|            Internet|   12|\n",
      "|   Computer Software|   12|\n",
      "|      Not Applicable|   11|\n",
      "|We offer an excel...|   11|\n",
      "| además con el fi...|   10|\n",
      "+--------------------+-----+\n",
      "only showing top 20 rows\n",
      "\n"
     ]
    }
   ],
   "source": [
    "df.groupBy(\"fraudulent\").count().orderBy(desc(\"count\")).show()"
   ]
  },
  {
   "cell_type": "markdown",
   "metadata": {},
   "source": [
    "The fraudulent column which we want to predict has many unwanted (noisy) rows, we can't use these rows for training or testing so we will filter our data so it only contains either 0 or 1 for fraudulent."
   ]
  },
  {
   "cell_type": "code",
   "execution_count": 9,
   "metadata": {},
   "outputs": [
    {
     "name": "stdout",
     "output_type": "stream",
     "text": [
      "+----------+-----+\n",
      "|fraudulent|count|\n",
      "+----------+-----+\n",
      "|0         |16080|\n",
      "|1         |886  |\n",
      "+----------+-----+\n",
      "\n"
     ]
    }
   ],
   "source": [
    "#first, for handling the most important column, the fraudulent column.\n",
    "df = df.filter(\"fraudulent IN(0,1)\")\n",
    "# Make sure it worked\n",
    "df.groupBy(\"fraudulent\").count().orderBy(col(\"count\").desc()).show(truncate=False)"
   ]
  },
  {
   "cell_type": "code",
   "execution_count": 10,
   "metadata": {},
   "outputs": [
    {
     "data": {
      "text/plain": [
       "16966"
      ]
     },
     "execution_count": 10,
     "metadata": {},
     "output_type": "execute_result"
    }
   ],
   "source": [
    "df.count()"
   ]
  },
  {
   "cell_type": "markdown",
   "metadata": {},
   "source": [
    "After making sure our dependent variable column is as we want, We need to clean our data before starting NLP."
   ]
  },
  {
   "cell_type": "markdown",
   "metadata": {},
   "source": [
    "First, we will extract the country from the location column and use it instead of location as it is a better representation of the location's diversity."
   ]
  },
  {
   "cell_type": "code",
   "execution_count": 11,
   "metadata": {},
   "outputs": [
    {
     "data": {
      "text/html": [
       "<div>\n",
       "<style scoped>\n",
       "    .dataframe tbody tr th:only-of-type {\n",
       "        vertical-align: middle;\n",
       "    }\n",
       "\n",
       "    .dataframe tbody tr th {\n",
       "        vertical-align: top;\n",
       "    }\n",
       "\n",
       "    .dataframe thead th {\n",
       "        text-align: right;\n",
       "    }\n",
       "</style>\n",
       "<table border=\"1\" class=\"dataframe\">\n",
       "  <thead>\n",
       "    <tr style=\"text-align: right;\">\n",
       "      <th></th>\n",
       "      <th>job_id</th>\n",
       "      <th>title</th>\n",
       "      <th>location</th>\n",
       "      <th>department</th>\n",
       "      <th>salary_range</th>\n",
       "      <th>company_profile</th>\n",
       "      <th>description</th>\n",
       "      <th>requirements</th>\n",
       "      <th>benefits</th>\n",
       "      <th>telecommuting</th>\n",
       "      <th>has_company_logo</th>\n",
       "      <th>has_questions</th>\n",
       "      <th>employment_type</th>\n",
       "      <th>required_experience</th>\n",
       "      <th>required_education</th>\n",
       "      <th>industry</th>\n",
       "      <th>function</th>\n",
       "      <th>fraudulent</th>\n",
       "      <th>country</th>\n",
       "    </tr>\n",
       "  </thead>\n",
       "  <tbody>\n",
       "    <tr>\n",
       "      <th>0</th>\n",
       "      <td>1</td>\n",
       "      <td>Marketing Intern</td>\n",
       "      <td>US, NY, New York</td>\n",
       "      <td>Marketing</td>\n",
       "      <td>None</td>\n",
       "      <td>We're Food52, and we've created a groundbreaking and award-winning cooking site. We support, connect, and celebrate home cooks, and give them everything they need in one place.We have a top editorial, business, and engineering team. We're focused on using technology to find new and better ways to connect people around their specific food interests, and to offer them superb, highly curated information about food and cooking. We attract the most talented home cooks and contributors in the country; we also publish well-known professionals like Mario Batali, Gwyneth Paltrow, and Danny Meyer. And we have partnerships with Whole Foods Market and Random House.Food52 has been named the best food website by the James Beard Foundation and IACP, and has been featured in the New York Times, NPR, Pando Daily, TechCrunch, and on the Today Show.We're located in Chelsea, in New York City.</td>\n",
       "      <td>Food52, a fast-growing, James Beard Award-winning online food community and crowd-sourced and curated recipe hub, is currently interviewing full- and part-time unpaid interns to work in a small team of editors, executives, and developers in its New York City headquarters.Reproducing and/or repackaging existing Food52 content for a number of partner sites, such as Huffington Post, Yahoo, Buzzfeed, and more in their various content management systemsResearching blogs and websites for the Provisions by Food52 Affiliate ProgramAssisting in day-to-day affiliate program support, such as screening affiliates and assisting in any affiliate inquiriesSupporting with PR &amp;amp; Events when neededHelping with office administrative work, such as filing, mailing, and preparing for meetingsWorking with developers to document bugs and suggest improvements to the siteSupporting the marketing and executive staff</td>\n",
       "      <td>Experience with content management systems a major plus (any blogging counts!)Familiar with the Food52 editorial voice and aestheticLoves food, appreciates the importance of home cooking and cooking with the seasonsMeticulous editor, perfectionist, obsessive attention to detail, maddened by typos and broken links, delighted by finding and fixing themCheerful under pressureExcellent communication skillsA+ multi-tasker and juggler of responsibilities big and smallInterested in and engaged with social media like Twitter, Facebook, and PinterestLoves problem-solving and collaborating to drive Food52 forwardThinks big picture but pitches in on the nitty gritty of running a small company (dishes, shopping, administrative support)Comfortable with the realities of working for a startup: being on call on evenings and weekends, and working long hours</td>\n",
       "      <td>None</td>\n",
       "      <td>0</td>\n",
       "      <td>1</td>\n",
       "      <td>0</td>\n",
       "      <td>Other</td>\n",
       "      <td>Internship</td>\n",
       "      <td>None</td>\n",
       "      <td>None</td>\n",
       "      <td>Marketing</td>\n",
       "      <td>0</td>\n",
       "      <td>US</td>\n",
       "    </tr>\n",
       "    <tr>\n",
       "      <th>1</th>\n",
       "      <td>2</td>\n",
       "      <td>Customer Service - Cloud Video Production</td>\n",
       "      <td>NZ, , Auckland</td>\n",
       "      <td>Success</td>\n",
       "      <td>None</td>\n",
       "      <td>90 Seconds, the worlds Cloud Video Production Service.90 Seconds is the worlds Cloud Video Production Service enabling brands and agencies to get high quality online video content shot and produced anywhere in the world. 90 Seconds makes video production fast, affordable, and all managed seamlessly in the cloud from purchase to publish. http://90#URL_fbe6559afac620a3cd2c22281f7b8d0eef56a73e3d9a311e2f1ca13d081dd630#90 Seconds removes the hassle, cost, risk and speed issues of working with regular video production companies by managing every aspect of video projects in a beautiful online experience. With a growing global network of over 2,000 rated video professionals in over 50 countries managed by dedicated production success teams in 5 countries, 90 Seconds provides a 100% success guarantee.90 Seconds has produced almost 4,000 videos in over 30 Countries for over 500 Global brands including some of the worlds largest including Paypal, L’Oreal, Sony and Barclays and has offices in Auckland, London, Sydney, Tokyo and Singapore.http://90#URL_fbe6559afac620a3cd2c22281f7b8d0eef56a73e3d9a311e2f1ca13d081dd630# | http://90#URL_e2ad0bde3f09a0913a486abdbb1e6ac373bb3310f64b1fbcf550049bcba4a17b# | http://90#URL_8c5dd1806f97ab90876d9daebeb430f682dbc87e2f01549b47e96c7bff2ea17e#</td>\n",
       "      <td>Organised - Focused - Vibrant - Awesome!Do you have a passion for customer service? Slick typing skills? Maybe Account Management? ...And think administration is cooler than a polar bear on a jetski? Then we need to hear you! We are the Cloud Video Production Service and opperating on a glodal level. Yeah, it's pretty cool. Serious about delivering a world class product and excellent customer service.Our rapidly expanding business is looking for a talented Project Manager to manage the successful delivery of video projects, manage client communications and drive the production process. Work with some of the coolest brands on the planet and learn from a global team that are representing NZ is a huge way!We are entering the next growth stage of our business and growing quickly internationally.  Therefore, the position is bursting with opportunity for the right person entering the business at the right time. 90 Seconds, the worlds Cloud Video Production Service - http://90#URL_fbe6559afac620a3cd2c22281f7b8d0eef56a73e3d9a311e2f1ca13d081dd630#90 Seconds is the worlds Cloud Video Production Service enabling brands and agencies to get high quality online video content shot and produced anywhere in the world. Fast, affordable, and all managed seamlessly in the cloud from purchase to publish. 90 Seconds removes the hassle, cost, risk and speed issues of working with regular video production companies by managing every aspect of video projects in a beautiful online experience.  With a growing network of over 2,000 rated video professionals in over 50 countries and dedicated production success teams in 5 countries guaranteeing video project success 100%. It's as easy as commissioning a quick google adwords campaign.90 Seconds has produced almost 4,000 videos in over 30 Countries for over 500 Global brands including some of the worlds largest including Paypal, L'oreal, Sony and Barclays and has offices in Auckland, London, Sydney, Tokyo &amp;amp; Singapore.Our Auckland office is based right in the heart of the Wynyard Quarter Innovation Precinct - GridAKL!</td>\n",
       "      <td>What we expect from you:Your key responsibility will be to communicate with the client, 90 Seconds team and freelance community throughout the video production process including, shoot planning, securing freelance talent, managing workflow and the online production management system.  The aim is to manage each video project effectively so that we produce great videos that our clients love.Key attributesClient focused - excellent customer service and communication skillsOnline - oustanding computer knowledge and experience using online software and project management toolsOrganised - manage workload and able to multi-task100% attention to detailMotivated - self-starter with a passion for doing excellent work and achieving great resultsAdaptable - show initiative and think on your feet as this is a constantly evolving atmosphereFlexible - fast turnaround work and after hours availabilityEasy going &amp;amp; upbeat - dosen't get bogged down and loves the challengeSense of Humour - have a laugh and know that working in a startup takes guts!Ability to deliver - including meeting project deadlines and budgetAttitude is more important than experience at 90 Seconds, however previous experience in customer service and/or project management is beneficialPlease view our platform / website at #URL_395a8683a907ce95f49a12fb240e6e47ad8d5a4f96d07ebbd869c4dd4dea1826# and get a clear understand about what we do before reaching out.</td>\n",
       "      <td>What you will get from usThrough being part of the 90 Seconds team you will gain:experience working on projects located around the world with an international brandexperience working with a variety of clients and on a large range of projectsopportunity to drive and grow production function and teama positive working environment with a great teamPay$40,000-$55,000Applying for this role with a VIDEOBeing a video business, we understand that one of the quickest ways that we can assess your suitability for this role, and one of the quickest ways that you can apply for it, is for you to submit a 60-90 second long video telling us about yourself, your experience and why you think you would be perfect for the role.  It’s not about being a filmmaker or making a really creative video.  A simple video filmed with a smart phone or web cam will be fine. Please also include where you are based and when you can start.You can upload the video onto YouTube or Vimeo (or similar) as a Draft or Live link.APPLICATIONS DUE by 5pm on Wednesday 18th July 2014 - Once you have a video ready, apply for this role via the following link together with a cover letter and your CV. After we have watched your video and get an idea of your suitability for the role, we will email the shortlisted candidates</td>\n",
       "      <td>0</td>\n",
       "      <td>1</td>\n",
       "      <td>0</td>\n",
       "      <td>Full-time</td>\n",
       "      <td>Not Applicable</td>\n",
       "      <td>None</td>\n",
       "      <td>Marketing and Advertising</td>\n",
       "      <td>Customer Service</td>\n",
       "      <td>0</td>\n",
       "      <td>NZ</td>\n",
       "    </tr>\n",
       "    <tr>\n",
       "      <th>2</th>\n",
       "      <td>3</td>\n",
       "      <td>Commissioning Machinery Assistant (CMA)</td>\n",
       "      <td>US, IA, Wever</td>\n",
       "      <td>None</td>\n",
       "      <td>None</td>\n",
       "      <td>Valor Services provides Workforce Solutions that meet the needs of companies across the Private Sector, with a special focus on the Oil &amp;amp; Gas Industry. Valor Services will be involved with you throughout every step of the hiring process and remain in contact with you all the way through the final step of signing of the employment contract with your new employer. Valor Services was founded with the vision of employing the unique skills, experiences, and qualities of America’s finest veterans to provide Private Sector companies with precise and concerted value-added services – and America’s finest Veterans with an optimized career opportunity.We are eager to get the word out to veterans that there are ample opportunities for employment in the private sector and that you are the ideal candidates to fill those positions. Valor Services Your Success is Our Mission. ™</td>\n",
       "      <td>Our client, located in Houston, is actively seeking an experienced Commissioning Machinery Assistant that possesses strong supervisory skills and has an attention to detail. A strong dedication to safety is a must. The ideal candidate will execute all activities while complying with quality requirements and health, environmental, and safety regulations.</td>\n",
       "      <td>Implement pre-commissioning and commissioning procedures for rotary equipment.Execute all activities with subcontractor’s assigned crew that pertains to the discipline.Ensure effective utilization of commissioning manpower and consumables.Ensure the execution of vendor specialists' field activities with the assigned resources from the sub-contractor per vendor’s representative plans.Carry out equipment inspections with client representatives and ensure proper certification is produced.Prepare forms for all pending tests and submit signed certificates for final hand over to the certification engineer for QA and QC.Coordinate in the field with vendor representatives.Keep records of all activities.Ensure that safety practices are strictly followed during the execution of activities.Report progress and constraints to the mechanical supervisor.Possible authorization by site manager to receive or issue a Permit To Work according to project Permit To Work procedures.Assist supervisor to expedite pending punch-list items in accordance with the commissioning manager’s priorities.Assist supervisor to coordinate and supervise construction-support activities during pre-commissioning and commissioning activities.Company Overview:Our client is a premiere engineering, construction, and procurement company that executes large-scale projects internationally.</td>\n",
       "      <td>None</td>\n",
       "      <td>0</td>\n",
       "      <td>1</td>\n",
       "      <td>0</td>\n",
       "      <td>None</td>\n",
       "      <td>None</td>\n",
       "      <td>None</td>\n",
       "      <td>None</td>\n",
       "      <td>None</td>\n",
       "      <td>0</td>\n",
       "      <td>US</td>\n",
       "    </tr>\n",
       "    <tr>\n",
       "      <th>3</th>\n",
       "      <td>4</td>\n",
       "      <td>Account Executive - Washington DC</td>\n",
       "      <td>US, DC, Washington</td>\n",
       "      <td>Sales</td>\n",
       "      <td>None</td>\n",
       "      <td>Our passion for improving quality of life through geography is at the heart of everything we do.  Esri’s geographic information system (GIS) technology inspires and enables governments, universities and businesses worldwide to save money, lives and our environment through a deeper understanding of the changing world around them.Carefully managed growth and zero debt give Esri stability that is uncommon in today's volatile business world.  Privately held, we offer exceptional benefits, competitive salaries, 401(k) and profit-sharing programs, opportunities for personal and professional growth, and much more.</td>\n",
       "      <td>THE COMPANY: ESRI – Environmental Systems Research InstituteOur passion for improving quality of life through geography is at the heart of everything we do.  Esri’s geographic information system (GIS) technology inspires and enables governments, universities and businesses worldwide to save money, lives and our environment through a deeper understanding of the changing world around them.Carefully managed growth and zero debt give Esri stability that is uncommon in today's volatile business world.  Privately held, we offer exceptional benefits, competitive salaries, 401(k) and profit-sharing programs, opportunities for personal and professional growth, and much more.THE OPPORTUNITY: Account ExecutiveAs a member of the Sales Division, you will work collaboratively with an account team in order to sell and promote adoption of Esri’s ArcGIS platform within an organization. As part of an account team, you will be responsible for facilitating the development and execution of a set of strategies for a defined portfolio of accounts. When executing these strategies you will utilize your experience in enterprise sales to help customers leverage geospatial information and technology to achieve their business goals. Specifically…Prospect and develop opportunities to partner with key stakeholders to envision, develop, and implement a location strategy for their organizationClearly articulate the strength and value proposition of the ArcGIS platformDevelop and maintain a healthy pipeline of opportunities for business growthDemonstrate a thoughtful understanding of insightful industry knowledge and how GIS applies to initiatives, trends, and triggersUnderstand the key business drivers within an organization and identify key business stakeholdersUnderstand your customers’ budgeting and acquisition processesSuccessfully execute the account management process including account prioritization, account resourcing, and account planningSuccessfully execute the sales process for all opportunitiesLeverage and lead an account team consisting of sales and other cross-divisional resources to define and execute an account strategyEffectively utilize and leverage the CRM to manage opportunities and drive the buying processPursue professional and personal development to ensure competitive knowledge of the real estate industryLeverage social media to successfully prospect and build a professional networkParticipate in trade shows, workshops, and seminars (as required)Support visual story telling through effective whiteboard sessionsBe resourceful and takes initiative to resolve issues</td>\n",
       "      <td>EDUCATION: Bachelor’s or Master’s in GIS, business administration, or a related field, or equivalent work experience, depending on position levelEXPERIENCE: 5+ years of enterprise sales experience providing platform solutions to businessesDemonstrated experience in managing the sales cycle including prospecting, proposing, and closingAbility to adapt to new technology trends and translate them into solutions that address customer needsDemonstrated experience with strong partnerships and advocacy with customersExcellent presentation, white boarding, and negotiation skills including good listening, probing, and qualification abilitiesExperience executing insight selling methodologiesDemonstrated understanding and mitigation of competitive threatsExcellent written and verbal communication and interpersonal skillsAbility to manage and prioritize your activitiesDemonstrated experience to lead executive engagements to provide services and sell to the real estate industryKnowledge of the real estate industry fiscal year, budgeting, and procurement cycleHighly motivated team player with a mature, positive attitude and passion to meet the challenges and opportunities of a businessAbility to travel domestically and/or internationally up to 50%General knowledge of spatial analysis and problem solvingResults oriented; ability to write and craft smart, attainable, realistic, time-driven goals with clear lead indicators</td>\n",
       "      <td>Our culture is anything but corporate—we have a collaborative, creative environment; phone directories organized by first name; a relaxed dress code; and open-door policies.A Place to ThrivePassionate people who strive to make a differenceCasual dress codeFlexible work schedulesSupport for continuing educationCollege-Like CampusA network of buildings amid lush landscaping and numerous outdoor patio areasOn-site café including a Starbucks coffee bar and lounge areaFitness center available 24/7Comprehensive reference library and GIS bibliographyState-of-the-art conference center to host staff and guest speakers Green InitiativesSolar rooftop panels reduce carbon emissionsElectric vehicles provide on-campus transportationHundreds of trees reduce the cost of cooling buildings</td>\n",
       "      <td>0</td>\n",
       "      <td>1</td>\n",
       "      <td>0</td>\n",
       "      <td>Full-time</td>\n",
       "      <td>Mid-Senior level</td>\n",
       "      <td>Bachelor's Degree</td>\n",
       "      <td>Computer Software</td>\n",
       "      <td>Sales</td>\n",
       "      <td>0</td>\n",
       "      <td>US</td>\n",
       "    </tr>\n",
       "  </tbody>\n",
       "</table>\n",
       "</div>"
      ],
      "text/plain": [
       "   job_id                                      title            location  \\\n",
       "0       1                           Marketing Intern    US, NY, New York   \n",
       "1       2  Customer Service - Cloud Video Production      NZ, , Auckland   \n",
       "2       3    Commissioning Machinery Assistant (CMA)       US, IA, Wever   \n",
       "3       4          Account Executive - Washington DC  US, DC, Washington   \n",
       "\n",
       "  department salary_range  \\\n",
       "0  Marketing         None   \n",
       "1    Success         None   \n",
       "2       None         None   \n",
       "3      Sales         None   \n",
       "\n",
       "                                                                                                                                                                                                                                                                                                                                                                                                                                                                                                                                                                                                                                                                                                                                                                                                                                                                                                                                                                                                                                                                                                                                                                                                                                                                                                                          company_profile  \\\n",
       "0                                                                                                                                                                                                                                                                                                                                                                                                                   We're Food52, and we've created a groundbreaking and award-winning cooking site. We support, connect, and celebrate home cooks, and give them everything they need in one place.We have a top editorial, business, and engineering team. We're focused on using technology to find new and better ways to connect people around their specific food interests, and to offer them superb, highly curated information about food and cooking. We attract the most talented home cooks and contributors in the country; we also publish well-known professionals like Mario Batali, Gwyneth Paltrow, and Danny Meyer. And we have partnerships with Whole Foods Market and Random House.Food52 has been named the best food website by the James Beard Foundation and IACP, and has been featured in the New York Times, NPR, Pando Daily, TechCrunch, and on the Today Show.We're located in Chelsea, in New York City.   \n",
       "1  90 Seconds, the worlds Cloud Video Production Service.90 Seconds is the worlds Cloud Video Production Service enabling brands and agencies to get high quality online video content shot and produced anywhere in the world. 90 Seconds makes video production fast, affordable, and all managed seamlessly in the cloud from purchase to publish. http://90#URL_fbe6559afac620a3cd2c22281f7b8d0eef56a73e3d9a311e2f1ca13d081dd630#90 Seconds removes the hassle, cost, risk and speed issues of working with regular video production companies by managing every aspect of video projects in a beautiful online experience. With a growing global network of over 2,000 rated video professionals in over 50 countries managed by dedicated production success teams in 5 countries, 90 Seconds provides a 100% success guarantee.90 Seconds has produced almost 4,000 videos in over 30 Countries for over 500 Global brands including some of the worlds largest including Paypal, L’Oreal, Sony and Barclays and has offices in Auckland, London, Sydney, Tokyo and Singapore.http://90#URL_fbe6559afac620a3cd2c22281f7b8d0eef56a73e3d9a311e2f1ca13d081dd630# | http://90#URL_e2ad0bde3f09a0913a486abdbb1e6ac373bb3310f64b1fbcf550049bcba4a17b# | http://90#URL_8c5dd1806f97ab90876d9daebeb430f682dbc87e2f01549b47e96c7bff2ea17e#    \n",
       "2                                                                                                                                                                                                                                                                                                                                                                                                                         Valor Services provides Workforce Solutions that meet the needs of companies across the Private Sector, with a special focus on the Oil &amp; Gas Industry. Valor Services will be involved with you throughout every step of the hiring process and remain in contact with you all the way through the final step of signing of the employment contract with your new employer. Valor Services was founded with the vision of employing the unique skills, experiences, and qualities of America’s finest veterans to provide Private Sector companies with precise and concerted value-added services – and America’s finest Veterans with an optimized career opportunity.We are eager to get the word out to veterans that there are ample opportunities for employment in the private sector and that you are the ideal candidates to fill those positions. Valor Services Your Success is Our Mission. ™    \n",
       "3                                                                                                                                                                                                                                                                                                                                                                                                                                                                                                                                                                                                                                                                                                  Our passion for improving quality of life through geography is at the heart of everything we do.  Esri’s geographic information system (GIS) technology inspires and enables governments, universities and businesses worldwide to save money, lives and our environment through a deeper understanding of the changing world around them.Carefully managed growth and zero debt give Esri stability that is uncommon in today's volatile business world.  Privately held, we offer exceptional benefits, competitive salaries, 401(k) and profit-sharing programs, opportunities for personal and professional growth, and much more.   \n",
       "\n",
       "                                                                                                                                                                                                                                                                                                                                                                                                                                                                                                                                                                                                                                                                                                                                                                                                                                                                                                                                                                                                                                                                                                                                                                                                                                                                                                                                                                                                                                                                                                                                                                                                                                                                                                                                                                                                                                                                                                                                                                                                                                                                                                                                                                                                                                                                                                                                                                                                                                                                                                                                                                                                                                                                                                description  \\\n",
       "0                                                                                                                                                                                                                                                                                                                                                                                                                                                                                                                                                                                                                                                                                                                                                                                                                                                                                                                                                                                                                                                                                                                                                                                                                                                                                                                                                                                                                                                                                                                                                                                                                                                                                                                                                                 Food52, a fast-growing, James Beard Award-winning online food community and crowd-sourced and curated recipe hub, is currently interviewing full- and part-time unpaid interns to work in a small team of editors, executives, and developers in its New York City headquarters.Reproducing and/or repackaging existing Food52 content for a number of partner sites, such as Huffington Post, Yahoo, Buzzfeed, and more in their various content management systemsResearching blogs and websites for the Provisions by Food52 Affiliate ProgramAssisting in day-to-day affiliate program support, such as screening affiliates and assisting in any affiliate inquiriesSupporting with PR &amp; Events when neededHelping with office administrative work, such as filing, mailing, and preparing for meetingsWorking with developers to document bugs and suggest improvements to the siteSupporting the marketing and executive staff   \n",
       "1                                                                                                                                                                                                                                                                                                                                                                                                                                                                                                                                             Organised - Focused - Vibrant - Awesome!Do you have a passion for customer service? Slick typing skills? Maybe Account Management? ...And think administration is cooler than a polar bear on a jetski? Then we need to hear you! We are the Cloud Video Production Service and opperating on a glodal level. Yeah, it's pretty cool. Serious about delivering a world class product and excellent customer service.Our rapidly expanding business is looking for a talented Project Manager to manage the successful delivery of video projects, manage client communications and drive the production process. Work with some of the coolest brands on the planet and learn from a global team that are representing NZ is a huge way!We are entering the next growth stage of our business and growing quickly internationally.  Therefore, the position is bursting with opportunity for the right person entering the business at the right time. 90 Seconds, the worlds Cloud Video Production Service - http://90#URL_fbe6559afac620a3cd2c22281f7b8d0eef56a73e3d9a311e2f1ca13d081dd630#90 Seconds is the worlds Cloud Video Production Service enabling brands and agencies to get high quality online video content shot and produced anywhere in the world. Fast, affordable, and all managed seamlessly in the cloud from purchase to publish. 90 Seconds removes the hassle, cost, risk and speed issues of working with regular video production companies by managing every aspect of video projects in a beautiful online experience.  With a growing network of over 2,000 rated video professionals in over 50 countries and dedicated production success teams in 5 countries guaranteeing video project success 100%. It's as easy as commissioning a quick google adwords campaign.90 Seconds has produced almost 4,000 videos in over 30 Countries for over 500 Global brands including some of the worlds largest including Paypal, L'oreal, Sony and Barclays and has offices in Auckland, London, Sydney, Tokyo &amp; Singapore.Our Auckland office is based right in the heart of the Wynyard Quarter Innovation Precinct - GridAKL!    \n",
       "2                                                                                                                                                                                                                                                                                                                                                                                                                                                                                                                                                                                                                                                                                                                                                                                                                                                                                                                                                                                                                                                                                                                                                                                                                                                                                                                                                                                                                                                                                                                                                                                                                                                                                                                                                                                                                                                                                                                                                                                                                                                                                                                                                                                                                                                                                                                                       Our client, located in Houston, is actively seeking an experienced Commissioning Machinery Assistant that possesses strong supervisory skills and has an attention to detail. A strong dedication to safety is a must. The ideal candidate will execute all activities while complying with quality requirements and health, environmental, and safety regulations.   \n",
       "3  THE COMPANY: ESRI – Environmental Systems Research InstituteOur passion for improving quality of life through geography is at the heart of everything we do.  Esri’s geographic information system (GIS) technology inspires and enables governments, universities and businesses worldwide to save money, lives and our environment through a deeper understanding of the changing world around them.Carefully managed growth and zero debt give Esri stability that is uncommon in today's volatile business world.  Privately held, we offer exceptional benefits, competitive salaries, 401(k) and profit-sharing programs, opportunities for personal and professional growth, and much more.THE OPPORTUNITY: Account ExecutiveAs a member of the Sales Division, you will work collaboratively with an account team in order to sell and promote adoption of Esri’s ArcGIS platform within an organization. As part of an account team, you will be responsible for facilitating the development and execution of a set of strategies for a defined portfolio of accounts. When executing these strategies you will utilize your experience in enterprise sales to help customers leverage geospatial information and technology to achieve their business goals. Specifically…Prospect and develop opportunities to partner with key stakeholders to envision, develop, and implement a location strategy for their organizationClearly articulate the strength and value proposition of the ArcGIS platformDevelop and maintain a healthy pipeline of opportunities for business growthDemonstrate a thoughtful understanding of insightful industry knowledge and how GIS applies to initiatives, trends, and triggersUnderstand the key business drivers within an organization and identify key business stakeholdersUnderstand your customers’ budgeting and acquisition processesSuccessfully execute the account management process including account prioritization, account resourcing, and account planningSuccessfully execute the sales process for all opportunitiesLeverage and lead an account team consisting of sales and other cross-divisional resources to define and execute an account strategyEffectively utilize and leverage the CRM to manage opportunities and drive the buying processPursue professional and personal development to ensure competitive knowledge of the real estate industryLeverage social media to successfully prospect and build a professional networkParticipate in trade shows, workshops, and seminars (as required)Support visual story telling through effective whiteboard sessionsBe resourceful and takes initiative to resolve issues   \n",
       "\n",
       "                                                                                                                                                                                                                                                                                                                                                                                                                                                                                                                                                                                                                                                                                                                                                                                                                                                                                                                                                                                                                                                                                                                                                                                                                                                                                                                                                                                                                                                                                requirements  \\\n",
       "0                                                                                                                                                                                                                                                                                                                                                                                                                                                                                                                                                                                                       Experience with content management systems a major plus (any blogging counts!)Familiar with the Food52 editorial voice and aestheticLoves food, appreciates the importance of home cooking and cooking with the seasonsMeticulous editor, perfectionist, obsessive attention to detail, maddened by typos and broken links, delighted by finding and fixing themCheerful under pressureExcellent communication skillsA+ multi-tasker and juggler of responsibilities big and smallInterested in and engaged with social media like Twitter, Facebook, and PinterestLoves problem-solving and collaborating to drive Food52 forwardThinks big picture but pitches in on the nitty gritty of running a small company (dishes, shopping, administrative support)Comfortable with the realities of working for a startup: being on call on evenings and weekends, and working long hours   \n",
       "1  What we expect from you:Your key responsibility will be to communicate with the client, 90 Seconds team and freelance community throughout the video production process including, shoot planning, securing freelance talent, managing workflow and the online production management system.  The aim is to manage each video project effectively so that we produce great videos that our clients love.Key attributesClient focused - excellent customer service and communication skillsOnline - oustanding computer knowledge and experience using online software and project management toolsOrganised - manage workload and able to multi-task100% attention to detailMotivated - self-starter with a passion for doing excellent work and achieving great resultsAdaptable - show initiative and think on your feet as this is a constantly evolving atmosphereFlexible - fast turnaround work and after hours availabilityEasy going &amp; upbeat - dosen't get bogged down and loves the challengeSense of Humour - have a laugh and know that working in a startup takes guts!Ability to deliver - including meeting project deadlines and budgetAttitude is more important than experience at 90 Seconds, however previous experience in customer service and/or project management is beneficialPlease view our platform / website at #URL_395a8683a907ce95f49a12fb240e6e47ad8d5a4f96d07ebbd869c4dd4dea1826# and get a clear understand about what we do before reaching out.   \n",
       "2                                                                        Implement pre-commissioning and commissioning procedures for rotary equipment.Execute all activities with subcontractor’s assigned crew that pertains to the discipline.Ensure effective utilization of commissioning manpower and consumables.Ensure the execution of vendor specialists' field activities with the assigned resources from the sub-contractor per vendor’s representative plans.Carry out equipment inspections with client representatives and ensure proper certification is produced.Prepare forms for all pending tests and submit signed certificates for final hand over to the certification engineer for QA and QC.Coordinate in the field with vendor representatives.Keep records of all activities.Ensure that safety practices are strictly followed during the execution of activities.Report progress and constraints to the mechanical supervisor.Possible authorization by site manager to receive or issue a Permit To Work according to project Permit To Work procedures.Assist supervisor to expedite pending punch-list items in accordance with the commissioning manager’s priorities.Assist supervisor to coordinate and supervise construction-support activities during pre-commissioning and commissioning activities.Company Overview:Our client is a premiere engineering, construction, and procurement company that executes large-scale projects internationally.   \n",
       "3      EDUCATION: Bachelor’s or Master’s in GIS, business administration, or a related field, or equivalent work experience, depending on position levelEXPERIENCE: 5+ years of enterprise sales experience providing platform solutions to businessesDemonstrated experience in managing the sales cycle including prospecting, proposing, and closingAbility to adapt to new technology trends and translate them into solutions that address customer needsDemonstrated experience with strong partnerships and advocacy with customersExcellent presentation, white boarding, and negotiation skills including good listening, probing, and qualification abilitiesExperience executing insight selling methodologiesDemonstrated understanding and mitigation of competitive threatsExcellent written and verbal communication and interpersonal skillsAbility to manage and prioritize your activitiesDemonstrated experience to lead executive engagements to provide services and sell to the real estate industryKnowledge of the real estate industry fiscal year, budgeting, and procurement cycleHighly motivated team player with a mature, positive attitude and passion to meet the challenges and opportunities of a businessAbility to travel domestically and/or internationally up to 50%General knowledge of spatial analysis and problem solvingResults oriented; ability to write and craft smart, attainable, realistic, time-driven goals with clear lead indicators   \n",
       "\n",
       "                                                                                                                                                                                                                                                                                                                                                                                                                                                                                                                                                                                                                                                                                                                                                                                                                                                                                                                                                                                                                                                                                                                                                                                                                                                                                                                                       benefits  \\\n",
       "0                                                                                                                                                                                                                                                                                                                                                                                                                                                                                                                                                                                                                                                                                                                                                                                                                                                                                                                                                                                                                                                                                                                                                                                                                                                                                                                                          None   \n",
       "1  What you will get from usThrough being part of the 90 Seconds team you will gain:experience working on projects located around the world with an international brandexperience working with a variety of clients and on a large range of projectsopportunity to drive and grow production function and teama positive working environment with a great teamPay$40,000-$55,000Applying for this role with a VIDEOBeing a video business, we understand that one of the quickest ways that we can assess your suitability for this role, and one of the quickest ways that you can apply for it, is for you to submit a 60-90 second long video telling us about yourself, your experience and why you think you would be perfect for the role.  It’s not about being a filmmaker or making a really creative video.  A simple video filmed with a smart phone or web cam will be fine. Please also include where you are based and when you can start.You can upload the video onto YouTube or Vimeo (or similar) as a Draft or Live link.APPLICATIONS DUE by 5pm on Wednesday 18th July 2014 - Once you have a video ready, apply for this role via the following link together with a cover letter and your CV. After we have watched your video and get an idea of your suitability for the role, we will email the shortlisted candidates   \n",
       "2                                                                                                                                                                                                                                                                                                                                                                                                                                                                                                                                                                                                                                                                                                                                                                                                                                                                                                                                                                                                                                                                                                                                                                                                                                                                                                                                          None   \n",
       "3                                                                                                                                                                                                                                                                                                                                                                                                                                                                                                                                Our culture is anything but corporate—we have a collaborative, creative environment; phone directories organized by first name; a relaxed dress code; and open-door policies.A Place to ThrivePassionate people who strive to make a differenceCasual dress codeFlexible work schedulesSupport for continuing educationCollege-Like CampusA network of buildings amid lush landscaping and numerous outdoor patio areasOn-site café including a Starbucks coffee bar and lounge areaFitness center available 24/7Comprehensive reference library and GIS bibliographyState-of-the-art conference center to host staff and guest speakers Green InitiativesSolar rooftop panels reduce carbon emissionsElectric vehicles provide on-campus transportationHundreds of trees reduce the cost of cooling buildings   \n",
       "\n",
       "  telecommuting has_company_logo has_questions employment_type  \\\n",
       "0             0                1             0           Other   \n",
       "1             0                1             0       Full-time   \n",
       "2             0                1             0            None   \n",
       "3             0                1             0       Full-time   \n",
       "\n",
       "  required_experience required_education                   industry  \\\n",
       "0          Internship               None                       None   \n",
       "1      Not Applicable               None  Marketing and Advertising   \n",
       "2                None               None                       None   \n",
       "3    Mid-Senior level  Bachelor's Degree          Computer Software   \n",
       "\n",
       "           function fraudulent country  \n",
       "0         Marketing          0      US  \n",
       "1  Customer Service          0      NZ  \n",
       "2              None          0      US  \n",
       "3             Sales          0      US  "
      ]
     },
     "execution_count": 11,
     "metadata": {},
     "output_type": "execute_result"
    }
   ],
   "source": [
    "df = df.withColumn('country', split(col('location'), ',')[0])\n",
    "\n",
    "df.limit(4).toPandas()"
   ]
  },
  {
   "cell_type": "code",
   "execution_count": 12,
   "metadata": {},
   "outputs": [
    {
     "name": "stdout",
     "output_type": "stream",
     "text": [
      "+-------+-----+\n",
      "|country|count|\n",
      "+-------+-----+\n",
      "|     US|10170|\n",
      "|     GB| 2253|\n",
      "|     GR|  862|\n",
      "|     CA|  424|\n",
      "|     DE|  368|\n",
      "+-------+-----+\n",
      "only showing top 5 rows\n",
      "\n"
     ]
    }
   ],
   "source": [
    "df.groupBy(\"country\").count().orderBy(desc(\"count\")).show(5)"
   ]
  },
  {
   "cell_type": "markdown",
   "metadata": {},
   "source": [
    "Now, we will check for nulls and see how we can use them for feature selection and how can we fill them."
   ]
  },
  {
   "cell_type": "markdown",
   "metadata": {},
   "source": [
    "### Checking for Nulls"
   ]
  },
  {
   "cell_type": "code",
   "execution_count": 13,
   "metadata": {},
   "outputs": [
    {
     "data": {
      "text/html": [
       "<div>\n",
       "<style scoped>\n",
       "    .dataframe tbody tr th:only-of-type {\n",
       "        vertical-align: middle;\n",
       "    }\n",
       "\n",
       "    .dataframe tbody tr th {\n",
       "        vertical-align: top;\n",
       "    }\n",
       "\n",
       "    .dataframe thead th {\n",
       "        text-align: right;\n",
       "    }\n",
       "</style>\n",
       "<table border=\"1\" class=\"dataframe\">\n",
       "  <thead>\n",
       "    <tr style=\"text-align: right;\">\n",
       "      <th></th>\n",
       "      <th>job_id</th>\n",
       "      <th>title</th>\n",
       "      <th>location</th>\n",
       "      <th>department</th>\n",
       "      <th>salary_range</th>\n",
       "      <th>company_profile</th>\n",
       "      <th>description</th>\n",
       "      <th>requirements</th>\n",
       "      <th>benefits</th>\n",
       "      <th>telecommuting</th>\n",
       "      <th>has_company_logo</th>\n",
       "      <th>has_questions</th>\n",
       "      <th>employment_type</th>\n",
       "      <th>required_experience</th>\n",
       "      <th>required_education</th>\n",
       "      <th>industry</th>\n",
       "      <th>function</th>\n",
       "      <th>fraudulent</th>\n",
       "      <th>country</th>\n",
       "    </tr>\n",
       "  </thead>\n",
       "  <tbody>\n",
       "    <tr>\n",
       "      <th>0</th>\n",
       "      <td>0</td>\n",
       "      <td>0</td>\n",
       "      <td>337</td>\n",
       "      <td>11039</td>\n",
       "      <td>14258</td>\n",
       "      <td>3206</td>\n",
       "      <td>0</td>\n",
       "      <td>2571</td>\n",
       "      <td>6949</td>\n",
       "      <td>0</td>\n",
       "      <td>0</td>\n",
       "      <td>0</td>\n",
       "      <td>3273</td>\n",
       "      <td>6675</td>\n",
       "      <td>7661</td>\n",
       "      <td>4667</td>\n",
       "      <td>6158</td>\n",
       "      <td>0</td>\n",
       "      <td>337</td>\n",
       "    </tr>\n",
       "  </tbody>\n",
       "</table>\n",
       "</div>"
      ],
      "text/plain": [
       "   job_id  title  location  department  salary_range  company_profile  \\\n",
       "0       0      0       337       11039         14258             3206   \n",
       "\n",
       "   description  requirements  benefits  telecommuting  has_company_logo  \\\n",
       "0            0          2571      6949              0                 0   \n",
       "\n",
       "   has_questions  employment_type  required_experience  required_education  \\\n",
       "0              0             3273                 6675                7661   \n",
       "\n",
       "   industry  function  fraudulent  country  \n",
       "0      4667      6158           0      337  "
      ]
     },
     "execution_count": 13,
     "metadata": {},
     "output_type": "execute_result"
    }
   ],
   "source": [
    "null_counts = df.select([count(when(col(c).isNull(),c)).alias(c) for c in df.columns])\n",
    "null_counts.toPandas()"
   ]
  },
  {
   "cell_type": "code",
   "execution_count": 14,
   "metadata": {},
   "outputs": [
    {
     "name": "stdout",
     "output_type": "stream",
     "text": [
      "+-------------------+-----------------+------------------+\n",
      "|        Column_Name|Null_Values_Count|Null_Value_Percent|\n",
      "+-------------------+-----------------+------------------+\n",
      "|           location|              337|1.9863255923611929|\n",
      "|         department|            11039| 65.06542496758222|\n",
      "|       salary_range|            14258| 84.03866556642697|\n",
      "|    company_profile|             3206| 18.89661676293764|\n",
      "|       requirements|             2571|15.153837085936578|\n",
      "|           benefits|             6949| 40.95838736296122|\n",
      "|    employment_type|             3273| 19.29152422492043|\n",
      "|required_experience|             6675| 39.34339266768832|\n",
      "| required_education|             7661|  45.1550159141813|\n",
      "|           industry|             4667|27.507957090651892|\n",
      "|           function|             6158|36.296121655074856|\n",
      "|            country|              337|1.9863255923611929|\n",
      "+-------------------+-----------------+------------------+\n",
      "\n"
     ]
    }
   ],
   "source": [
    "def null_value_calc(df):\n",
    "    null_columns_counts = []\n",
    "    cols_to_keep = []\n",
    "    numRows = df.count()\n",
    "    for k in df.columns:\n",
    "        nullRows = df.where(col(k).isNull()).count()\n",
    "        if(nullRows > 0):\n",
    "            null_percent = (nullRows/numRows)*100\n",
    "            temp = k,nullRows,null_percent\n",
    "            null_columns_counts.append(temp)\n",
    "            if (null_percent < 20):\n",
    "                cols_to_keep.append(k)\n",
    "        else:\n",
    "            cols_to_keep.append(k)\n",
    "    return(null_columns_counts), cols_to_keep\n",
    "\n",
    "null_columns_calc_list, cols_to_keep = null_value_calc(df)\n",
    "spark.createDataFrame(null_columns_calc_list, ['Column_Name', 'Null_Values_Count','Null_Value_Percent']).show()"
   ]
  },
  {
   "cell_type": "markdown",
   "metadata": {},
   "source": [
    "### Features Selection"
   ]
  },
  {
   "cell_type": "markdown",
   "metadata": {},
   "source": [
    "We will be dropping any column whose null values are greater than 20%, so we will focus on the following columns as calculated from the previous function."
   ]
  },
  {
   "cell_type": "code",
   "execution_count": 15,
   "metadata": {},
   "outputs": [
    {
     "name": "stdout",
     "output_type": "stream",
     "text": [
      "['job_id', 'title', 'location', 'company_profile', 'description', 'requirements', 'telecommuting', 'has_company_logo', 'has_questions', 'employment_type', 'fraudulent', 'country']\n"
     ]
    }
   ],
   "source": [
    "print(cols_to_keep)"
   ]
  },
  {
   "cell_type": "markdown",
   "metadata": {},
   "source": [
    "As location column is in the cols_to_keep, we need to remove it as we already has the country column."
   ]
  },
  {
   "cell_type": "code",
   "execution_count": 16,
   "metadata": {},
   "outputs": [
    {
     "data": {
      "text/plain": [
       "['job_id',\n",
       " 'title',\n",
       " 'company_profile',\n",
       " 'description',\n",
       " 'requirements',\n",
       " 'telecommuting',\n",
       " 'has_company_logo',\n",
       " 'has_questions',\n",
       " 'employment_type',\n",
       " 'fraudulent',\n",
       " 'country']"
      ]
     },
     "execution_count": 16,
     "metadata": {},
     "output_type": "execute_result"
    }
   ],
   "source": [
    "cols_to_keep.remove(\"location\")\n",
    "cols_to_keep"
   ]
  },
  {
   "cell_type": "code",
   "execution_count": 17,
   "metadata": {},
   "outputs": [
    {
     "data": {
      "text/html": [
       "<div>\n",
       "<style scoped>\n",
       "    .dataframe tbody tr th:only-of-type {\n",
       "        vertical-align: middle;\n",
       "    }\n",
       "\n",
       "    .dataframe tbody tr th {\n",
       "        vertical-align: top;\n",
       "    }\n",
       "\n",
       "    .dataframe thead th {\n",
       "        text-align: right;\n",
       "    }\n",
       "</style>\n",
       "<table border=\"1\" class=\"dataframe\">\n",
       "  <thead>\n",
       "    <tr style=\"text-align: right;\">\n",
       "      <th></th>\n",
       "      <th>job_id</th>\n",
       "      <th>title</th>\n",
       "      <th>company_profile</th>\n",
       "      <th>description</th>\n",
       "      <th>requirements</th>\n",
       "      <th>telecommuting</th>\n",
       "      <th>has_company_logo</th>\n",
       "      <th>has_questions</th>\n",
       "      <th>employment_type</th>\n",
       "      <th>fraudulent</th>\n",
       "      <th>country</th>\n",
       "    </tr>\n",
       "  </thead>\n",
       "  <tbody>\n",
       "    <tr>\n",
       "      <th>0</th>\n",
       "      <td>1</td>\n",
       "      <td>Marketing Intern</td>\n",
       "      <td>We're Food52, and we've created a groundbreaking and award-winning cooking site. We support, connect, and celebrate home cooks, and give them everything they need in one place.We have a top editorial, business, and engineering team. We're focused on using technology to find new and better ways to connect people around their specific food interests, and to offer them superb, highly curated information about food and cooking. We attract the most talented home cooks and contributors in the country; we also publish well-known professionals like Mario Batali, Gwyneth Paltrow, and Danny Meyer. And we have partnerships with Whole Foods Market and Random House.Food52 has been named the best food website by the James Beard Foundation and IACP, and has been featured in the New York Times, NPR, Pando Daily, TechCrunch, and on the Today Show.We're located in Chelsea, in New York City.</td>\n",
       "      <td>Food52, a fast-growing, James Beard Award-winning online food community and crowd-sourced and curated recipe hub, is currently interviewing full- and part-time unpaid interns to work in a small team of editors, executives, and developers in its New York City headquarters.Reproducing and/or repackaging existing Food52 content for a number of partner sites, such as Huffington Post, Yahoo, Buzzfeed, and more in their various content management systemsResearching blogs and websites for the Provisions by Food52 Affiliate ProgramAssisting in day-to-day affiliate program support, such as screening affiliates and assisting in any affiliate inquiriesSupporting with PR &amp;amp; Events when neededHelping with office administrative work, such as filing, mailing, and preparing for meetingsWorking with developers to document bugs and suggest improvements to the siteSupporting the marketing and executive staff</td>\n",
       "      <td>Experience with content management systems a major plus (any blogging counts!)Familiar with the Food52 editorial voice and aestheticLoves food, appreciates the importance of home cooking and cooking with the seasonsMeticulous editor, perfectionist, obsessive attention to detail, maddened by typos and broken links, delighted by finding and fixing themCheerful under pressureExcellent communication skillsA+ multi-tasker and juggler of responsibilities big and smallInterested in and engaged with social media like Twitter, Facebook, and PinterestLoves problem-solving and collaborating to drive Food52 forwardThinks big picture but pitches in on the nitty gritty of running a small company (dishes, shopping, administrative support)Comfortable with the realities of working for a startup: being on call on evenings and weekends, and working long hours</td>\n",
       "      <td>0</td>\n",
       "      <td>1</td>\n",
       "      <td>0</td>\n",
       "      <td>Other</td>\n",
       "      <td>0</td>\n",
       "      <td>US</td>\n",
       "    </tr>\n",
       "    <tr>\n",
       "      <th>1</th>\n",
       "      <td>2</td>\n",
       "      <td>Customer Service - Cloud Video Production</td>\n",
       "      <td>90 Seconds, the worlds Cloud Video Production Service.90 Seconds is the worlds Cloud Video Production Service enabling brands and agencies to get high quality online video content shot and produced anywhere in the world. 90 Seconds makes video production fast, affordable, and all managed seamlessly in the cloud from purchase to publish. http://90#URL_fbe6559afac620a3cd2c22281f7b8d0eef56a73e3d9a311e2f1ca13d081dd630#90 Seconds removes the hassle, cost, risk and speed issues of working with regular video production companies by managing every aspect of video projects in a beautiful online experience. With a growing global network of over 2,000 rated video professionals in over 50 countries managed by dedicated production success teams in 5 countries, 90 Seconds provides a 100% success guarantee.90 Seconds has produced almost 4,000 videos in over 30 Countries for over 500 Global brands including some of the worlds largest including Paypal, L’Oreal, Sony and Barclays and has offices in Auckland, London, Sydney, Tokyo and Singapore.http://90#URL_fbe6559afac620a3cd2c22281f7b8d0eef56a73e3d9a311e2f1ca13d081dd630# | http://90#URL_e2ad0bde3f09a0913a486abdbb1e6ac373bb3310f64b1fbcf550049bcba4a17b# | http://90#URL_8c5dd1806f97ab90876d9daebeb430f682dbc87e2f01549b47e96c7bff2ea17e#</td>\n",
       "      <td>Organised - Focused - Vibrant - Awesome!Do you have a passion for customer service? Slick typing skills? Maybe Account Management? ...And think administration is cooler than a polar bear on a jetski? Then we need to hear you! We are the Cloud Video Production Service and opperating on a glodal level. Yeah, it's pretty cool. Serious about delivering a world class product and excellent customer service.Our rapidly expanding business is looking for a talented Project Manager to manage the successful delivery of video projects, manage client communications and drive the production process. Work with some of the coolest brands on the planet and learn from a global team that are representing NZ is a huge way!We are entering the next growth stage of our business and growing quickly internationally.  Therefore, the position is bursting with opportunity for the right person entering the business at the right time. 90 Seconds, the worlds Cloud Video Production Service - http://90#URL_fbe6559afac620a3cd2c22281f7b8d0eef56a73e3d9a311e2f1ca13d081dd630#90 Seconds is the worlds Cloud Video Production Service enabling brands and agencies to get high quality online video content shot and produced anywhere in the world. Fast, affordable, and all managed seamlessly in the cloud from purchase to publish. 90 Seconds removes the hassle, cost, risk and speed issues of working with regular video production companies by managing every aspect of video projects in a beautiful online experience.  With a growing network of over 2,000 rated video professionals in over 50 countries and dedicated production success teams in 5 countries guaranteeing video project success 100%. It's as easy as commissioning a quick google adwords campaign.90 Seconds has produced almost 4,000 videos in over 30 Countries for over 500 Global brands including some of the worlds largest including Paypal, L'oreal, Sony and Barclays and has offices in Auckland, London, Sydney, Tokyo &amp;amp; Singapore.Our Auckland office is based right in the heart of the Wynyard Quarter Innovation Precinct - GridAKL!</td>\n",
       "      <td>What we expect from you:Your key responsibility will be to communicate with the client, 90 Seconds team and freelance community throughout the video production process including, shoot planning, securing freelance talent, managing workflow and the online production management system.  The aim is to manage each video project effectively so that we produce great videos that our clients love.Key attributesClient focused - excellent customer service and communication skillsOnline - oustanding computer knowledge and experience using online software and project management toolsOrganised - manage workload and able to multi-task100% attention to detailMotivated - self-starter with a passion for doing excellent work and achieving great resultsAdaptable - show initiative and think on your feet as this is a constantly evolving atmosphereFlexible - fast turnaround work and after hours availabilityEasy going &amp;amp; upbeat - dosen't get bogged down and loves the challengeSense of Humour - have a laugh and know that working in a startup takes guts!Ability to deliver - including meeting project deadlines and budgetAttitude is more important than experience at 90 Seconds, however previous experience in customer service and/or project management is beneficialPlease view our platform / website at #URL_395a8683a907ce95f49a12fb240e6e47ad8d5a4f96d07ebbd869c4dd4dea1826# and get a clear understand about what we do before reaching out.</td>\n",
       "      <td>0</td>\n",
       "      <td>1</td>\n",
       "      <td>0</td>\n",
       "      <td>Full-time</td>\n",
       "      <td>0</td>\n",
       "      <td>NZ</td>\n",
       "    </tr>\n",
       "    <tr>\n",
       "      <th>2</th>\n",
       "      <td>3</td>\n",
       "      <td>Commissioning Machinery Assistant (CMA)</td>\n",
       "      <td>Valor Services provides Workforce Solutions that meet the needs of companies across the Private Sector, with a special focus on the Oil &amp;amp; Gas Industry. Valor Services will be involved with you throughout every step of the hiring process and remain in contact with you all the way through the final step of signing of the employment contract with your new employer. Valor Services was founded with the vision of employing the unique skills, experiences, and qualities of America’s finest veterans to provide Private Sector companies with precise and concerted value-added services – and America’s finest Veterans with an optimized career opportunity.We are eager to get the word out to veterans that there are ample opportunities for employment in the private sector and that you are the ideal candidates to fill those positions. Valor Services Your Success is Our Mission. ™</td>\n",
       "      <td>Our client, located in Houston, is actively seeking an experienced Commissioning Machinery Assistant that possesses strong supervisory skills and has an attention to detail. A strong dedication to safety is a must. The ideal candidate will execute all activities while complying with quality requirements and health, environmental, and safety regulations.</td>\n",
       "      <td>Implement pre-commissioning and commissioning procedures for rotary equipment.Execute all activities with subcontractor’s assigned crew that pertains to the discipline.Ensure effective utilization of commissioning manpower and consumables.Ensure the execution of vendor specialists' field activities with the assigned resources from the sub-contractor per vendor’s representative plans.Carry out equipment inspections with client representatives and ensure proper certification is produced.Prepare forms for all pending tests and submit signed certificates for final hand over to the certification engineer for QA and QC.Coordinate in the field with vendor representatives.Keep records of all activities.Ensure that safety practices are strictly followed during the execution of activities.Report progress and constraints to the mechanical supervisor.Possible authorization by site manager to receive or issue a Permit To Work according to project Permit To Work procedures.Assist supervisor to expedite pending punch-list items in accordance with the commissioning manager’s priorities.Assist supervisor to coordinate and supervise construction-support activities during pre-commissioning and commissioning activities.Company Overview:Our client is a premiere engineering, construction, and procurement company that executes large-scale projects internationally.</td>\n",
       "      <td>0</td>\n",
       "      <td>1</td>\n",
       "      <td>0</td>\n",
       "      <td>None</td>\n",
       "      <td>0</td>\n",
       "      <td>US</td>\n",
       "    </tr>\n",
       "    <tr>\n",
       "      <th>3</th>\n",
       "      <td>4</td>\n",
       "      <td>Account Executive - Washington DC</td>\n",
       "      <td>Our passion for improving quality of life through geography is at the heart of everything we do.  Esri’s geographic information system (GIS) technology inspires and enables governments, universities and businesses worldwide to save money, lives and our environment through a deeper understanding of the changing world around them.Carefully managed growth and zero debt give Esri stability that is uncommon in today's volatile business world.  Privately held, we offer exceptional benefits, competitive salaries, 401(k) and profit-sharing programs, opportunities for personal and professional growth, and much more.</td>\n",
       "      <td>THE COMPANY: ESRI – Environmental Systems Research InstituteOur passion for improving quality of life through geography is at the heart of everything we do.  Esri’s geographic information system (GIS) technology inspires and enables governments, universities and businesses worldwide to save money, lives and our environment through a deeper understanding of the changing world around them.Carefully managed growth and zero debt give Esri stability that is uncommon in today's volatile business world.  Privately held, we offer exceptional benefits, competitive salaries, 401(k) and profit-sharing programs, opportunities for personal and professional growth, and much more.THE OPPORTUNITY: Account ExecutiveAs a member of the Sales Division, you will work collaboratively with an account team in order to sell and promote adoption of Esri’s ArcGIS platform within an organization. As part of an account team, you will be responsible for facilitating the development and execution of a set of strategies for a defined portfolio of accounts. When executing these strategies you will utilize your experience in enterprise sales to help customers leverage geospatial information and technology to achieve their business goals. Specifically…Prospect and develop opportunities to partner with key stakeholders to envision, develop, and implement a location strategy for their organizationClearly articulate the strength and value proposition of the ArcGIS platformDevelop and maintain a healthy pipeline of opportunities for business growthDemonstrate a thoughtful understanding of insightful industry knowledge and how GIS applies to initiatives, trends, and triggersUnderstand the key business drivers within an organization and identify key business stakeholdersUnderstand your customers’ budgeting and acquisition processesSuccessfully execute the account management process including account prioritization, account resourcing, and account planningSuccessfully execute the sales process for all opportunitiesLeverage and lead an account team consisting of sales and other cross-divisional resources to define and execute an account strategyEffectively utilize and leverage the CRM to manage opportunities and drive the buying processPursue professional and personal development to ensure competitive knowledge of the real estate industryLeverage social media to successfully prospect and build a professional networkParticipate in trade shows, workshops, and seminars (as required)Support visual story telling through effective whiteboard sessionsBe resourceful and takes initiative to resolve issues</td>\n",
       "      <td>EDUCATION: Bachelor’s or Master’s in GIS, business administration, or a related field, or equivalent work experience, depending on position levelEXPERIENCE: 5+ years of enterprise sales experience providing platform solutions to businessesDemonstrated experience in managing the sales cycle including prospecting, proposing, and closingAbility to adapt to new technology trends and translate them into solutions that address customer needsDemonstrated experience with strong partnerships and advocacy with customersExcellent presentation, white boarding, and negotiation skills including good listening, probing, and qualification abilitiesExperience executing insight selling methodologiesDemonstrated understanding and mitigation of competitive threatsExcellent written and verbal communication and interpersonal skillsAbility to manage and prioritize your activitiesDemonstrated experience to lead executive engagements to provide services and sell to the real estate industryKnowledge of the real estate industry fiscal year, budgeting, and procurement cycleHighly motivated team player with a mature, positive attitude and passion to meet the challenges and opportunities of a businessAbility to travel domestically and/or internationally up to 50%General knowledge of spatial analysis and problem solvingResults oriented; ability to write and craft smart, attainable, realistic, time-driven goals with clear lead indicators</td>\n",
       "      <td>0</td>\n",
       "      <td>1</td>\n",
       "      <td>0</td>\n",
       "      <td>Full-time</td>\n",
       "      <td>0</td>\n",
       "      <td>US</td>\n",
       "    </tr>\n",
       "  </tbody>\n",
       "</table>\n",
       "</div>"
      ],
      "text/plain": [
       "   job_id                                      title  \\\n",
       "0       1                           Marketing Intern   \n",
       "1       2  Customer Service - Cloud Video Production   \n",
       "2       3    Commissioning Machinery Assistant (CMA)   \n",
       "3       4          Account Executive - Washington DC   \n",
       "\n",
       "                                                                                                                                                                                                                                                                                                                                                                                                                                                                                                                                                                                                                                                                                                                                                                                                                                                                                                                                                                                                                                                                                                                                                                                                                                                                                                                          company_profile  \\\n",
       "0                                                                                                                                                                                                                                                                                                                                                                                                                   We're Food52, and we've created a groundbreaking and award-winning cooking site. We support, connect, and celebrate home cooks, and give them everything they need in one place.We have a top editorial, business, and engineering team. We're focused on using technology to find new and better ways to connect people around their specific food interests, and to offer them superb, highly curated information about food and cooking. We attract the most talented home cooks and contributors in the country; we also publish well-known professionals like Mario Batali, Gwyneth Paltrow, and Danny Meyer. And we have partnerships with Whole Foods Market and Random House.Food52 has been named the best food website by the James Beard Foundation and IACP, and has been featured in the New York Times, NPR, Pando Daily, TechCrunch, and on the Today Show.We're located in Chelsea, in New York City.   \n",
       "1  90 Seconds, the worlds Cloud Video Production Service.90 Seconds is the worlds Cloud Video Production Service enabling brands and agencies to get high quality online video content shot and produced anywhere in the world. 90 Seconds makes video production fast, affordable, and all managed seamlessly in the cloud from purchase to publish. http://90#URL_fbe6559afac620a3cd2c22281f7b8d0eef56a73e3d9a311e2f1ca13d081dd630#90 Seconds removes the hassle, cost, risk and speed issues of working with regular video production companies by managing every aspect of video projects in a beautiful online experience. With a growing global network of over 2,000 rated video professionals in over 50 countries managed by dedicated production success teams in 5 countries, 90 Seconds provides a 100% success guarantee.90 Seconds has produced almost 4,000 videos in over 30 Countries for over 500 Global brands including some of the worlds largest including Paypal, L’Oreal, Sony and Barclays and has offices in Auckland, London, Sydney, Tokyo and Singapore.http://90#URL_fbe6559afac620a3cd2c22281f7b8d0eef56a73e3d9a311e2f1ca13d081dd630# | http://90#URL_e2ad0bde3f09a0913a486abdbb1e6ac373bb3310f64b1fbcf550049bcba4a17b# | http://90#URL_8c5dd1806f97ab90876d9daebeb430f682dbc87e2f01549b47e96c7bff2ea17e#    \n",
       "2                                                                                                                                                                                                                                                                                                                                                                                                                         Valor Services provides Workforce Solutions that meet the needs of companies across the Private Sector, with a special focus on the Oil &amp; Gas Industry. Valor Services will be involved with you throughout every step of the hiring process and remain in contact with you all the way through the final step of signing of the employment contract with your new employer. Valor Services was founded with the vision of employing the unique skills, experiences, and qualities of America’s finest veterans to provide Private Sector companies with precise and concerted value-added services – and America’s finest Veterans with an optimized career opportunity.We are eager to get the word out to veterans that there are ample opportunities for employment in the private sector and that you are the ideal candidates to fill those positions. Valor Services Your Success is Our Mission. ™    \n",
       "3                                                                                                                                                                                                                                                                                                                                                                                                                                                                                                                                                                                                                                                                                                  Our passion for improving quality of life through geography is at the heart of everything we do.  Esri’s geographic information system (GIS) technology inspires and enables governments, universities and businesses worldwide to save money, lives and our environment through a deeper understanding of the changing world around them.Carefully managed growth and zero debt give Esri stability that is uncommon in today's volatile business world.  Privately held, we offer exceptional benefits, competitive salaries, 401(k) and profit-sharing programs, opportunities for personal and professional growth, and much more.   \n",
       "\n",
       "                                                                                                                                                                                                                                                                                                                                                                                                                                                                                                                                                                                                                                                                                                                                                                                                                                                                                                                                                                                                                                                                                                                                                                                                                                                                                                                                                                                                                                                                                                                                                                                                                                                                                                                                                                                                                                                                                                                                                                                                                                                                                                                                                                                                                                                                                                                                                                                                                                                                                                                                                                                                                                                                                                description  \\\n",
       "0                                                                                                                                                                                                                                                                                                                                                                                                                                                                                                                                                                                                                                                                                                                                                                                                                                                                                                                                                                                                                                                                                                                                                                                                                                                                                                                                                                                                                                                                                                                                                                                                                                                                                                                                                                 Food52, a fast-growing, James Beard Award-winning online food community and crowd-sourced and curated recipe hub, is currently interviewing full- and part-time unpaid interns to work in a small team of editors, executives, and developers in its New York City headquarters.Reproducing and/or repackaging existing Food52 content for a number of partner sites, such as Huffington Post, Yahoo, Buzzfeed, and more in their various content management systemsResearching blogs and websites for the Provisions by Food52 Affiliate ProgramAssisting in day-to-day affiliate program support, such as screening affiliates and assisting in any affiliate inquiriesSupporting with PR &amp; Events when neededHelping with office administrative work, such as filing, mailing, and preparing for meetingsWorking with developers to document bugs and suggest improvements to the siteSupporting the marketing and executive staff   \n",
       "1                                                                                                                                                                                                                                                                                                                                                                                                                                                                                                                                             Organised - Focused - Vibrant - Awesome!Do you have a passion for customer service? Slick typing skills? Maybe Account Management? ...And think administration is cooler than a polar bear on a jetski? Then we need to hear you! We are the Cloud Video Production Service and opperating on a glodal level. Yeah, it's pretty cool. Serious about delivering a world class product and excellent customer service.Our rapidly expanding business is looking for a talented Project Manager to manage the successful delivery of video projects, manage client communications and drive the production process. Work with some of the coolest brands on the planet and learn from a global team that are representing NZ is a huge way!We are entering the next growth stage of our business and growing quickly internationally.  Therefore, the position is bursting with opportunity for the right person entering the business at the right time. 90 Seconds, the worlds Cloud Video Production Service - http://90#URL_fbe6559afac620a3cd2c22281f7b8d0eef56a73e3d9a311e2f1ca13d081dd630#90 Seconds is the worlds Cloud Video Production Service enabling brands and agencies to get high quality online video content shot and produced anywhere in the world. Fast, affordable, and all managed seamlessly in the cloud from purchase to publish. 90 Seconds removes the hassle, cost, risk and speed issues of working with regular video production companies by managing every aspect of video projects in a beautiful online experience.  With a growing network of over 2,000 rated video professionals in over 50 countries and dedicated production success teams in 5 countries guaranteeing video project success 100%. It's as easy as commissioning a quick google adwords campaign.90 Seconds has produced almost 4,000 videos in over 30 Countries for over 500 Global brands including some of the worlds largest including Paypal, L'oreal, Sony and Barclays and has offices in Auckland, London, Sydney, Tokyo &amp; Singapore.Our Auckland office is based right in the heart of the Wynyard Quarter Innovation Precinct - GridAKL!    \n",
       "2                                                                                                                                                                                                                                                                                                                                                                                                                                                                                                                                                                                                                                                                                                                                                                                                                                                                                                                                                                                                                                                                                                                                                                                                                                                                                                                                                                                                                                                                                                                                                                                                                                                                                                                                                                                                                                                                                                                                                                                                                                                                                                                                                                                                                                                                                                                                       Our client, located in Houston, is actively seeking an experienced Commissioning Machinery Assistant that possesses strong supervisory skills and has an attention to detail. A strong dedication to safety is a must. The ideal candidate will execute all activities while complying with quality requirements and health, environmental, and safety regulations.   \n",
       "3  THE COMPANY: ESRI – Environmental Systems Research InstituteOur passion for improving quality of life through geography is at the heart of everything we do.  Esri’s geographic information system (GIS) technology inspires and enables governments, universities and businesses worldwide to save money, lives and our environment through a deeper understanding of the changing world around them.Carefully managed growth and zero debt give Esri stability that is uncommon in today's volatile business world.  Privately held, we offer exceptional benefits, competitive salaries, 401(k) and profit-sharing programs, opportunities for personal and professional growth, and much more.THE OPPORTUNITY: Account ExecutiveAs a member of the Sales Division, you will work collaboratively with an account team in order to sell and promote adoption of Esri’s ArcGIS platform within an organization. As part of an account team, you will be responsible for facilitating the development and execution of a set of strategies for a defined portfolio of accounts. When executing these strategies you will utilize your experience in enterprise sales to help customers leverage geospatial information and technology to achieve their business goals. Specifically…Prospect and develop opportunities to partner with key stakeholders to envision, develop, and implement a location strategy for their organizationClearly articulate the strength and value proposition of the ArcGIS platformDevelop and maintain a healthy pipeline of opportunities for business growthDemonstrate a thoughtful understanding of insightful industry knowledge and how GIS applies to initiatives, trends, and triggersUnderstand the key business drivers within an organization and identify key business stakeholdersUnderstand your customers’ budgeting and acquisition processesSuccessfully execute the account management process including account prioritization, account resourcing, and account planningSuccessfully execute the sales process for all opportunitiesLeverage and lead an account team consisting of sales and other cross-divisional resources to define and execute an account strategyEffectively utilize and leverage the CRM to manage opportunities and drive the buying processPursue professional and personal development to ensure competitive knowledge of the real estate industryLeverage social media to successfully prospect and build a professional networkParticipate in trade shows, workshops, and seminars (as required)Support visual story telling through effective whiteboard sessionsBe resourceful and takes initiative to resolve issues   \n",
       "\n",
       "                                                                                                                                                                                                                                                                                                                                                                                                                                                                                                                                                                                                                                                                                                                                                                                                                                                                                                                                                                                                                                                                                                                                                                                                                                                                                                                                                                                                                                                                                requirements  \\\n",
       "0                                                                                                                                                                                                                                                                                                                                                                                                                                                                                                                                                                                                       Experience with content management systems a major plus (any blogging counts!)Familiar with the Food52 editorial voice and aestheticLoves food, appreciates the importance of home cooking and cooking with the seasonsMeticulous editor, perfectionist, obsessive attention to detail, maddened by typos and broken links, delighted by finding and fixing themCheerful under pressureExcellent communication skillsA+ multi-tasker and juggler of responsibilities big and smallInterested in and engaged with social media like Twitter, Facebook, and PinterestLoves problem-solving and collaborating to drive Food52 forwardThinks big picture but pitches in on the nitty gritty of running a small company (dishes, shopping, administrative support)Comfortable with the realities of working for a startup: being on call on evenings and weekends, and working long hours   \n",
       "1  What we expect from you:Your key responsibility will be to communicate with the client, 90 Seconds team and freelance community throughout the video production process including, shoot planning, securing freelance talent, managing workflow and the online production management system.  The aim is to manage each video project effectively so that we produce great videos that our clients love.Key attributesClient focused - excellent customer service and communication skillsOnline - oustanding computer knowledge and experience using online software and project management toolsOrganised - manage workload and able to multi-task100% attention to detailMotivated - self-starter with a passion for doing excellent work and achieving great resultsAdaptable - show initiative and think on your feet as this is a constantly evolving atmosphereFlexible - fast turnaround work and after hours availabilityEasy going &amp; upbeat - dosen't get bogged down and loves the challengeSense of Humour - have a laugh and know that working in a startup takes guts!Ability to deliver - including meeting project deadlines and budgetAttitude is more important than experience at 90 Seconds, however previous experience in customer service and/or project management is beneficialPlease view our platform / website at #URL_395a8683a907ce95f49a12fb240e6e47ad8d5a4f96d07ebbd869c4dd4dea1826# and get a clear understand about what we do before reaching out.   \n",
       "2                                                                        Implement pre-commissioning and commissioning procedures for rotary equipment.Execute all activities with subcontractor’s assigned crew that pertains to the discipline.Ensure effective utilization of commissioning manpower and consumables.Ensure the execution of vendor specialists' field activities with the assigned resources from the sub-contractor per vendor’s representative plans.Carry out equipment inspections with client representatives and ensure proper certification is produced.Prepare forms for all pending tests and submit signed certificates for final hand over to the certification engineer for QA and QC.Coordinate in the field with vendor representatives.Keep records of all activities.Ensure that safety practices are strictly followed during the execution of activities.Report progress and constraints to the mechanical supervisor.Possible authorization by site manager to receive or issue a Permit To Work according to project Permit To Work procedures.Assist supervisor to expedite pending punch-list items in accordance with the commissioning manager’s priorities.Assist supervisor to coordinate and supervise construction-support activities during pre-commissioning and commissioning activities.Company Overview:Our client is a premiere engineering, construction, and procurement company that executes large-scale projects internationally.   \n",
       "3      EDUCATION: Bachelor’s or Master’s in GIS, business administration, or a related field, or equivalent work experience, depending on position levelEXPERIENCE: 5+ years of enterprise sales experience providing platform solutions to businessesDemonstrated experience in managing the sales cycle including prospecting, proposing, and closingAbility to adapt to new technology trends and translate them into solutions that address customer needsDemonstrated experience with strong partnerships and advocacy with customersExcellent presentation, white boarding, and negotiation skills including good listening, probing, and qualification abilitiesExperience executing insight selling methodologiesDemonstrated understanding and mitigation of competitive threatsExcellent written and verbal communication and interpersonal skillsAbility to manage and prioritize your activitiesDemonstrated experience to lead executive engagements to provide services and sell to the real estate industryKnowledge of the real estate industry fiscal year, budgeting, and procurement cycleHighly motivated team player with a mature, positive attitude and passion to meet the challenges and opportunities of a businessAbility to travel domestically and/or internationally up to 50%General knowledge of spatial analysis and problem solvingResults oriented; ability to write and craft smart, attainable, realistic, time-driven goals with clear lead indicators   \n",
       "\n",
       "  telecommuting has_company_logo has_questions employment_type fraudulent  \\\n",
       "0             0                1             0           Other          0   \n",
       "1             0                1             0       Full-time          0   \n",
       "2             0                1             0            None          0   \n",
       "3             0                1             0       Full-time          0   \n",
       "\n",
       "  country  \n",
       "0      US  \n",
       "1      NZ  \n",
       "2      US  \n",
       "3      US  "
      ]
     },
     "execution_count": 17,
     "metadata": {},
     "output_type": "execute_result"
    }
   ],
   "source": [
    "df = df.select(cols_to_keep)\n",
    "df.limit(4).toPandas()"
   ]
  },
  {
   "cell_type": "markdown",
   "metadata": {},
   "source": [
    "For Handling Nulls that are still present in these columns we will:\n",
    "- For the columns location, company_profile, requirements we will replace nulls by \"unspecified\".\n",
    "- For employment type we will replace nulls  and any category other than (full-time, contract, part-time) by other.\n",
    "<br><br>\n",
    "And we will further handle the string columns using NLP cleaning methods."
   ]
  },
  {
   "cell_type": "code",
   "execution_count": 18,
   "metadata": {},
   "outputs": [
    {
     "name": "stdout",
     "output_type": "stream",
     "text": [
      "+------+--------------------+--------------------+--------------------+--------------------+-------------+----------------+-------------+---------------+----------+-------+\n",
      "|job_id|               title|     company_profile|         description|        requirements|telecommuting|has_company_logo|has_questions|employment_type|fraudulent|country|\n",
      "+------+--------------------+--------------------+--------------------+--------------------+-------------+----------------+-------------+---------------+----------+-------+\n",
      "|     1|    Marketing Intern|We're Food52, and...|Food52, a fast-gr...|Experience with c...|            0|               1|            0|          Other|         0|     US|\n",
      "|     2|Customer Service ...|90 Seconds, the w...|Organised - Focus...|What we expect fr...|            0|               1|            0|      Full-time|         0|     NZ|\n",
      "|     3|Commissioning Mac...|Valor Services pr...|Our client, locat...|Implement pre-com...|            0|               1|            0|          other|         0|     US|\n",
      "|     4|Account Executive...|Our passion for i...|THE COMPANY: ESRI...|EDUCATION: Bachel...|            0|               1|            0|      Full-time|         0|     US|\n",
      "|     5| Bill Review Manager|SpotSource Soluti...|JOB TITLE: Itemiz...|QUALIFICATIONS:RN...|            0|               1|            1|      Full-time|         0|     US|\n",
      "|     6|    Accounting Clerk|         unspecified|Job OverviewApex ...|         unspecified|            0|               0|            0|          other|         0|     US|\n",
      "|     7|Head of Content (...|Founded in 2009, ...|Your Responsibili...|Your Know-How:   ...|            0|               1|            1|      Full-time|         0|     DE|\n",
      "|     8|Lead Guest Servic...|Airenvy’s mission...|Who is Airenvy?He...|Experience with C...|            0|               1|            1|          other|         0|     US|\n",
      "|     9|          HP BSM SME|Solutions3 is a w...|Implementation/Co...|MUST BE A US CITI...|            0|               1|            1|      Full-time|         0|     US|\n",
      "|    10|Customer Service ...|Novitex Enterpris...|The Customer Serv...|Minimum Requireme...|            0|               1|            0|      Part-time|         0|     US|\n",
      "|    11|ASP.net Developer...|         unspecified|Position : #URL_8...|Position : #URL_8...|            0|               0|            0|      Full-time|         0|     US|\n",
      "|    12|Talent Sourcer (6...|Want to build a 2...|TransferWise is t...|We’re looking for...|            0|               1|            0|          other|         0|     GB|\n",
      "|    13|Applications Deve...|Novitex Enterpris...|The Applications ...|Requirements:4 – ...|            0|               1|            0|      Full-time|         0|     US|\n",
      "|    14|          Installers|Growing event pro...|Event Industry In...|Valid driver's li...|            0|               1|            1|      Full-time|         0|     US|\n",
      "|    15|Account Executive...|Adthena is the UK...|Are you intereste...|You’ll need to be...|            0|               1|            0|      Full-time|         0|     AU|\n",
      "|    17| Hands-On QA Leader |At HoneyBook we’r...|We are looking fo...|Previous experien...|            0|               1|            0|      Full-time|         0|     IL|\n",
      "|    18|Southend-on-Sea T...|Established on th...|Government fundin...|16-18 year olds o...|            0|               1|            1|          other|         0|     GB|\n",
      "|    19|     Visual Designer|Kettle is an inde...|Kettle is hiring ...|         unspecified|            0|               1|            0|          other|         0|     US|\n",
      "|    20|Process Controls ...|We Provide Full T...|Experienced Proce...|Must have 5 or mo...|            0|               0|            0|      Full-time|         0|     US|\n",
      "|    21| Marketing Assistant|IntelliBright was...|IntelliBright is ...|Job RequirementsA...|            0|               1|            0|          other|         0|     US|\n",
      "+------+--------------------+--------------------+--------------------+--------------------+-------------+----------------+-------------+---------------+----------+-------+\n",
      "only showing top 20 rows\n",
      "\n"
     ]
    }
   ],
   "source": [
    "#now for handeling other text columns \n",
    "# replace nulls with \"unspecified\" in columns location, company_profile and requiremnets\n",
    "df = df.withColumn(\"country\", when(df[\"country\"].isNull(), \"unspecified\").otherwise(df[\"country\"]))\\\n",
    "    .withColumn(\"company_profile\", when(df[\"company_profile\"].isNull(), \"unspecified\").otherwise(df[\"company_profile\"]))\\\n",
    "    .withColumn(\"requirements\", when(df[\"requirements\"].isNull(), \"unspecified\").otherwise(df[\"requirements\"]))\\\n",
    "    .withColumn(\"employment_type\", when(df[\"employment_type\"].isNull(), \"other\").otherwise(df[\"employment_type\"]))\n",
    "\n",
    "# show the resulting dataframe\n",
    "df.show()"
   ]
  },
  {
   "cell_type": "code",
   "execution_count": 19,
   "metadata": {},
   "outputs": [
    {
     "name": "stdout",
     "output_type": "stream",
     "text": [
      "0\n",
      "0\n",
      "0\n",
      "0\n"
     ]
    }
   ],
   "source": [
    "#check that everything is going well, all nulls in these columns are replaced.\n",
    "print(df.where(col(\"country\").isNull()).count())\n",
    "print(df.where(col(\"company_profile\").isNull()).count())\n",
    "print(df.where(col(\"requirements\").isNull()).count())\n",
    "print(df.where(col(\"employment_type\").isNull()).count())"
   ]
  },
  {
   "cell_type": "code",
   "execution_count": 20,
   "metadata": {},
   "outputs": [
    {
     "name": "stdout",
     "output_type": "stream",
     "text": [
      "+--------------------+-----+\n",
      "|     employment_type|count|\n",
      "+--------------------+-----+\n",
      "|           Full-time|10923|\n",
      "|               other| 3273|\n",
      "|            Contract| 1496|\n",
      "|           Part-time|  709|\n",
      "|           Temporary|  233|\n",
      "|               Other|  210|\n",
      "|              France|   16|\n",
      "| the London Inter...|   10|\n",
      "| have full-time a...|    9|\n",
      "| have full-time a...|    9|\n",
      "+--------------------+-----+\n",
      "only showing top 10 rows\n",
      "\n"
     ]
    }
   ],
   "source": [
    "df.groupBy(\"employment_type\").count().orderBy(desc(\"count\")).show(10)"
   ]
  },
  {
   "cell_type": "code",
   "execution_count": 21,
   "metadata": {},
   "outputs": [],
   "source": [
    "df = df.withColumn(\"employment_type\", when((df.employment_type != \"Full-time\") & (df.employment_type != \"Contract\") & (df.employment_type != \"Part-time\")\\\n",
    "                                           , \"other\").otherwise(df.employment_type))"
   ]
  },
  {
   "cell_type": "code",
   "execution_count": 22,
   "metadata": {},
   "outputs": [
    {
     "name": "stdout",
     "output_type": "stream",
     "text": [
      "+---------------+-----+\n",
      "|employment_type|count|\n",
      "+---------------+-----+\n",
      "|      Full-time|10923|\n",
      "|          other| 3838|\n",
      "|       Contract| 1496|\n",
      "|      Part-time|  709|\n",
      "+---------------+-----+\n",
      "\n"
     ]
    }
   ],
   "source": [
    "df.groupBy(\"employment_type\").count().orderBy(desc(\"count\")).show(10)"
   ]
  },
  {
   "cell_type": "markdown",
   "metadata": {},
   "source": [
    "### Checking for duplicates"
   ]
  },
  {
   "cell_type": "code",
   "execution_count": 23,
   "metadata": {},
   "outputs": [
    {
     "name": "stdout",
     "output_type": "stream",
     "text": [
      "Number of duplicates: 0\n"
     ]
    }
   ],
   "source": [
    "#duplicated Rows\n",
    "num_duplicates = df.count() - df.dropDuplicates().count()\n",
    "print(f\"Number of duplicates: {num_duplicates}\")"
   ]
  },
  {
   "cell_type": "code",
   "execution_count": 24,
   "metadata": {},
   "outputs": [
    {
     "data": {
      "text/plain": [
       "0"
      ]
     },
     "execution_count": 24,
     "metadata": {},
     "output_type": "execute_result"
    }
   ],
   "source": [
    "#check their is no duplicated job id\n",
    "df.count() - df.dropDuplicates(['job_id']).count()"
   ]
  },
  {
   "cell_type": "markdown",
   "metadata": {},
   "source": [
    "We have no duplicates in the whole rows or on the job_id.<br>\n",
    "Now, our data has no nulls and no duplicates, time for cleaning the text columns."
   ]
  },
  {
   "cell_type": "markdown",
   "metadata": {},
   "source": [
    "### Validating data types"
   ]
  },
  {
   "cell_type": "code",
   "execution_count": 25,
   "metadata": {},
   "outputs": [
    {
     "name": "stdout",
     "output_type": "stream",
     "text": [
      "root\n",
      " |-- job_id: integer (nullable = true)\n",
      " |-- title: string (nullable = true)\n",
      " |-- company_profile: string (nullable = true)\n",
      " |-- description: string (nullable = true)\n",
      " |-- requirements: string (nullable = true)\n",
      " |-- telecommuting: string (nullable = true)\n",
      " |-- has_company_logo: string (nullable = true)\n",
      " |-- has_questions: string (nullable = true)\n",
      " |-- employment_type: string (nullable = true)\n",
      " |-- fraudulent: string (nullable = true)\n",
      " |-- country: string (nullable = true)\n",
      "\n"
     ]
    }
   ],
   "source": [
    "df.printSchema()"
   ]
  },
  {
   "cell_type": "markdown",
   "metadata": {},
   "source": [
    "We need the telecommuting, has_company_logo, has_questions and fraudulent columns to be integers. we have to change their types."
   ]
  },
  {
   "cell_type": "code",
   "execution_count": 26,
   "metadata": {},
   "outputs": [],
   "source": [
    "# Change the data type of a column\n",
    "df = df.withColumn(\"telecommuting1\", col(\"telecommuting\").cast(\"integer\"))\\\n",
    "    .withColumn(\"has_company_logo1\", col(\"has_company_logo\").cast(\"integer\"))\\\n",
    "    .withColumn(\"has_questions1\", col(\"has_questions\").cast(\"integer\"))\\\n",
    "    .withColumn(\"fraudulent1\", col(\"fraudulent\").cast(\"integer\"))"
   ]
  },
  {
   "cell_type": "code",
   "execution_count": 27,
   "metadata": {},
   "outputs": [
    {
     "name": "stdout",
     "output_type": "stream",
     "text": [
      "root\n",
      " |-- job_id: integer (nullable = true)\n",
      " |-- title: string (nullable = true)\n",
      " |-- company_profile: string (nullable = true)\n",
      " |-- description: string (nullable = true)\n",
      " |-- requirements: string (nullable = true)\n",
      " |-- telecommuting: string (nullable = true)\n",
      " |-- has_company_logo: string (nullable = true)\n",
      " |-- has_questions: string (nullable = true)\n",
      " |-- employment_type: string (nullable = true)\n",
      " |-- fraudulent: string (nullable = true)\n",
      " |-- country: string (nullable = true)\n",
      " |-- telecommuting1: integer (nullable = true)\n",
      " |-- has_company_logo1: integer (nullable = true)\n",
      " |-- has_questions1: integer (nullable = true)\n",
      " |-- fraudulent1: integer (nullable = true)\n",
      "\n"
     ]
    }
   ],
   "source": [
    "df.printSchema()"
   ]
  },
  {
   "cell_type": "code",
   "execution_count": 28,
   "metadata": {},
   "outputs": [
    {
     "data": {
      "text/plain": [
       "['country',\n",
       " 'telecommuting1',\n",
       " 'has_company_logo1',\n",
       " 'has_questions1',\n",
       " 'fraudulent1']"
      ]
     },
     "execution_count": 28,
     "metadata": {},
     "output_type": "execute_result"
    }
   ],
   "source": [
    "df.columns[10:]"
   ]
  },
  {
   "cell_type": "code",
   "execution_count": 29,
   "metadata": {},
   "outputs": [
    {
     "name": "stdout",
     "output_type": "stream",
     "text": [
      "root\n",
      " |-- job_id: integer (nullable = true)\n",
      " |-- title: string (nullable = true)\n",
      " |-- company_profile: string (nullable = true)\n",
      " |-- description: string (nullable = true)\n",
      " |-- requirements: string (nullable = true)\n",
      " |-- employment_type: string (nullable = true)\n",
      " |-- country: string (nullable = true)\n",
      " |-- telecommuting1: integer (nullable = true)\n",
      " |-- has_company_logo1: integer (nullable = true)\n",
      " |-- has_questions1: integer (nullable = true)\n",
      " |-- fraudulent1: integer (nullable = true)\n",
      "\n"
     ]
    }
   ],
   "source": [
    "cols = df.columns[0:5] + [df.columns[8]] + df.columns[10:]\n",
    "df = df.select(cols)\n",
    "df.printSchema()"
   ]
  },
  {
   "cell_type": "markdown",
   "metadata": {},
   "source": [
    "### Cleaning text"
   ]
  },
  {
   "cell_type": "markdown",
   "metadata": {},
   "source": [
    "In this section we will:\n",
    "- remove hashtags and links\n",
    "- remove un wanted charachters and numbers\n",
    "- remove multiple spaces\n",
    "- lower casing all text\n",
    "- tokenizing \n",
    "- remove stop words"
   ]
  },
  {
   "cell_type": "code",
   "execution_count": 30,
   "metadata": {},
   "outputs": [
    {
     "data": {
      "text/html": [
       "<div>\n",
       "<style scoped>\n",
       "    .dataframe tbody tr th:only-of-type {\n",
       "        vertical-align: middle;\n",
       "    }\n",
       "\n",
       "    .dataframe tbody tr th {\n",
       "        vertical-align: top;\n",
       "    }\n",
       "\n",
       "    .dataframe thead th {\n",
       "        text-align: right;\n",
       "    }\n",
       "</style>\n",
       "<table border=\"1\" class=\"dataframe\">\n",
       "  <thead>\n",
       "    <tr style=\"text-align: right;\">\n",
       "      <th></th>\n",
       "      <th>title</th>\n",
       "      <th>company_profile</th>\n",
       "      <th>description</th>\n",
       "      <th>requirements</th>\n",
       "    </tr>\n",
       "  </thead>\n",
       "  <tbody>\n",
       "    <tr>\n",
       "      <th>0</th>\n",
       "      <td>Marketing Intern</td>\n",
       "      <td>We're Food52, and we've created a groundbreaking and award-winning cooking site. We support, connect, and celebrate home cooks, and give them everything they need in one place.We have a top editorial, business, and engineering team. We're focused on using technology to find new and better ways to connect people around their specific food interests, and to offer them superb, highly curated information about food and cooking. We attract the most talented home cooks and contributors in the country; we also publish well-known professionals like Mario Batali, Gwyneth Paltrow, and Danny Meyer. And we have partnerships with Whole Foods Market and Random House.Food52 has been named the best food website by the James Beard Foundation and IACP, and has been featured in the New York Times, NPR, Pando Daily, TechCrunch, and on the Today Show.We're located in Chelsea, in New York City.</td>\n",
       "      <td>Food52, a fast-growing, James Beard Award-winning online food community and crowd-sourced and curated recipe hub, is currently interviewing full- and part-time unpaid interns to work in a small team of editors, executives, and developers in its New York City headquarters.Reproducing and/or repackaging existing Food52 content for a number of partner sites, such as Huffington Post, Yahoo, Buzzfeed, and more in their various content management systemsResearching blogs and websites for the Provisions by Food52 Affiliate ProgramAssisting in day-to-day affiliate program support, such as screening affiliates and assisting in any affiliate inquiriesSupporting with PR &amp;amp; Events when neededHelping with office administrative work, such as filing, mailing, and preparing for meetingsWorking with developers to document bugs and suggest improvements to the siteSupporting the marketing and executive staff</td>\n",
       "      <td>Experience with content management systems a major plus (any blogging counts!)Familiar with the Food52 editorial voice and aestheticLoves food, appreciates the importance of home cooking and cooking with the seasonsMeticulous editor, perfectionist, obsessive attention to detail, maddened by typos and broken links, delighted by finding and fixing themCheerful under pressureExcellent communication skillsA+ multi-tasker and juggler of responsibilities big and smallInterested in and engaged with social media like Twitter, Facebook, and PinterestLoves problem-solving and collaborating to drive Food52 forwardThinks big picture but pitches in on the nitty gritty of running a small company (dishes, shopping, administrative support)Comfortable with the realities of working for a startup: being on call on evenings and weekends, and working long hours</td>\n",
       "    </tr>\n",
       "    <tr>\n",
       "      <th>1</th>\n",
       "      <td>Customer Service - Cloud Video Production</td>\n",
       "      <td>90 Seconds, the worlds Cloud Video Production Service.90 Seconds is the worlds Cloud Video Production Service enabling brands and agencies to get high quality online video content shot and produced anywhere in the world. 90 Seconds makes video production fast, affordable, and all managed seamlessly in the cloud from purchase to publish. http://90#URL_fbe6559afac620a3cd2c22281f7b8d0eef56a73e3d9a311e2f1ca13d081dd630#90 Seconds removes the hassle, cost, risk and speed issues of working with regular video production companies by managing every aspect of video projects in a beautiful online experience. With a growing global network of over 2,000 rated video professionals in over 50 countries managed by dedicated production success teams in 5 countries, 90 Seconds provides a 100% success guarantee.90 Seconds has produced almost 4,000 videos in over 30 Countries for over 500 Global brands including some of the worlds largest including Paypal, L’Oreal, Sony and Barclays and has offices in Auckland, London, Sydney, Tokyo and Singapore.http://90#URL_fbe6559afac620a3cd2c22281f7b8d0eef56a73e3d9a311e2f1ca13d081dd630# | http://90#URL_e2ad0bde3f09a0913a486abdbb1e6ac373bb3310f64b1fbcf550049bcba4a17b# | http://90#URL_8c5dd1806f97ab90876d9daebeb430f682dbc87e2f01549b47e96c7bff2ea17e#</td>\n",
       "      <td>Organised - Focused - Vibrant - Awesome!Do you have a passion for customer service? Slick typing skills? Maybe Account Management? ...And think administration is cooler than a polar bear on a jetski? Then we need to hear you! We are the Cloud Video Production Service and opperating on a glodal level. Yeah, it's pretty cool. Serious about delivering a world class product and excellent customer service.Our rapidly expanding business is looking for a talented Project Manager to manage the successful delivery of video projects, manage client communications and drive the production process. Work with some of the coolest brands on the planet and learn from a global team that are representing NZ is a huge way!We are entering the next growth stage of our business and growing quickly internationally.  Therefore, the position is bursting with opportunity for the right person entering the business at the right time. 90 Seconds, the worlds Cloud Video Production Service - http://90#URL_fbe6559afac620a3cd2c22281f7b8d0eef56a73e3d9a311e2f1ca13d081dd630#90 Seconds is the worlds Cloud Video Production Service enabling brands and agencies to get high quality online video content shot and produced anywhere in the world. Fast, affordable, and all managed seamlessly in the cloud from purchase to publish. 90 Seconds removes the hassle, cost, risk and speed issues of working with regular video production companies by managing every aspect of video projects in a beautiful online experience.  With a growing network of over 2,000 rated video professionals in over 50 countries and dedicated production success teams in 5 countries guaranteeing video project success 100%. It's as easy as commissioning a quick google adwords campaign.90 Seconds has produced almost 4,000 videos in over 30 Countries for over 500 Global brands including some of the worlds largest including Paypal, L'oreal, Sony and Barclays and has offices in Auckland, London, Sydney, Tokyo &amp;amp; Singapore.Our Auckland office is based right in the heart of the Wynyard Quarter Innovation Precinct - GridAKL!</td>\n",
       "      <td>What we expect from you:Your key responsibility will be to communicate with the client, 90 Seconds team and freelance community throughout the video production process including, shoot planning, securing freelance talent, managing workflow and the online production management system.  The aim is to manage each video project effectively so that we produce great videos that our clients love.Key attributesClient focused - excellent customer service and communication skillsOnline - oustanding computer knowledge and experience using online software and project management toolsOrganised - manage workload and able to multi-task100% attention to detailMotivated - self-starter with a passion for doing excellent work and achieving great resultsAdaptable - show initiative and think on your feet as this is a constantly evolving atmosphereFlexible - fast turnaround work and after hours availabilityEasy going &amp;amp; upbeat - dosen't get bogged down and loves the challengeSense of Humour - have a laugh and know that working in a startup takes guts!Ability to deliver - including meeting project deadlines and budgetAttitude is more important than experience at 90 Seconds, however previous experience in customer service and/or project management is beneficialPlease view our platform / website at #URL_395a8683a907ce95f49a12fb240e6e47ad8d5a4f96d07ebbd869c4dd4dea1826# and get a clear understand about what we do before reaching out.</td>\n",
       "    </tr>\n",
       "  </tbody>\n",
       "</table>\n",
       "</div>"
      ],
      "text/plain": [
       "                                       title  \\\n",
       "0                           Marketing Intern   \n",
       "1  Customer Service - Cloud Video Production   \n",
       "\n",
       "                                                                                                                                                                                                                                                                                                                                                                                                                                                                                                                                                                                                                                                                                                                                                                                                                                                                                                                                                                                                                                                                                                                                                                                                                                                                                                                          company_profile  \\\n",
       "0                                                                                                                                                                                                                                                                                                                                                                                                                   We're Food52, and we've created a groundbreaking and award-winning cooking site. We support, connect, and celebrate home cooks, and give them everything they need in one place.We have a top editorial, business, and engineering team. We're focused on using technology to find new and better ways to connect people around their specific food interests, and to offer them superb, highly curated information about food and cooking. We attract the most talented home cooks and contributors in the country; we also publish well-known professionals like Mario Batali, Gwyneth Paltrow, and Danny Meyer. And we have partnerships with Whole Foods Market and Random House.Food52 has been named the best food website by the James Beard Foundation and IACP, and has been featured in the New York Times, NPR, Pando Daily, TechCrunch, and on the Today Show.We're located in Chelsea, in New York City.   \n",
       "1  90 Seconds, the worlds Cloud Video Production Service.90 Seconds is the worlds Cloud Video Production Service enabling brands and agencies to get high quality online video content shot and produced anywhere in the world. 90 Seconds makes video production fast, affordable, and all managed seamlessly in the cloud from purchase to publish. http://90#URL_fbe6559afac620a3cd2c22281f7b8d0eef56a73e3d9a311e2f1ca13d081dd630#90 Seconds removes the hassle, cost, risk and speed issues of working with regular video production companies by managing every aspect of video projects in a beautiful online experience. With a growing global network of over 2,000 rated video professionals in over 50 countries managed by dedicated production success teams in 5 countries, 90 Seconds provides a 100% success guarantee.90 Seconds has produced almost 4,000 videos in over 30 Countries for over 500 Global brands including some of the worlds largest including Paypal, L’Oreal, Sony and Barclays and has offices in Auckland, London, Sydney, Tokyo and Singapore.http://90#URL_fbe6559afac620a3cd2c22281f7b8d0eef56a73e3d9a311e2f1ca13d081dd630# | http://90#URL_e2ad0bde3f09a0913a486abdbb1e6ac373bb3310f64b1fbcf550049bcba4a17b# | http://90#URL_8c5dd1806f97ab90876d9daebeb430f682dbc87e2f01549b47e96c7bff2ea17e#    \n",
       "\n",
       "                                                                                                                                                                                                                                                                                                                                                                                                                                                                                                                                                                                                                                                                                                                                                                                                                                                                                                                                                                                                                                                                                                                                                                                                                                                                                                                                                                                                                                                                                                                                                                                                                                                                                                                                                                                                                                                                                                                                                                                                                                                                                                                                                     description  \\\n",
       "0                                                                                                                                                                                                                                                                                                                                                                                                                                                                                                                                                                                                                                                                                                                                                                                                                                                                                                                                                                                                                                                                                                                                                                                                                      Food52, a fast-growing, James Beard Award-winning online food community and crowd-sourced and curated recipe hub, is currently interviewing full- and part-time unpaid interns to work in a small team of editors, executives, and developers in its New York City headquarters.Reproducing and/or repackaging existing Food52 content for a number of partner sites, such as Huffington Post, Yahoo, Buzzfeed, and more in their various content management systemsResearching blogs and websites for the Provisions by Food52 Affiliate ProgramAssisting in day-to-day affiliate program support, such as screening affiliates and assisting in any affiliate inquiriesSupporting with PR &amp; Events when neededHelping with office administrative work, such as filing, mailing, and preparing for meetingsWorking with developers to document bugs and suggest improvements to the siteSupporting the marketing and executive staff   \n",
       "1  Organised - Focused - Vibrant - Awesome!Do you have a passion for customer service? Slick typing skills? Maybe Account Management? ...And think administration is cooler than a polar bear on a jetski? Then we need to hear you! We are the Cloud Video Production Service and opperating on a glodal level. Yeah, it's pretty cool. Serious about delivering a world class product and excellent customer service.Our rapidly expanding business is looking for a talented Project Manager to manage the successful delivery of video projects, manage client communications and drive the production process. Work with some of the coolest brands on the planet and learn from a global team that are representing NZ is a huge way!We are entering the next growth stage of our business and growing quickly internationally.  Therefore, the position is bursting with opportunity for the right person entering the business at the right time. 90 Seconds, the worlds Cloud Video Production Service - http://90#URL_fbe6559afac620a3cd2c22281f7b8d0eef56a73e3d9a311e2f1ca13d081dd630#90 Seconds is the worlds Cloud Video Production Service enabling brands and agencies to get high quality online video content shot and produced anywhere in the world. Fast, affordable, and all managed seamlessly in the cloud from purchase to publish. 90 Seconds removes the hassle, cost, risk and speed issues of working with regular video production companies by managing every aspect of video projects in a beautiful online experience.  With a growing network of over 2,000 rated video professionals in over 50 countries and dedicated production success teams in 5 countries guaranteeing video project success 100%. It's as easy as commissioning a quick google adwords campaign.90 Seconds has produced almost 4,000 videos in over 30 Countries for over 500 Global brands including some of the worlds largest including Paypal, L'oreal, Sony and Barclays and has offices in Auckland, London, Sydney, Tokyo &amp; Singapore.Our Auckland office is based right in the heart of the Wynyard Quarter Innovation Precinct - GridAKL!    \n",
       "\n",
       "                                                                                                                                                                                                                                                                                                                                                                                                                                                                                                                                                                                                                                                                                                                                                                                                                                                                                                                                                                                                                                                                                                                                                                                                                                                                                                                                                                                                                                                                                requirements  \n",
       "0                                                                                                                                                                                                                                                                                                                                                                                                                                                                                                                                                                                                       Experience with content management systems a major plus (any blogging counts!)Familiar with the Food52 editorial voice and aestheticLoves food, appreciates the importance of home cooking and cooking with the seasonsMeticulous editor, perfectionist, obsessive attention to detail, maddened by typos and broken links, delighted by finding and fixing themCheerful under pressureExcellent communication skillsA+ multi-tasker and juggler of responsibilities big and smallInterested in and engaged with social media like Twitter, Facebook, and PinterestLoves problem-solving and collaborating to drive Food52 forwardThinks big picture but pitches in on the nitty gritty of running a small company (dishes, shopping, administrative support)Comfortable with the realities of working for a startup: being on call on evenings and weekends, and working long hours  \n",
       "1  What we expect from you:Your key responsibility will be to communicate with the client, 90 Seconds team and freelance community throughout the video production process including, shoot planning, securing freelance talent, managing workflow and the online production management system.  The aim is to manage each video project effectively so that we produce great videos that our clients love.Key attributesClient focused - excellent customer service and communication skillsOnline - oustanding computer knowledge and experience using online software and project management toolsOrganised - manage workload and able to multi-task100% attention to detailMotivated - self-starter with a passion for doing excellent work and achieving great resultsAdaptable - show initiative and think on your feet as this is a constantly evolving atmosphereFlexible - fast turnaround work and after hours availabilityEasy going &amp; upbeat - dosen't get bogged down and loves the challengeSense of Humour - have a laugh and know that working in a startup takes guts!Ability to deliver - including meeting project deadlines and budgetAttitude is more important than experience at 90 Seconds, however previous experience in customer service and/or project management is beneficialPlease view our platform / website at #URL_395a8683a907ce95f49a12fb240e6e47ad8d5a4f96d07ebbd869c4dd4dea1826# and get a clear understand about what we do before reaching out.  "
      ]
     },
     "execution_count": 30,
     "metadata": {},
     "output_type": "execute_result"
    }
   ],
   "source": [
    "df.select(\"title\",\"company_profile\",\"description\",\"requirements\").limit(2).toPandas()"
   ]
  },
  {
   "cell_type": "code",
   "execution_count": 31,
   "metadata": {},
   "outputs": [
    {
     "data": {
      "text/html": [
       "<div>\n",
       "<style scoped>\n",
       "    .dataframe tbody tr th:only-of-type {\n",
       "        vertical-align: middle;\n",
       "    }\n",
       "\n",
       "    .dataframe tbody tr th {\n",
       "        vertical-align: top;\n",
       "    }\n",
       "\n",
       "    .dataframe thead th {\n",
       "        text-align: right;\n",
       "    }\n",
       "</style>\n",
       "<table border=\"1\" class=\"dataframe\">\n",
       "  <thead>\n",
       "    <tr style=\"text-align: right;\">\n",
       "      <th></th>\n",
       "      <th>title</th>\n",
       "      <th>company_profile</th>\n",
       "      <th>description</th>\n",
       "      <th>requirements</th>\n",
       "    </tr>\n",
       "  </thead>\n",
       "  <tbody>\n",
       "    <tr>\n",
       "      <th>0</th>\n",
       "      <td>Marketing Intern</td>\n",
       "      <td>We're Food52, and we've created a groundbreaking and award-winning cooking site. We support, connect, and celebrate home cooks, and give them everything they need in one place.We have a top editorial, business, and engineering team. We're focused on using technology to find new and better ways to connect people around their specific food interests, and to offer them superb, highly curated information about food and cooking. We attract the most talented home cooks and contributors in the country; we also publish well-known professionals like Mario Batali, Gwyneth Paltrow, and Danny Meyer. And we have partnerships with Whole Foods Market and Random House.Food52 has been named the best food website by the James Beard Foundation and IACP, and has been featured in the New York Times, NPR, Pando Daily, TechCrunch, and on the Today Show.We're located in Chelsea, in New York City.</td>\n",
       "      <td>Food52, a fast-growing, James Beard Award-winning online food community and crowd-sourced and curated recipe hub, is currently interviewing full- and part-time unpaid interns to work in a small team of editors, executives, and developers in its New York City headquarters.Reproducing and/or repackaging existing Food52 content for a number of partner sites, such as Huffington Post, Yahoo, Buzzfeed, and more in their various content management systemsResearching blogs and websites for the Provisions by Food52 Affiliate ProgramAssisting in day-to-day affiliate program support, such as screening affiliates and assisting in any affiliate inquiriesSupporting with PR &amp;amp; Events when neededHelping with office administrative work, such as filing, mailing, and preparing for meetingsWorking with developers to document bugs and suggest improvements to the siteSupporting the marketing and executive staff</td>\n",
       "      <td>Experience with content management systems a major plus (any blogging counts!)Familiar with the Food52 editorial voice and aestheticLoves food, appreciates the importance of home cooking and cooking with the seasonsMeticulous editor, perfectionist, obsessive attention to detail, maddened by typos and broken links, delighted by finding and fixing themCheerful under pressureExcellent communication skillsA+ multi-tasker and juggler of responsibilities big and smallInterested in and engaged with social media like Twitter, Facebook, and PinterestLoves problem-solving and collaborating to drive Food52 forwardThinks big picture but pitches in on the nitty gritty of running a small company (dishes, shopping, administrative support)Comfortable with the realities of working for a startup: being on call on evenings and weekends, and working long hours</td>\n",
       "    </tr>\n",
       "    <tr>\n",
       "      <th>1</th>\n",
       "      <td>Customer Service - Cloud Video Production</td>\n",
       "      <td>90 Seconds, the worlds Cloud Video Production Service.90 Seconds is the worlds Cloud Video Production Service enabling brands and agencies to get high quality online video content shot and produced anywhere in the world. 90 Seconds makes video production fast, affordable, and all managed seamlessly in the cloud from purchase to publish.  Seconds removes the hassle, cost, risk and speed issues of working with regular video production companies by managing every aspect of video projects in a beautiful online experience. With a growing global network of over 2,000 rated video professionals in over 50 countries managed by dedicated production success teams in 5 countries, 90 Seconds provides a 100% success guarantee.90 Seconds has produced almost 4,000 videos in over 30 Countries for over 500 Global brands including some of the worlds largest including Paypal, L’Oreal, Sony and Barclays and has offices in Auckland, London, Sydney, Tokyo and Singapore.</td>\n",
       "      <td>Organised - Focused - Vibrant - Awesome!Do you have a passion for customer service? Slick typing skills? Maybe Account Management? ...And think administration is cooler than a polar bear on a jetski? Then we need to hear you! We are the Cloud Video Production Service and opperating on a glodal level. Yeah, it's pretty cool. Serious about delivering a world class product and excellent customer service.Our rapidly expanding business is looking for a talented Project Manager to manage the successful delivery of video projects, manage client communications and drive the production process. Work with some of the coolest brands on the planet and learn from a global team that are representing NZ is a huge way!We are entering the next growth stage of our business and growing quickly internationally.  Therefore, the position is bursting with opportunity for the right person entering the business at the right time. 90 Seconds, the worlds Cloud Video Production Service -  Seconds is the worlds Cloud Video Production Service enabling brands and agencies to get high quality online video content shot and produced anywhere in the world. Fast, affordable, and all managed seamlessly in the cloud from purchase to publish. 90 Seconds removes the hassle, cost, risk and speed issues of working with regular video production companies by managing every aspect of video projects in a beautiful online experience.  With a growing network of over 2,000 rated video professionals in over 50 countries and dedicated production success teams in 5 countries guaranteeing video project success 100%. It's as easy as commissioning a quick google adwords campaign.90 Seconds has produced almost 4,000 videos in over 30 Countries for over 500 Global brands including some of the worlds largest including Paypal, L'oreal, Sony and Barclays and has offices in Auckland, London, Sydney, Tokyo &amp;amp; Singapore.Our Auckland office is based right in the heart of the Wynyard Quarter Innovation Precinct - GridAKL!</td>\n",
       "      <td>What we expect from you:Your key responsibility will be to communicate with the client, 90 Seconds team and freelance community throughout the video production process including, shoot planning, securing freelance talent, managing workflow and the online production management system.  The aim is to manage each video project effectively so that we produce great videos that our clients love.Key attributesClient focused - excellent customer service and communication skillsOnline - oustanding computer knowledge and experience using online software and project management toolsOrganised - manage workload and able to multi-task100% attention to detailMotivated - self-starter with a passion for doing excellent work and achieving great resultsAdaptable - show initiative and think on your feet as this is a constantly evolving atmosphereFlexible - fast turnaround work and after hours availabilityEasy going &amp;amp; upbeat - dosen't get bogged down and loves the challengeSense of Humour - have a laugh and know that working in a startup takes guts!Ability to deliver - including meeting project deadlines and budgetAttitude is more important than experience at 90 Seconds, however previous experience in customer service and/or project management is beneficialPlease view our platform / website at # and get a clear understand about what we do before reaching out.</td>\n",
       "    </tr>\n",
       "  </tbody>\n",
       "</table>\n",
       "</div>"
      ],
      "text/plain": [
       "                                       title  \\\n",
       "0                           Marketing Intern   \n",
       "1  Customer Service - Cloud Video Production   \n",
       "\n",
       "                                                                                                                                                                                                                                                                                                                                                                                                                                                                                                                                                                                                                                                                                                                                                                                                                                                                                                                                                                                      company_profile  \\\n",
       "0                                                                               We're Food52, and we've created a groundbreaking and award-winning cooking site. We support, connect, and celebrate home cooks, and give them everything they need in one place.We have a top editorial, business, and engineering team. We're focused on using technology to find new and better ways to connect people around their specific food interests, and to offer them superb, highly curated information about food and cooking. We attract the most talented home cooks and contributors in the country; we also publish well-known professionals like Mario Batali, Gwyneth Paltrow, and Danny Meyer. And we have partnerships with Whole Foods Market and Random House.Food52 has been named the best food website by the James Beard Foundation and IACP, and has been featured in the New York Times, NPR, Pando Daily, TechCrunch, and on the Today Show.We're located in Chelsea, in New York City.   \n",
       "1  90 Seconds, the worlds Cloud Video Production Service.90 Seconds is the worlds Cloud Video Production Service enabling brands and agencies to get high quality online video content shot and produced anywhere in the world. 90 Seconds makes video production fast, affordable, and all managed seamlessly in the cloud from purchase to publish.  Seconds removes the hassle, cost, risk and speed issues of working with regular video production companies by managing every aspect of video projects in a beautiful online experience. With a growing global network of over 2,000 rated video professionals in over 50 countries managed by dedicated production success teams in 5 countries, 90 Seconds provides a 100% success guarantee.90 Seconds has produced almost 4,000 videos in over 30 Countries for over 500 Global brands including some of the worlds largest including Paypal, L’Oreal, Sony and Barclays and has offices in Auckland, London, Sydney, Tokyo and Singapore.    \n",
       "\n",
       "                                                                                                                                                                                                                                                                                                                                                                                                                                                                                                                                                                                                                                                                                                                                                                                                                                                                                                                                                                                                                                                                                                                                                                                                                                                                                                                                                                                                                                                                                                                                                                                                                                                                                                                                                                                                                                                                                                                                                                                                                                                                    description  \\\n",
       "0                                                                                                                                                                                                                                                                                                                                                                                                                                                                                                                                                                                                                                                                                                                                                                                                                                                                                                                                                                                                                                                                                                                                     Food52, a fast-growing, James Beard Award-winning online food community and crowd-sourced and curated recipe hub, is currently interviewing full- and part-time unpaid interns to work in a small team of editors, executives, and developers in its New York City headquarters.Reproducing and/or repackaging existing Food52 content for a number of partner sites, such as Huffington Post, Yahoo, Buzzfeed, and more in their various content management systemsResearching blogs and websites for the Provisions by Food52 Affiliate ProgramAssisting in day-to-day affiliate program support, such as screening affiliates and assisting in any affiliate inquiriesSupporting with PR &amp; Events when neededHelping with office administrative work, such as filing, mailing, and preparing for meetingsWorking with developers to document bugs and suggest improvements to the siteSupporting the marketing and executive staff   \n",
       "1  Organised - Focused - Vibrant - Awesome!Do you have a passion for customer service? Slick typing skills? Maybe Account Management? ...And think administration is cooler than a polar bear on a jetski? Then we need to hear you! We are the Cloud Video Production Service and opperating on a glodal level. Yeah, it's pretty cool. Serious about delivering a world class product and excellent customer service.Our rapidly expanding business is looking for a talented Project Manager to manage the successful delivery of video projects, manage client communications and drive the production process. Work with some of the coolest brands on the planet and learn from a global team that are representing NZ is a huge way!We are entering the next growth stage of our business and growing quickly internationally.  Therefore, the position is bursting with opportunity for the right person entering the business at the right time. 90 Seconds, the worlds Cloud Video Production Service -  Seconds is the worlds Cloud Video Production Service enabling brands and agencies to get high quality online video content shot and produced anywhere in the world. Fast, affordable, and all managed seamlessly in the cloud from purchase to publish. 90 Seconds removes the hassle, cost, risk and speed issues of working with regular video production companies by managing every aspect of video projects in a beautiful online experience.  With a growing network of over 2,000 rated video professionals in over 50 countries and dedicated production success teams in 5 countries guaranteeing video project success 100%. It's as easy as commissioning a quick google adwords campaign.90 Seconds has produced almost 4,000 videos in over 30 Countries for over 500 Global brands including some of the worlds largest including Paypal, L'oreal, Sony and Barclays and has offices in Auckland, London, Sydney, Tokyo &amp; Singapore.Our Auckland office is based right in the heart of the Wynyard Quarter Innovation Precinct - GridAKL!    \n",
       "\n",
       "                                                                                                                                                                                                                                                                                                                                                                                                                                                                                                                                                                                                                                                                                                                                                                                                                                                                                                                                                                                                                                                                                                                                                                                                                                                                                                                                                                                                           requirements  \n",
       "0                                                                                                                                                                                                                                                                                                                                                                                                                                                                                                                                  Experience with content management systems a major plus (any blogging counts!)Familiar with the Food52 editorial voice and aestheticLoves food, appreciates the importance of home cooking and cooking with the seasonsMeticulous editor, perfectionist, obsessive attention to detail, maddened by typos and broken links, delighted by finding and fixing themCheerful under pressureExcellent communication skillsA+ multi-tasker and juggler of responsibilities big and smallInterested in and engaged with social media like Twitter, Facebook, and PinterestLoves problem-solving and collaborating to drive Food52 forwardThinks big picture but pitches in on the nitty gritty of running a small company (dishes, shopping, administrative support)Comfortable with the realities of working for a startup: being on call on evenings and weekends, and working long hours  \n",
       "1  What we expect from you:Your key responsibility will be to communicate with the client, 90 Seconds team and freelance community throughout the video production process including, shoot planning, securing freelance talent, managing workflow and the online production management system.  The aim is to manage each video project effectively so that we produce great videos that our clients love.Key attributesClient focused - excellent customer service and communication skillsOnline - oustanding computer knowledge and experience using online software and project management toolsOrganised - manage workload and able to multi-task100% attention to detailMotivated - self-starter with a passion for doing excellent work and achieving great resultsAdaptable - show initiative and think on your feet as this is a constantly evolving atmosphereFlexible - fast turnaround work and after hours availabilityEasy going &amp; upbeat - dosen't get bogged down and loves the challengeSense of Humour - have a laugh and know that working in a startup takes guts!Ability to deliver - including meeting project deadlines and budgetAttitude is more important than experience at 90 Seconds, however previous experience in customer service and/or project management is beneficialPlease view our platform / website at # and get a clear understand about what we do before reaching out.  "
      ]
     },
     "execution_count": 31,
     "metadata": {},
     "output_type": "execute_result"
    }
   ],
   "source": [
    "# Removing hashtags and links (starts with http or https)\n",
    "df = df.withColumn(\"title\",regexp_replace(col('title'), r'#\\w+|http\\S+', ''))\\\n",
    "    .withColumn(\"company_profile\",regexp_replace(col('company_profile'), r'#\\w+|http\\S+', ''))\\\n",
    "    .withColumn(\"description\",regexp_replace(col('description'), r'#\\w+|http\\S+', ''))\\\n",
    "    .withColumn(\"requirements\",regexp_replace(col('requirements'), r'#\\w+|http\\S+', ''))\n",
    "df.select(\"title\",\"company_profile\",\"description\",\"requirements\").limit(2).toPandas()"
   ]
  },
  {
   "cell_type": "code",
   "execution_count": 32,
   "metadata": {},
   "outputs": [
    {
     "data": {
      "text/html": [
       "<div>\n",
       "<style scoped>\n",
       "    .dataframe tbody tr th:only-of-type {\n",
       "        vertical-align: middle;\n",
       "    }\n",
       "\n",
       "    .dataframe tbody tr th {\n",
       "        vertical-align: top;\n",
       "    }\n",
       "\n",
       "    .dataframe thead th {\n",
       "        text-align: right;\n",
       "    }\n",
       "</style>\n",
       "<table border=\"1\" class=\"dataframe\">\n",
       "  <thead>\n",
       "    <tr style=\"text-align: right;\">\n",
       "      <th></th>\n",
       "      <th>title</th>\n",
       "      <th>company_profile</th>\n",
       "      <th>description</th>\n",
       "      <th>requirements</th>\n",
       "    </tr>\n",
       "  </thead>\n",
       "  <tbody>\n",
       "    <tr>\n",
       "      <th>0</th>\n",
       "      <td>Marketing Intern</td>\n",
       "      <td>We re Food  and we ve created a groundbreaking and award winning cooking site  We support  connect  and celebrate home cooks  and give them everything they need in one place We have a top editorial  business  and engineering team  We re focused on using technology to find new and better ways to connect people around their specific food interests  and to offer them superb  highly curated information about food and cooking  We attract the most talented home cooks and contributors in the country  we also publish well known professionals like Mario Batali  Gwyneth Paltrow  and Danny Meyer  And we have partnerships with Whole Foods Market and Random House Food  has been named the best food website by the James Beard Foundation and IACP  and has been featured in the New York Times  NPR  Pando Daily  TechCrunch  and on the Today Show We re located in Chelsea  in New York City</td>\n",
       "      <td>Food  a fast growing  James Beard Award winning online food community and crowd sourced and curated recipe hub  is currently interviewing full  and part time unpaid interns to work in a small team of editors  executives  and developers in its New York City headquarters Reproducing and or repackaging existing Food  content for a number of partner sites  such as Huffington Post  Yahoo  Buzzfeed  and more in their various content management systemsResearching blogs and websites for the Provisions by Food  Affiliate ProgramAssisting in day to day affiliate program support  such as screening affiliates and assisting in any affiliate inquiriesSupporting with PR  amp  Events when neededHelping with office administrative work  such as filing  mailing  and preparing for meetingsWorking with developers to document bugs and suggest improvements to the siteSupporting the marketing and executive staff</td>\n",
       "      <td>Experience with content management systems a major plus  any blogging counts Familiar with the Food  editorial voice and aestheticLoves food  appreciates the importance of home cooking and cooking with the seasonsMeticulous editor  perfectionist  obsessive attention to detail  maddened by typos and broken links  delighted by finding and fixing themCheerful under pressureExcellent communication skillsA  multi tasker and juggler of responsibilities big and smallInterested in and engaged with social media like Twitter  Facebook  and PinterestLoves problem solving and collaborating to drive Food  forwardThinks big picture but pitches in on the nitty gritty of running a small company  dishes  shopping  administrative support Comfortable with the realities of working for a startup  being on call on evenings and weekends  and working long hours</td>\n",
       "    </tr>\n",
       "    <tr>\n",
       "      <th>1</th>\n",
       "      <td>Customer Service   Cloud Video Production</td>\n",
       "      <td>Seconds  the worlds Cloud Video Production Service  Seconds is the worlds Cloud Video Production Service enabling brands and agencies to get high quality online video content shot and produced anywhere in the world    Seconds makes video production fast  affordable  and all managed seamlessly in the cloud from purchase to publish   Seconds removes the hassle  cost  risk and speed issues of working with regular video production companies by managing every aspect of video projects in a beautiful online experience  With a growing global network of over   rated video professionals in over   countries managed by dedicated production success teams in   countries    Seconds provides a   success guarantee  Seconds has produced almost   videos in over   Countries for over   Global brands including some of the worlds largest including Paypal  L Oreal  Sony and Barclays and has offices in Auckland  London  Sydney  Tokyo and Singapore</td>\n",
       "      <td>Organised   Focused   Vibrant   Awesome Do you have a passion for customer service  Slick typing skills  Maybe Account Management   And think administration is cooler than a polar bear on a jetski  Then we need to hear you We are the Cloud Video Production Service and opperating on a glodal level  Yeah  it s pretty cool  Serious about delivering a world class product and excellent customer service Our rapidly expanding business is looking for a talented Project Manager to manage the successful delivery of video projects  manage client communications and drive the production process  Work with some of the coolest brands on the planet and learn from a global team that are representing NZ is a huge way We are entering the next growth stage of our business and growing quickly internationally   Therefore  the position is bursting with opportunity for the right person entering the business at the right time  Seconds  the worlds Cloud Video Production Service   Seconds is the worlds Cloud Video Production Service enabling brands and agencies to get high quality online video content shot and produced anywhere in the world  Fast  affordable  and all managed seamlessly in the cloud from purchase to publish  Seconds removes the hassle  cost  risk and speed issues of working with regular video production companies by managing every aspect of video projects in a beautiful online experience   With a growing network of over   rated video professionals in over   countries and dedicated production success teams in   countries guaranteeing video project success   It s as easy as commissioning a quick google adwords campaign  Seconds has produced almost   videos in over   Countries for over   Global brands including some of the worlds largest including Paypal  L oreal  Sony and Barclays and has offices in Auckland  London  Sydney  Tokyo  amp  Singapore Our Auckland office is based right in the heart of the Wynyard Quarter Innovation Precinct   GridAKL</td>\n",
       "      <td>What we expect from you Your key responsibility will be to communicate with the client    Seconds team and freelance community throughout the video production process including  shoot planning  securing freelance talent  managing workflow and the online production management system   The aim is to manage each video project effectively so that we produce great videos that our clients love Key attributesClient focused  excellent customer service and communication skillsOnline  oustanding computer knowledge and experience using online software and project management toolsOrganised  manage workload and able to multi task  attention to detailMotivated  self starter with a passion for doing excellent work and achieving great resultsAdaptable  show initiative and think on your feet as this is a constantly evolving atmosphereFlexible  fast turnaround work and after hours availabilityEasy going amp  upbeat  dosen t get bogged down and loves the challengeSense of Humour  have a laugh and know that working in a startup takes guts Ability to deliver  including meeting project deadlines and budgetAttitude is more important than experience at   Seconds  however previous experience in customer service and or project management is beneficialPlease view our platform   website at and get a clear understand about what we do before reaching out</td>\n",
       "    </tr>\n",
       "  </tbody>\n",
       "</table>\n",
       "</div>"
      ],
      "text/plain": [
       "                                       title  \\\n",
       "0                           Marketing Intern   \n",
       "1  Customer Service   Cloud Video Production   \n",
       "\n",
       "                                                                                                                                                                                                                                                                                                                                                                                                                                                                                                                                                                                                                                                                                                                                                                                                                                                                                                                                                                company_profile  \\\n",
       "0                                                            We re Food  and we ve created a groundbreaking and award winning cooking site  We support  connect  and celebrate home cooks  and give them everything they need in one place We have a top editorial  business  and engineering team  We re focused on using technology to find new and better ways to connect people around their specific food interests  and to offer them superb  highly curated information about food and cooking  We attract the most talented home cooks and contributors in the country  we also publish well known professionals like Mario Batali  Gwyneth Paltrow  and Danny Meyer  And we have partnerships with Whole Foods Market and Random House Food  has been named the best food website by the James Beard Foundation and IACP  and has been featured in the New York Times  NPR  Pando Daily  TechCrunch  and on the Today Show We re located in Chelsea  in New York City    \n",
       "1    Seconds  the worlds Cloud Video Production Service  Seconds is the worlds Cloud Video Production Service enabling brands and agencies to get high quality online video content shot and produced anywhere in the world    Seconds makes video production fast  affordable  and all managed seamlessly in the cloud from purchase to publish   Seconds removes the hassle  cost  risk and speed issues of working with regular video production companies by managing every aspect of video projects in a beautiful online experience  With a growing global network of over   rated video professionals in over   countries managed by dedicated production success teams in   countries    Seconds provides a   success guarantee  Seconds has produced almost   videos in over   Countries for over   Global brands including some of the worlds largest including Paypal  L Oreal  Sony and Barclays and has offices in Auckland  London  Sydney  Tokyo and Singapore     \n",
       "\n",
       "                                                                                                                                                                                                                                                                                                                                                                                                                                                                                                                                                                                                                                                                                                                                                                                                                                                                                                                                                                                                                                                                                                                                                                                                                                                                                                                                                                                                                                                                                                                                                                                                                                                                                                                                                                                                                                                                                                                                                                                                                                       description  \\\n",
       "0                                                                                                                                                                                                                                                                                                                                                                                                                                                                                                                                                                                                                                                                                                                                                                                                                                                                                                                                                                                                                                                                                                            Food  a fast growing  James Beard Award winning online food community and crowd sourced and curated recipe hub  is currently interviewing full  and part time unpaid interns to work in a small team of editors  executives  and developers in its New York City headquarters Reproducing and or repackaging existing Food  content for a number of partner sites  such as Huffington Post  Yahoo  Buzzfeed  and more in their various content management systemsResearching blogs and websites for the Provisions by Food  Affiliate ProgramAssisting in day to day affiliate program support  such as screening affiliates and assisting in any affiliate inquiriesSupporting with PR  amp  Events when neededHelping with office administrative work  such as filing  mailing  and preparing for meetingsWorking with developers to document bugs and suggest improvements to the siteSupporting the marketing and executive staff   \n",
       "1  Organised   Focused   Vibrant   Awesome Do you have a passion for customer service  Slick typing skills  Maybe Account Management   And think administration is cooler than a polar bear on a jetski  Then we need to hear you We are the Cloud Video Production Service and opperating on a glodal level  Yeah  it s pretty cool  Serious about delivering a world class product and excellent customer service Our rapidly expanding business is looking for a talented Project Manager to manage the successful delivery of video projects  manage client communications and drive the production process  Work with some of the coolest brands on the planet and learn from a global team that are representing NZ is a huge way We are entering the next growth stage of our business and growing quickly internationally   Therefore  the position is bursting with opportunity for the right person entering the business at the right time  Seconds  the worlds Cloud Video Production Service   Seconds is the worlds Cloud Video Production Service enabling brands and agencies to get high quality online video content shot and produced anywhere in the world  Fast  affordable  and all managed seamlessly in the cloud from purchase to publish  Seconds removes the hassle  cost  risk and speed issues of working with regular video production companies by managing every aspect of video projects in a beautiful online experience   With a growing network of over   rated video professionals in over   countries and dedicated production success teams in   countries guaranteeing video project success   It s as easy as commissioning a quick google adwords campaign  Seconds has produced almost   videos in over   Countries for over   Global brands including some of the worlds largest including Paypal  L oreal  Sony and Barclays and has offices in Auckland  London  Sydney  Tokyo  amp  Singapore Our Auckland office is based right in the heart of the Wynyard Quarter Innovation Precinct   GridAKL    \n",
       "\n",
       "                                                                                                                                                                                                                                                                                                                                                                                                                                                                                                                                                                                                                                                                                                                                                                                                                                                                                                                                                                                                                                                                                                                                                                                                                                                                                                                                                                                          requirements  \n",
       "0                                                                                                                                                                                                                                                                                                                                                                                                                                                                                                                    Experience with content management systems a major plus  any blogging counts Familiar with the Food  editorial voice and aestheticLoves food  appreciates the importance of home cooking and cooking with the seasonsMeticulous editor  perfectionist  obsessive attention to detail  maddened by typos and broken links  delighted by finding and fixing themCheerful under pressureExcellent communication skillsA  multi tasker and juggler of responsibilities big and smallInterested in and engaged with social media like Twitter  Facebook  and PinterestLoves problem solving and collaborating to drive Food  forwardThinks big picture but pitches in on the nitty gritty of running a small company  dishes  shopping  administrative support Comfortable with the realities of working for a startup  being on call on evenings and weekends  and working long hours  \n",
       "1  What we expect from you Your key responsibility will be to communicate with the client    Seconds team and freelance community throughout the video production process including  shoot planning  securing freelance talent  managing workflow and the online production management system   The aim is to manage each video project effectively so that we produce great videos that our clients love Key attributesClient focused  excellent customer service and communication skillsOnline  oustanding computer knowledge and experience using online software and project management toolsOrganised  manage workload and able to multi task  attention to detailMotivated  self starter with a passion for doing excellent work and achieving great resultsAdaptable  show initiative and think on your feet as this is a constantly evolving atmosphereFlexible  fast turnaround work and after hours availabilityEasy going amp  upbeat  dosen t get bogged down and loves the challengeSense of Humour  have a laugh and know that working in a startup takes guts Ability to deliver  including meeting project deadlines and budgetAttitude is more important than experience at   Seconds  however previous experience in customer service and or project management is beneficialPlease view our platform   website at and get a clear understand about what we do before reaching out   "
      ]
     },
     "execution_count": 32,
     "metadata": {},
     "output_type": "execute_result"
    }
   ],
   "source": [
    "# Removing anything that is not a letter (numbers or symbols)\n",
    "df = df.withColumn(\"title\",regexp_replace(col('title'), '[^A-Za-z ]+', ' '))\\\n",
    "    .withColumn(\"company_profile\",regexp_replace(col('company_profile'), '[^A-Za-z ]+', ' '))\\\n",
    "    .withColumn(\"description\",regexp_replace(col('description'), '[^A-Za-z ]+', ' '))\\\n",
    "    .withColumn(\"requirements\",regexp_replace(col('requirements'), '[^A-Za-z ]+', ' '))\n",
    "df.select(\"title\",\"company_profile\",\"description\",\"requirements\").limit(2).toPandas()"
   ]
  },
  {
   "cell_type": "code",
   "execution_count": 33,
   "metadata": {},
   "outputs": [
    {
     "data": {
      "text/html": [
       "<div>\n",
       "<style scoped>\n",
       "    .dataframe tbody tr th:only-of-type {\n",
       "        vertical-align: middle;\n",
       "    }\n",
       "\n",
       "    .dataframe tbody tr th {\n",
       "        vertical-align: top;\n",
       "    }\n",
       "\n",
       "    .dataframe thead th {\n",
       "        text-align: right;\n",
       "    }\n",
       "</style>\n",
       "<table border=\"1\" class=\"dataframe\">\n",
       "  <thead>\n",
       "    <tr style=\"text-align: right;\">\n",
       "      <th></th>\n",
       "      <th>title</th>\n",
       "      <th>company_profile</th>\n",
       "      <th>description</th>\n",
       "      <th>requirements</th>\n",
       "    </tr>\n",
       "  </thead>\n",
       "  <tbody>\n",
       "    <tr>\n",
       "      <th>0</th>\n",
       "      <td>Marketing Intern</td>\n",
       "      <td>We re Food and we ve created a groundbreaking and award winning cooking site We support connect and celebrate home cooks and give them everything they need in one place We have a top editorial business and engineering team We re focused on using technology to find new and better ways to connect people around their specific food interests and to offer them superb highly curated information about food and cooking We attract the most talented home cooks and contributors in the country we also publish well known professionals like Mario Batali Gwyneth Paltrow and Danny Meyer And we have partnerships with Whole Foods Market and Random House Food has been named the best food website by the James Beard Foundation and IACP and has been featured in the New York Times NPR Pando Daily TechCrunch and on the Today Show We re located in Chelsea in New York City</td>\n",
       "      <td>Food a fast growing James Beard Award winning online food community and crowd sourced and curated recipe hub is currently interviewing full and part time unpaid interns to work in a small team of editors executives and developers in its New York City headquarters Reproducing and or repackaging existing Food content for a number of partner sites such as Huffington Post Yahoo Buzzfeed and more in their various content management systemsResearching blogs and websites for the Provisions by Food Affiliate ProgramAssisting in day to day affiliate program support such as screening affiliates and assisting in any affiliate inquiriesSupporting with PR amp Events when neededHelping with office administrative work such as filing mailing and preparing for meetingsWorking with developers to document bugs and suggest improvements to the siteSupporting the marketing and executive staff</td>\n",
       "      <td>Experience with content management systems a major plus any blogging counts Familiar with the Food editorial voice and aestheticLoves food appreciates the importance of home cooking and cooking with the seasonsMeticulous editor perfectionist obsessive attention to detail maddened by typos and broken links delighted by finding and fixing themCheerful under pressureExcellent communication skillsA multi tasker and juggler of responsibilities big and smallInterested in and engaged with social media like Twitter Facebook and PinterestLoves problem solving and collaborating to drive Food forwardThinks big picture but pitches in on the nitty gritty of running a small company dishes shopping administrative support Comfortable with the realities of working for a startup being on call on evenings and weekends and working long hours</td>\n",
       "    </tr>\n",
       "    <tr>\n",
       "      <th>1</th>\n",
       "      <td>Customer Service Cloud Video Production</td>\n",
       "      <td>Seconds the worlds Cloud Video Production Service Seconds is the worlds Cloud Video Production Service enabling brands and agencies to get high quality online video content shot and produced anywhere in the world Seconds makes video production fast affordable and all managed seamlessly in the cloud from purchase to publish Seconds removes the hassle cost risk and speed issues of working with regular video production companies by managing every aspect of video projects in a beautiful online experience With a growing global network of over rated video professionals in over countries managed by dedicated production success teams in countries Seconds provides a success guarantee Seconds has produced almost videos in over Countries for over Global brands including some of the worlds largest including Paypal L Oreal Sony and Barclays and has offices in Auckland London Sydney Tokyo and Singapore</td>\n",
       "      <td>Organised Focused Vibrant Awesome Do you have a passion for customer service Slick typing skills Maybe Account Management And think administration is cooler than a polar bear on a jetski Then we need to hear you We are the Cloud Video Production Service and opperating on a glodal level Yeah it s pretty cool Serious about delivering a world class product and excellent customer service Our rapidly expanding business is looking for a talented Project Manager to manage the successful delivery of video projects manage client communications and drive the production process Work with some of the coolest brands on the planet and learn from a global team that are representing NZ is a huge way We are entering the next growth stage of our business and growing quickly internationally Therefore the position is bursting with opportunity for the right person entering the business at the right time Seconds the worlds Cloud Video Production Service Seconds is the worlds Cloud Video Production Service enabling brands and agencies to get high quality online video content shot and produced anywhere in the world Fast affordable and all managed seamlessly in the cloud from purchase to publish Seconds removes the hassle cost risk and speed issues of working with regular video production companies by managing every aspect of video projects in a beautiful online experience With a growing network of over rated video professionals in over countries and dedicated production success teams in countries guaranteeing video project success It s as easy as commissioning a quick google adwords campaign Seconds has produced almost videos in over Countries for over Global brands including some of the worlds largest including Paypal L oreal Sony and Barclays and has offices in Auckland London Sydney Tokyo amp Singapore Our Auckland office is based right in the heart of the Wynyard Quarter Innovation Precinct GridAKL</td>\n",
       "      <td>What we expect from you Your key responsibility will be to communicate with the client Seconds team and freelance community throughout the video production process including shoot planning securing freelance talent managing workflow and the online production management system The aim is to manage each video project effectively so that we produce great videos that our clients love Key attributesClient focused excellent customer service and communication skillsOnline oustanding computer knowledge and experience using online software and project management toolsOrganised manage workload and able to multi task attention to detailMotivated self starter with a passion for doing excellent work and achieving great resultsAdaptable show initiative and think on your feet as this is a constantly evolving atmosphereFlexible fast turnaround work and after hours availabilityEasy going amp upbeat dosen t get bogged down and loves the challengeSense of Humour have a laugh and know that working in a startup takes guts Ability to deliver including meeting project deadlines and budgetAttitude is more important than experience at Seconds however previous experience in customer service and or project management is beneficialPlease view our platform website at and get a clear understand about what we do before reaching out</td>\n",
       "    </tr>\n",
       "  </tbody>\n",
       "</table>\n",
       "</div>"
      ],
      "text/plain": [
       "                                     title  \\\n",
       "0                         Marketing Intern   \n",
       "1  Customer Service Cloud Video Production   \n",
       "\n",
       "                                                                                                                                                                                                                                                                                                                                                                                                                                                                                                                                                                                                                                                                                                                                                                                                                                                                                                                           company_profile  \\\n",
       "0                                             We re Food and we ve created a groundbreaking and award winning cooking site We support connect and celebrate home cooks and give them everything they need in one place We have a top editorial business and engineering team We re focused on using technology to find new and better ways to connect people around their specific food interests and to offer them superb highly curated information about food and cooking We attract the most talented home cooks and contributors in the country we also publish well known professionals like Mario Batali Gwyneth Paltrow and Danny Meyer And we have partnerships with Whole Foods Market and Random House Food has been named the best food website by the James Beard Foundation and IACP and has been featured in the New York Times NPR Pando Daily TechCrunch and on the Today Show We re located in Chelsea in New York City    \n",
       "1   Seconds the worlds Cloud Video Production Service Seconds is the worlds Cloud Video Production Service enabling brands and agencies to get high quality online video content shot and produced anywhere in the world Seconds makes video production fast affordable and all managed seamlessly in the cloud from purchase to publish Seconds removes the hassle cost risk and speed issues of working with regular video production companies by managing every aspect of video projects in a beautiful online experience With a growing global network of over rated video professionals in over countries managed by dedicated production success teams in countries Seconds provides a success guarantee Seconds has produced almost videos in over Countries for over Global brands including some of the worlds largest including Paypal L Oreal Sony and Barclays and has offices in Auckland London Sydney Tokyo and Singapore    \n",
       "\n",
       "                                                                                                                                                                                                                                                                                                                                                                                                                                                                                                                                                                                                                                                                                                                                                                                                                                                                                                                                                                                                                                                                                                                                                                                                                                                                                                                                                                                                                                                                                                                                                                                                                                                                                                                                                                                                                                                                                                                                                                                description  \\\n",
       "0                                                                                                                                                                                                                                                                                                                                                                                                                                                                                                                                                                                                                                                                                                                                                                                                                                                                                                                                                                                                                                                                       Food a fast growing James Beard Award winning online food community and crowd sourced and curated recipe hub is currently interviewing full and part time unpaid interns to work in a small team of editors executives and developers in its New York City headquarters Reproducing and or repackaging existing Food content for a number of partner sites such as Huffington Post Yahoo Buzzfeed and more in their various content management systemsResearching blogs and websites for the Provisions by Food Affiliate ProgramAssisting in day to day affiliate program support such as screening affiliates and assisting in any affiliate inquiriesSupporting with PR amp Events when neededHelping with office administrative work such as filing mailing and preparing for meetingsWorking with developers to document bugs and suggest improvements to the siteSupporting the marketing and executive staff   \n",
       "1  Organised Focused Vibrant Awesome Do you have a passion for customer service Slick typing skills Maybe Account Management And think administration is cooler than a polar bear on a jetski Then we need to hear you We are the Cloud Video Production Service and opperating on a glodal level Yeah it s pretty cool Serious about delivering a world class product and excellent customer service Our rapidly expanding business is looking for a talented Project Manager to manage the successful delivery of video projects manage client communications and drive the production process Work with some of the coolest brands on the planet and learn from a global team that are representing NZ is a huge way We are entering the next growth stage of our business and growing quickly internationally Therefore the position is bursting with opportunity for the right person entering the business at the right time Seconds the worlds Cloud Video Production Service Seconds is the worlds Cloud Video Production Service enabling brands and agencies to get high quality online video content shot and produced anywhere in the world Fast affordable and all managed seamlessly in the cloud from purchase to publish Seconds removes the hassle cost risk and speed issues of working with regular video production companies by managing every aspect of video projects in a beautiful online experience With a growing network of over rated video professionals in over countries and dedicated production success teams in countries guaranteeing video project success It s as easy as commissioning a quick google adwords campaign Seconds has produced almost videos in over Countries for over Global brands including some of the worlds largest including Paypal L oreal Sony and Barclays and has offices in Auckland London Sydney Tokyo amp Singapore Our Auckland office is based right in the heart of the Wynyard Quarter Innovation Precinct GridAKL    \n",
       "\n",
       "                                                                                                                                                                                                                                                                                                                                                                                                                                                                                                                                                                                                                                                                                                                                                                                                                                                                                                                                                                                                                                                                                                                                                                                                                                                                                                                                                                  requirements  \n",
       "0                                                                                                                                                                                                                                                                                                                                                                                                                                                                                                            Experience with content management systems a major plus any blogging counts Familiar with the Food editorial voice and aestheticLoves food appreciates the importance of home cooking and cooking with the seasonsMeticulous editor perfectionist obsessive attention to detail maddened by typos and broken links delighted by finding and fixing themCheerful under pressureExcellent communication skillsA multi tasker and juggler of responsibilities big and smallInterested in and engaged with social media like Twitter Facebook and PinterestLoves problem solving and collaborating to drive Food forwardThinks big picture but pitches in on the nitty gritty of running a small company dishes shopping administrative support Comfortable with the realities of working for a startup being on call on evenings and weekends and working long hours  \n",
       "1  What we expect from you Your key responsibility will be to communicate with the client Seconds team and freelance community throughout the video production process including shoot planning securing freelance talent managing workflow and the online production management system The aim is to manage each video project effectively so that we produce great videos that our clients love Key attributesClient focused excellent customer service and communication skillsOnline oustanding computer knowledge and experience using online software and project management toolsOrganised manage workload and able to multi task attention to detailMotivated self starter with a passion for doing excellent work and achieving great resultsAdaptable show initiative and think on your feet as this is a constantly evolving atmosphereFlexible fast turnaround work and after hours availabilityEasy going amp upbeat dosen t get bogged down and loves the challengeSense of Humour have a laugh and know that working in a startup takes guts Ability to deliver including meeting project deadlines and budgetAttitude is more important than experience at Seconds however previous experience in customer service and or project management is beneficialPlease view our platform website at and get a clear understand about what we do before reaching out   "
      ]
     },
     "execution_count": 33,
     "metadata": {},
     "output_type": "execute_result"
    }
   ],
   "source": [
    "# Remove multiple spaces \n",
    "df = df.withColumn(\"title\",regexp_replace(col('title'), ' +', ' '))\\\n",
    "    .withColumn(\"company_profile\",regexp_replace(col('company_profile'), ' +', ' '))\\\n",
    "    .withColumn(\"description\",regexp_replace(col('description'), ' +', ' '))\\\n",
    "    .withColumn(\"requirements\",regexp_replace(col('requirements'), ' +', ' '))\n",
    "df.select(\"title\",\"company_profile\",\"description\",\"requirements\").limit(2).toPandas()"
   ]
  },
  {
   "cell_type": "code",
   "execution_count": 34,
   "metadata": {},
   "outputs": [
    {
     "data": {
      "text/html": [
       "<div>\n",
       "<style scoped>\n",
       "    .dataframe tbody tr th:only-of-type {\n",
       "        vertical-align: middle;\n",
       "    }\n",
       "\n",
       "    .dataframe tbody tr th {\n",
       "        vertical-align: top;\n",
       "    }\n",
       "\n",
       "    .dataframe thead th {\n",
       "        text-align: right;\n",
       "    }\n",
       "</style>\n",
       "<table border=\"1\" class=\"dataframe\">\n",
       "  <thead>\n",
       "    <tr style=\"text-align: right;\">\n",
       "      <th></th>\n",
       "      <th>title</th>\n",
       "      <th>company_profile</th>\n",
       "      <th>description</th>\n",
       "      <th>requirements</th>\n",
       "    </tr>\n",
       "  </thead>\n",
       "  <tbody>\n",
       "    <tr>\n",
       "      <th>0</th>\n",
       "      <td>marketing intern</td>\n",
       "      <td>we re food and we ve created a groundbreaking and award winning cooking site we support connect and celebrate home cooks and give them everything they need in one place we have a top editorial business and engineering team we re focused on using technology to find new and better ways to connect people around their specific food interests and to offer them superb highly curated information about food and cooking we attract the most talented home cooks and contributors in the country we also publish well known professionals like mario batali gwyneth paltrow and danny meyer and we have partnerships with whole foods market and random house food has been named the best food website by the james beard foundation and iacp and has been featured in the new york times npr pando daily techcrunch and on the today show we re located in chelsea in new york city</td>\n",
       "      <td>food a fast growing james beard award winning online food community and crowd sourced and curated recipe hub is currently interviewing full and part time unpaid interns to work in a small team of editors executives and developers in its new york city headquarters reproducing and or repackaging existing food content for a number of partner sites such as huffington post yahoo buzzfeed and more in their various content management systemsresearching blogs and websites for the provisions by food affiliate programassisting in day to day affiliate program support such as screening affiliates and assisting in any affiliate inquiriessupporting with pr amp events when neededhelping with office administrative work such as filing mailing and preparing for meetingsworking with developers to document bugs and suggest improvements to the sitesupporting the marketing and executive staff</td>\n",
       "      <td>experience with content management systems a major plus any blogging counts familiar with the food editorial voice and aestheticloves food appreciates the importance of home cooking and cooking with the seasonsmeticulous editor perfectionist obsessive attention to detail maddened by typos and broken links delighted by finding and fixing themcheerful under pressureexcellent communication skillsa multi tasker and juggler of responsibilities big and smallinterested in and engaged with social media like twitter facebook and pinterestloves problem solving and collaborating to drive food forwardthinks big picture but pitches in on the nitty gritty of running a small company dishes shopping administrative support comfortable with the realities of working for a startup being on call on evenings and weekends and working long hours</td>\n",
       "    </tr>\n",
       "    <tr>\n",
       "      <th>1</th>\n",
       "      <td>customer service cloud video production</td>\n",
       "      <td>seconds the worlds cloud video production service seconds is the worlds cloud video production service enabling brands and agencies to get high quality online video content shot and produced anywhere in the world seconds makes video production fast affordable and all managed seamlessly in the cloud from purchase to publish seconds removes the hassle cost risk and speed issues of working with regular video production companies by managing every aspect of video projects in a beautiful online experience with a growing global network of over rated video professionals in over countries managed by dedicated production success teams in countries seconds provides a success guarantee seconds has produced almost videos in over countries for over global brands including some of the worlds largest including paypal l oreal sony and barclays and has offices in auckland london sydney tokyo and singapore</td>\n",
       "      <td>organised focused vibrant awesome do you have a passion for customer service slick typing skills maybe account management and think administration is cooler than a polar bear on a jetski then we need to hear you we are the cloud video production service and opperating on a glodal level yeah it s pretty cool serious about delivering a world class product and excellent customer service our rapidly expanding business is looking for a talented project manager to manage the successful delivery of video projects manage client communications and drive the production process work with some of the coolest brands on the planet and learn from a global team that are representing nz is a huge way we are entering the next growth stage of our business and growing quickly internationally therefore the position is bursting with opportunity for the right person entering the business at the right time seconds the worlds cloud video production service seconds is the worlds cloud video production service enabling brands and agencies to get high quality online video content shot and produced anywhere in the world fast affordable and all managed seamlessly in the cloud from purchase to publish seconds removes the hassle cost risk and speed issues of working with regular video production companies by managing every aspect of video projects in a beautiful online experience with a growing network of over rated video professionals in over countries and dedicated production success teams in countries guaranteeing video project success it s as easy as commissioning a quick google adwords campaign seconds has produced almost videos in over countries for over global brands including some of the worlds largest including paypal l oreal sony and barclays and has offices in auckland london sydney tokyo amp singapore our auckland office is based right in the heart of the wynyard quarter innovation precinct gridakl</td>\n",
       "      <td>what we expect from you your key responsibility will be to communicate with the client seconds team and freelance community throughout the video production process including shoot planning securing freelance talent managing workflow and the online production management system the aim is to manage each video project effectively so that we produce great videos that our clients love key attributesclient focused excellent customer service and communication skillsonline oustanding computer knowledge and experience using online software and project management toolsorganised manage workload and able to multi task attention to detailmotivated self starter with a passion for doing excellent work and achieving great resultsadaptable show initiative and think on your feet as this is a constantly evolving atmosphereflexible fast turnaround work and after hours availabilityeasy going amp upbeat dosen t get bogged down and loves the challengesense of humour have a laugh and know that working in a startup takes guts ability to deliver including meeting project deadlines and budgetattitude is more important than experience at seconds however previous experience in customer service and or project management is beneficialplease view our platform website at and get a clear understand about what we do before reaching out</td>\n",
       "    </tr>\n",
       "  </tbody>\n",
       "</table>\n",
       "</div>"
      ],
      "text/plain": [
       "                                     title  \\\n",
       "0                         marketing intern   \n",
       "1  customer service cloud video production   \n",
       "\n",
       "                                                                                                                                                                                                                                                                                                                                                                                                                                                                                                                                                                                                                                                                                                                                                                                                                                                                                                                           company_profile  \\\n",
       "0                                             we re food and we ve created a groundbreaking and award winning cooking site we support connect and celebrate home cooks and give them everything they need in one place we have a top editorial business and engineering team we re focused on using technology to find new and better ways to connect people around their specific food interests and to offer them superb highly curated information about food and cooking we attract the most talented home cooks and contributors in the country we also publish well known professionals like mario batali gwyneth paltrow and danny meyer and we have partnerships with whole foods market and random house food has been named the best food website by the james beard foundation and iacp and has been featured in the new york times npr pando daily techcrunch and on the today show we re located in chelsea in new york city    \n",
       "1   seconds the worlds cloud video production service seconds is the worlds cloud video production service enabling brands and agencies to get high quality online video content shot and produced anywhere in the world seconds makes video production fast affordable and all managed seamlessly in the cloud from purchase to publish seconds removes the hassle cost risk and speed issues of working with regular video production companies by managing every aspect of video projects in a beautiful online experience with a growing global network of over rated video professionals in over countries managed by dedicated production success teams in countries seconds provides a success guarantee seconds has produced almost videos in over countries for over global brands including some of the worlds largest including paypal l oreal sony and barclays and has offices in auckland london sydney tokyo and singapore    \n",
       "\n",
       "                                                                                                                                                                                                                                                                                                                                                                                                                                                                                                                                                                                                                                                                                                                                                                                                                                                                                                                                                                                                                                                                                                                                                                                                                                                                                                                                                                                                                                                                                                                                                                                                                                                                                                                                                                                                                                                                                                                                                                                description  \\\n",
       "0                                                                                                                                                                                                                                                                                                                                                                                                                                                                                                                                                                                                                                                                                                                                                                                                                                                                                                                                                                                                                                                                       food a fast growing james beard award winning online food community and crowd sourced and curated recipe hub is currently interviewing full and part time unpaid interns to work in a small team of editors executives and developers in its new york city headquarters reproducing and or repackaging existing food content for a number of partner sites such as huffington post yahoo buzzfeed and more in their various content management systemsresearching blogs and websites for the provisions by food affiliate programassisting in day to day affiliate program support such as screening affiliates and assisting in any affiliate inquiriessupporting with pr amp events when neededhelping with office administrative work such as filing mailing and preparing for meetingsworking with developers to document bugs and suggest improvements to the sitesupporting the marketing and executive staff   \n",
       "1  organised focused vibrant awesome do you have a passion for customer service slick typing skills maybe account management and think administration is cooler than a polar bear on a jetski then we need to hear you we are the cloud video production service and opperating on a glodal level yeah it s pretty cool serious about delivering a world class product and excellent customer service our rapidly expanding business is looking for a talented project manager to manage the successful delivery of video projects manage client communications and drive the production process work with some of the coolest brands on the planet and learn from a global team that are representing nz is a huge way we are entering the next growth stage of our business and growing quickly internationally therefore the position is bursting with opportunity for the right person entering the business at the right time seconds the worlds cloud video production service seconds is the worlds cloud video production service enabling brands and agencies to get high quality online video content shot and produced anywhere in the world fast affordable and all managed seamlessly in the cloud from purchase to publish seconds removes the hassle cost risk and speed issues of working with regular video production companies by managing every aspect of video projects in a beautiful online experience with a growing network of over rated video professionals in over countries and dedicated production success teams in countries guaranteeing video project success it s as easy as commissioning a quick google adwords campaign seconds has produced almost videos in over countries for over global brands including some of the worlds largest including paypal l oreal sony and barclays and has offices in auckland london sydney tokyo amp singapore our auckland office is based right in the heart of the wynyard quarter innovation precinct gridakl    \n",
       "\n",
       "                                                                                                                                                                                                                                                                                                                                                                                                                                                                                                                                                                                                                                                                                                                                                                                                                                                                                                                                                                                                                                                                                                                                                                                                                                                                                                                                                                  requirements  \n",
       "0                                                                                                                                                                                                                                                                                                                                                                                                                                                                                                            experience with content management systems a major plus any blogging counts familiar with the food editorial voice and aestheticloves food appreciates the importance of home cooking and cooking with the seasonsmeticulous editor perfectionist obsessive attention to detail maddened by typos and broken links delighted by finding and fixing themcheerful under pressureexcellent communication skillsa multi tasker and juggler of responsibilities big and smallinterested in and engaged with social media like twitter facebook and pinterestloves problem solving and collaborating to drive food forwardthinks big picture but pitches in on the nitty gritty of running a small company dishes shopping administrative support comfortable with the realities of working for a startup being on call on evenings and weekends and working long hours  \n",
       "1  what we expect from you your key responsibility will be to communicate with the client seconds team and freelance community throughout the video production process including shoot planning securing freelance talent managing workflow and the online production management system the aim is to manage each video project effectively so that we produce great videos that our clients love key attributesclient focused excellent customer service and communication skillsonline oustanding computer knowledge and experience using online software and project management toolsorganised manage workload and able to multi task attention to detailmotivated self starter with a passion for doing excellent work and achieving great resultsadaptable show initiative and think on your feet as this is a constantly evolving atmosphereflexible fast turnaround work and after hours availabilityeasy going amp upbeat dosen t get bogged down and loves the challengesense of humour have a laugh and know that working in a startup takes guts ability to deliver including meeting project deadlines and budgetattitude is more important than experience at seconds however previous experience in customer service and or project management is beneficialplease view our platform website at and get a clear understand about what we do before reaching out   "
      ]
     },
     "execution_count": 34,
     "metadata": {},
     "output_type": "execute_result"
    }
   ],
   "source": [
    "# Lower case everything \n",
    "df = df.withColumn(\"title\",lower(col(\"title\")))\\\n",
    "    .withColumn(\"company_profile\",lower(col(\"company_profile\")))\\\n",
    "    .withColumn(\"description\",lower(col(\"description\")))\\\n",
    "    .withColumn(\"requirements\",lower(col(\"requirements\")))\n",
    "df.select(\"title\",\"company_profile\",\"description\",\"requirements\").limit(2).toPandas()"
   ]
  },
  {
   "cell_type": "code",
   "execution_count": 35,
   "metadata": {},
   "outputs": [
    {
     "data": {
      "text/html": [
       "<div>\n",
       "<style scoped>\n",
       "    .dataframe tbody tr th:only-of-type {\n",
       "        vertical-align: middle;\n",
       "    }\n",
       "\n",
       "    .dataframe tbody tr th {\n",
       "        vertical-align: top;\n",
       "    }\n",
       "\n",
       "    .dataframe thead th {\n",
       "        text-align: right;\n",
       "    }\n",
       "</style>\n",
       "<table border=\"1\" class=\"dataframe\">\n",
       "  <thead>\n",
       "    <tr style=\"text-align: right;\">\n",
       "      <th></th>\n",
       "      <th>job_id</th>\n",
       "      <th>title</th>\n",
       "      <th>company_profile</th>\n",
       "      <th>description</th>\n",
       "      <th>requirements</th>\n",
       "      <th>employment_type</th>\n",
       "      <th>country</th>\n",
       "      <th>telecommuting1</th>\n",
       "      <th>has_company_logo1</th>\n",
       "      <th>has_questions1</th>\n",
       "      <th>fraudulent1</th>\n",
       "      <th>title_tokenized</th>\n",
       "      <th>company_profile_tokenized</th>\n",
       "      <th>description_tokenized</th>\n",
       "      <th>requirements_tokenized</th>\n",
       "    </tr>\n",
       "  </thead>\n",
       "  <tbody>\n",
       "    <tr>\n",
       "      <th>0</th>\n",
       "      <td>1</td>\n",
       "      <td>marketing intern</td>\n",
       "      <td>we re food and we ve created a groundbreaking and award winning cooking site we support connect and celebrate home cooks and give them everything they need in one place we have a top editorial business and engineering team we re focused on using technology to find new and better ways to connect people around their specific food interests and to offer them superb highly curated information about food and cooking we attract the most talented home cooks and contributors in the country we also publish well known professionals like mario batali gwyneth paltrow and danny meyer and we have partnerships with whole foods market and random house food has been named the best food website by the james beard foundation and iacp and has been featured in the new york times npr pando daily techcrunch and on the today show we re located in chelsea in new york city</td>\n",
       "      <td>food a fast growing james beard award winning online food community and crowd sourced and curated recipe hub is currently interviewing full and part time unpaid interns to work in a small team of editors executives and developers in its new york city headquarters reproducing and or repackaging existing food content for a number of partner sites such as huffington post yahoo buzzfeed and more in their various content management systemsresearching blogs and websites for the provisions by food affiliate programassisting in day to day affiliate program support such as screening affiliates and assisting in any affiliate inquiriessupporting with pr amp events when neededhelping with office administrative work such as filing mailing and preparing for meetingsworking with developers to document bugs and suggest improvements to the sitesupporting the marketing and executive staff</td>\n",
       "      <td>experience with content management systems a major plus any blogging counts familiar with the food editorial voice and aestheticloves food appreciates the importance of home cooking and cooking with the seasonsmeticulous editor perfectionist obsessive attention to detail maddened by typos and broken links delighted by finding and fixing themcheerful under pressureexcellent communication skillsa multi tasker and juggler of responsibilities big and smallinterested in and engaged with social media like twitter facebook and pinterestloves problem solving and collaborating to drive food forwardthinks big picture but pitches in on the nitty gritty of running a small company dishes shopping administrative support comfortable with the realities of working for a startup being on call on evenings and weekends and working long hours</td>\n",
       "      <td>other</td>\n",
       "      <td>US</td>\n",
       "      <td>0</td>\n",
       "      <td>1</td>\n",
       "      <td>0</td>\n",
       "      <td>0</td>\n",
       "      <td>[marketing, intern]</td>\n",
       "      <td>[we, re, food, and, we, ve, created, a, groundbreaking, and, award, winning, cooking, site, we, support, connect, and, celebrate, home, cooks, and, give, them, everything, they, need, in, one, place, we, have, a, top, editorial, business, and, engineering, team, we, re, focused, on, using, technology, to, find, new, and, better, ways, to, connect, people, around, their, specific, food, interests, and, to, offer, them, superb, highly, curated, information, about, food, and, cooking, we, attract, the, most, talented, home, cooks, and, contributors, in, the, country, we, also, publish, well, known, professionals, like, mario, batali, gwyneth, paltrow, and, danny, meyer, and, we, have, ...]</td>\n",
       "      <td>[food, a, fast, growing, james, beard, award, winning, online, food, community, and, crowd, sourced, and, curated, recipe, hub, is, currently, interviewing, full, and, part, time, unpaid, interns, to, work, in, a, small, team, of, editors, executives, and, developers, in, its, new, york, city, headquarters, reproducing, and, or, repackaging, existing, food, content, for, a, number, of, partner, sites, such, as, huffington, post, yahoo, buzzfeed, and, more, in, their, various, content, management, systemsresearching, blogs, and, websites, for, the, provisions, by, food, affiliate, programassisting, in, day, to, day, affiliate, program, support, such, as, screening, affiliates, and, assisting, in, any, affiliate, inquiriessupporting, with, pr, ...]</td>\n",
       "      <td>[experience, with, content, management, systems, a, major, plus, any, blogging, counts, familiar, with, the, food, editorial, voice, and, aestheticloves, food, appreciates, the, importance, of, home, cooking, and, cooking, with, the, seasonsmeticulous, editor, perfectionist, obsessive, attention, to, detail, maddened, by, typos, and, broken, links, delighted, by, finding, and, fixing, themcheerful, under, pressureexcellent, communication, skillsa, multi, tasker, and, juggler, of, responsibilities, big, and, smallinterested, in, and, engaged, with, social, media, like, twitter, facebook, and, pinterestloves, problem, solving, and, collaborating, to, drive, food, forwardthinks, big, picture, but, pitches, in, on, the, nitty, gritty, of, running, a, small, company, dishes, shopping, administrative, support, comfortable, ...]</td>\n",
       "    </tr>\n",
       "  </tbody>\n",
       "</table>\n",
       "</div>"
      ],
      "text/plain": [
       "   job_id             title  \\\n",
       "0       1  marketing intern   \n",
       "\n",
       "                                                                                                                                                                                                                                                                                                                                                                                                                                                                                                                                                                                                                                                                                                                                                                                                                                                                                company_profile  \\\n",
       "0  we re food and we ve created a groundbreaking and award winning cooking site we support connect and celebrate home cooks and give them everything they need in one place we have a top editorial business and engineering team we re focused on using technology to find new and better ways to connect people around their specific food interests and to offer them superb highly curated information about food and cooking we attract the most talented home cooks and contributors in the country we also publish well known professionals like mario batali gwyneth paltrow and danny meyer and we have partnerships with whole foods market and random house food has been named the best food website by the james beard foundation and iacp and has been featured in the new york times npr pando daily techcrunch and on the today show we re located in chelsea in new york city    \n",
       "\n",
       "                                                                                                                                                                                                                                                                                                                                                                                                                                                                                                                                                                                                                                                                                                                                                                                                                                                                                                           description  \\\n",
       "0  food a fast growing james beard award winning online food community and crowd sourced and curated recipe hub is currently interviewing full and part time unpaid interns to work in a small team of editors executives and developers in its new york city headquarters reproducing and or repackaging existing food content for a number of partner sites such as huffington post yahoo buzzfeed and more in their various content management systemsresearching blogs and websites for the provisions by food affiliate programassisting in day to day affiliate program support such as screening affiliates and assisting in any affiliate inquiriessupporting with pr amp events when neededhelping with office administrative work such as filing mailing and preparing for meetingsworking with developers to document bugs and suggest improvements to the sitesupporting the marketing and executive staff   \n",
       "\n",
       "                                                                                                                                                                                                                                                                                                                                                                                                                                                                                                                                                                                                                                                                                                                                                                                                                                                        requirements  \\\n",
       "0  experience with content management systems a major plus any blogging counts familiar with the food editorial voice and aestheticloves food appreciates the importance of home cooking and cooking with the seasonsmeticulous editor perfectionist obsessive attention to detail maddened by typos and broken links delighted by finding and fixing themcheerful under pressureexcellent communication skillsa multi tasker and juggler of responsibilities big and smallinterested in and engaged with social media like twitter facebook and pinterestloves problem solving and collaborating to drive food forwardthinks big picture but pitches in on the nitty gritty of running a small company dishes shopping administrative support comfortable with the realities of working for a startup being on call on evenings and weekends and working long hours   \n",
       "\n",
       "  employment_type country  telecommuting1  has_company_logo1  has_questions1  \\\n",
       "0           other      US               0                  1               0   \n",
       "\n",
       "   fraudulent1      title_tokenized  \\\n",
       "0            0  [marketing, intern]   \n",
       "\n",
       "                                                                                                                                                                                                                                                                                                                                                                                                                                                                                                                                                                                                                                                                                                 company_profile_tokenized  \\\n",
       "0  [we, re, food, and, we, ve, created, a, groundbreaking, and, award, winning, cooking, site, we, support, connect, and, celebrate, home, cooks, and, give, them, everything, they, need, in, one, place, we, have, a, top, editorial, business, and, engineering, team, we, re, focused, on, using, technology, to, find, new, and, better, ways, to, connect, people, around, their, specific, food, interests, and, to, offer, them, superb, highly, curated, information, about, food, and, cooking, we, attract, the, most, talented, home, cooks, and, contributors, in, the, country, we, also, publish, well, known, professionals, like, mario, batali, gwyneth, paltrow, and, danny, meyer, and, we, have, ...]   \n",
       "\n",
       "                                                                                                                                                                                                                                                                                                                                                                                                                                                                                                                                                                                                                                                                                                                                                                  description_tokenized  \\\n",
       "0  [food, a, fast, growing, james, beard, award, winning, online, food, community, and, crowd, sourced, and, curated, recipe, hub, is, currently, interviewing, full, and, part, time, unpaid, interns, to, work, in, a, small, team, of, editors, executives, and, developers, in, its, new, york, city, headquarters, reproducing, and, or, repackaging, existing, food, content, for, a, number, of, partner, sites, such, as, huffington, post, yahoo, buzzfeed, and, more, in, their, various, content, management, systemsresearching, blogs, and, websites, for, the, provisions, by, food, affiliate, programassisting, in, day, to, day, affiliate, program, support, such, as, screening, affiliates, and, assisting, in, any, affiliate, inquiriessupporting, with, pr, ...]   \n",
       "\n",
       "                                                                                                                                                                                                                                                                                                                                                                                                                                                                                                                                                                                                                                                                                                                                                                                                                                              requirements_tokenized  \n",
       "0  [experience, with, content, management, systems, a, major, plus, any, blogging, counts, familiar, with, the, food, editorial, voice, and, aestheticloves, food, appreciates, the, importance, of, home, cooking, and, cooking, with, the, seasonsmeticulous, editor, perfectionist, obsessive, attention, to, detail, maddened, by, typos, and, broken, links, delighted, by, finding, and, fixing, themcheerful, under, pressureexcellent, communication, skillsa, multi, tasker, and, juggler, of, responsibilities, big, and, smallinterested, in, and, engaged, with, social, media, like, twitter, facebook, and, pinterestloves, problem, solving, and, collaborating, to, drive, food, forwardthinks, big, picture, but, pitches, in, on, the, nitty, gritty, of, running, a, small, company, dishes, shopping, administrative, support, comfortable, ...]  "
      ]
     },
     "execution_count": 35,
     "metadata": {},
     "output_type": "execute_result"
    }
   ],
   "source": [
    "#tokenization\n",
    "cols = [\"title\",\"company_profile\",\"description\",\"requirements\"]\n",
    "raw_words = df\n",
    "for col in cols:\n",
    "    regex_tokenizer = RegexTokenizer(inputCol=col, outputCol=col+\"_tokenized\", pattern=\"\\W\")\n",
    "    raw_words = regex_tokenizer.transform(raw_words)\n",
    "\n",
    "raw_words.limit(1).toPandas()"
   ]
  },
  {
   "cell_type": "code",
   "execution_count": 36,
   "metadata": {},
   "outputs": [
    {
     "name": "stdout",
     "output_type": "stream",
     "text": [
      "root\n",
      " |-- job_id: integer (nullable = true)\n",
      " |-- title: string (nullable = true)\n",
      " |-- company_profile: string (nullable = true)\n",
      " |-- description: string (nullable = true)\n",
      " |-- requirements: string (nullable = true)\n",
      " |-- employment_type: string (nullable = true)\n",
      " |-- country: string (nullable = true)\n",
      " |-- telecommuting1: integer (nullable = true)\n",
      " |-- has_company_logo1: integer (nullable = true)\n",
      " |-- has_questions1: integer (nullable = true)\n",
      " |-- fraudulent1: integer (nullable = true)\n",
      " |-- title_tokenized: array (nullable = true)\n",
      " |    |-- element: string (containsNull = true)\n",
      " |-- company_profile_tokenized: array (nullable = true)\n",
      " |    |-- element: string (containsNull = true)\n",
      " |-- description_tokenized: array (nullable = true)\n",
      " |    |-- element: string (containsNull = true)\n",
      " |-- requirements_tokenized: array (nullable = true)\n",
      " |    |-- element: string (containsNull = true)\n",
      "\n"
     ]
    }
   ],
   "source": [
    "raw_words.printSchema() "
   ]
  },
  {
   "cell_type": "code",
   "execution_count": 37,
   "metadata": {},
   "outputs": [
    {
     "name": "stdout",
     "output_type": "stream",
     "text": [
      "root\n",
      " |-- employment_type: string (nullable = true)\n",
      " |-- country: string (nullable = true)\n",
      " |-- telecommuting1: integer (nullable = true)\n",
      " |-- has_company_logo1: integer (nullable = true)\n",
      " |-- has_questions1: integer (nullable = true)\n",
      " |-- fraudulent1: integer (nullable = true)\n",
      " |-- title_tokenized: array (nullable = true)\n",
      " |    |-- element: string (containsNull = true)\n",
      " |-- company_profile_tokenized: array (nullable = true)\n",
      " |    |-- element: string (containsNull = true)\n",
      " |-- description_tokenized: array (nullable = true)\n",
      " |    |-- element: string (containsNull = true)\n",
      " |-- requirements_tokenized: array (nullable = true)\n",
      " |    |-- element: string (containsNull = true)\n",
      "\n"
     ]
    }
   ],
   "source": [
    "df_tokenized_cols = raw_words.columns[5:]\n",
    "df_tokenized = raw_words.select(df_tokenized_cols)\n",
    "df_tokenized.printSchema()"
   ]
  },
  {
   "cell_type": "code",
   "execution_count": 38,
   "metadata": {},
   "outputs": [
    {
     "data": {
      "text/html": [
       "<div>\n",
       "<style scoped>\n",
       "    .dataframe tbody tr th:only-of-type {\n",
       "        vertical-align: middle;\n",
       "    }\n",
       "\n",
       "    .dataframe tbody tr th {\n",
       "        vertical-align: top;\n",
       "    }\n",
       "\n",
       "    .dataframe thead th {\n",
       "        text-align: right;\n",
       "    }\n",
       "</style>\n",
       "<table border=\"1\" class=\"dataframe\">\n",
       "  <thead>\n",
       "    <tr style=\"text-align: right;\">\n",
       "      <th></th>\n",
       "      <th>employment_type</th>\n",
       "      <th>country</th>\n",
       "      <th>telecommuting1</th>\n",
       "      <th>has_company_logo1</th>\n",
       "      <th>has_questions1</th>\n",
       "      <th>fraudulent1</th>\n",
       "      <th>title_tokenized</th>\n",
       "      <th>company_profile_tokenized</th>\n",
       "      <th>description_tokenized</th>\n",
       "      <th>requirements_tokenized</th>\n",
       "      <th>title_tokenized_filtered</th>\n",
       "      <th>company_profile_tokenized_filtered</th>\n",
       "      <th>description_tokenized_filtered</th>\n",
       "      <th>requirements_tokenized_filtered</th>\n",
       "    </tr>\n",
       "  </thead>\n",
       "  <tbody>\n",
       "    <tr>\n",
       "      <th>0</th>\n",
       "      <td>other</td>\n",
       "      <td>US</td>\n",
       "      <td>0</td>\n",
       "      <td>1</td>\n",
       "      <td>0</td>\n",
       "      <td>0</td>\n",
       "      <td>[marketing, intern]</td>\n",
       "      <td>[we, re, food, and, we, ve, created, a, groundbreaking, and, award, winning, cooking, site, we, support, connect, and, celebrate, home, cooks, and, give, them, everything, they, need, in, one, place, we, have, a, top, editorial, business, and, engineering, team, we, re, focused, on, using, technology, to, find, new, and, better, ways, to, connect, people, around, their, specific, food, interests, and, to, offer, them, superb, highly, curated, information, about, food, and, cooking, we, attract, the, most, talented, home, cooks, and, contributors, in, the, country, we, also, publish, well, known, professionals, like, mario, batali, gwyneth, paltrow, and, danny, meyer, and, we, have, ...]</td>\n",
       "      <td>[food, a, fast, growing, james, beard, award, winning, online, food, community, and, crowd, sourced, and, curated, recipe, hub, is, currently, interviewing, full, and, part, time, unpaid, interns, to, work, in, a, small, team, of, editors, executives, and, developers, in, its, new, york, city, headquarters, reproducing, and, or, repackaging, existing, food, content, for, a, number, of, partner, sites, such, as, huffington, post, yahoo, buzzfeed, and, more, in, their, various, content, management, systemsresearching, blogs, and, websites, for, the, provisions, by, food, affiliate, programassisting, in, day, to, day, affiliate, program, support, such, as, screening, affiliates, and, assisting, in, any, affiliate, inquiriessupporting, with, pr, ...]</td>\n",
       "      <td>[experience, with, content, management, systems, a, major, plus, any, blogging, counts, familiar, with, the, food, editorial, voice, and, aestheticloves, food, appreciates, the, importance, of, home, cooking, and, cooking, with, the, seasonsmeticulous, editor, perfectionist, obsessive, attention, to, detail, maddened, by, typos, and, broken, links, delighted, by, finding, and, fixing, themcheerful, under, pressureexcellent, communication, skillsa, multi, tasker, and, juggler, of, responsibilities, big, and, smallinterested, in, and, engaged, with, social, media, like, twitter, facebook, and, pinterestloves, problem, solving, and, collaborating, to, drive, food, forwardthinks, big, picture, but, pitches, in, on, the, nitty, gritty, of, running, a, small, company, dishes, shopping, administrative, support, comfortable, ...]</td>\n",
       "      <td>[marketing, intern]</td>\n",
       "      <td>[re, food, ve, created, groundbreaking, award, winning, cooking, site, support, connect, celebrate, home, cooks, give, everything, need, one, place, top, editorial, business, engineering, team, re, focused, using, technology, find, new, better, ways, connect, people, around, specific, food, interests, offer, superb, highly, curated, information, food, cooking, attract, talented, home, cooks, contributors, country, also, publish, well, known, professionals, like, mario, batali, gwyneth, paltrow, danny, meyer, partnerships, whole, foods, market, random, house, food, named, best, food, website, james, beard, foundation, iacp, featured, new, york, times, npr, pando, daily, techcrunch, today, show, re, located, chelsea, new, york, city]</td>\n",
       "      <td>[food, fast, growing, james, beard, award, winning, online, food, community, crowd, sourced, curated, recipe, hub, currently, interviewing, full, part, time, unpaid, interns, work, small, team, editors, executives, developers, new, york, city, headquarters, reproducing, repackaging, existing, food, content, number, partner, sites, huffington, post, yahoo, buzzfeed, various, content, management, systemsresearching, blogs, websites, provisions, food, affiliate, programassisting, day, day, affiliate, program, support, screening, affiliates, assisting, affiliate, inquiriessupporting, pr, amp, events, neededhelping, office, administrative, work, filing, mailing, preparing, meetingsworking, developers, document, bugs, suggest, improvements, sitesupporting, marketing, executive, staff]</td>\n",
       "      <td>[experience, content, management, systems, major, plus, blogging, counts, familiar, food, editorial, voice, aestheticloves, food, appreciates, importance, home, cooking, cooking, seasonsmeticulous, editor, perfectionist, obsessive, attention, detail, maddened, typos, broken, links, delighted, finding, fixing, themcheerful, pressureexcellent, communication, skillsa, multi, tasker, juggler, responsibilities, big, smallinterested, engaged, social, media, like, twitter, facebook, pinterestloves, problem, solving, collaborating, drive, food, forwardthinks, big, picture, pitches, nitty, gritty, running, small, company, dishes, shopping, administrative, support, comfortable, realities, working, startup, call, evenings, weekends, working, long, hours]</td>\n",
       "    </tr>\n",
       "  </tbody>\n",
       "</table>\n",
       "</div>"
      ],
      "text/plain": [
       "  employment_type country  telecommuting1  has_company_logo1  has_questions1  \\\n",
       "0           other      US               0                  1               0   \n",
       "\n",
       "   fraudulent1      title_tokenized  \\\n",
       "0            0  [marketing, intern]   \n",
       "\n",
       "                                                                                                                                                                                                                                                                                                                                                                                                                                                                                                                                                                                                                                                                                                 company_profile_tokenized  \\\n",
       "0  [we, re, food, and, we, ve, created, a, groundbreaking, and, award, winning, cooking, site, we, support, connect, and, celebrate, home, cooks, and, give, them, everything, they, need, in, one, place, we, have, a, top, editorial, business, and, engineering, team, we, re, focused, on, using, technology, to, find, new, and, better, ways, to, connect, people, around, their, specific, food, interests, and, to, offer, them, superb, highly, curated, information, about, food, and, cooking, we, attract, the, most, talented, home, cooks, and, contributors, in, the, country, we, also, publish, well, known, professionals, like, mario, batali, gwyneth, paltrow, and, danny, meyer, and, we, have, ...]   \n",
       "\n",
       "                                                                                                                                                                                                                                                                                                                                                                                                                                                                                                                                                                                                                                                                                                                                                                  description_tokenized  \\\n",
       "0  [food, a, fast, growing, james, beard, award, winning, online, food, community, and, crowd, sourced, and, curated, recipe, hub, is, currently, interviewing, full, and, part, time, unpaid, interns, to, work, in, a, small, team, of, editors, executives, and, developers, in, its, new, york, city, headquarters, reproducing, and, or, repackaging, existing, food, content, for, a, number, of, partner, sites, such, as, huffington, post, yahoo, buzzfeed, and, more, in, their, various, content, management, systemsresearching, blogs, and, websites, for, the, provisions, by, food, affiliate, programassisting, in, day, to, day, affiliate, program, support, such, as, screening, affiliates, and, assisting, in, any, affiliate, inquiriessupporting, with, pr, ...]   \n",
       "\n",
       "                                                                                                                                                                                                                                                                                                                                                                                                                                                                                                                                                                                                                                                                                                                                                                                                                                              requirements_tokenized  \\\n",
       "0  [experience, with, content, management, systems, a, major, plus, any, blogging, counts, familiar, with, the, food, editorial, voice, and, aestheticloves, food, appreciates, the, importance, of, home, cooking, and, cooking, with, the, seasonsmeticulous, editor, perfectionist, obsessive, attention, to, detail, maddened, by, typos, and, broken, links, delighted, by, finding, and, fixing, themcheerful, under, pressureexcellent, communication, skillsa, multi, tasker, and, juggler, of, responsibilities, big, and, smallinterested, in, and, engaged, with, social, media, like, twitter, facebook, and, pinterestloves, problem, solving, and, collaborating, to, drive, food, forwardthinks, big, picture, but, pitches, in, on, the, nitty, gritty, of, running, a, small, company, dishes, shopping, administrative, support, comfortable, ...]   \n",
       "\n",
       "  title_tokenized_filtered  \\\n",
       "0      [marketing, intern]   \n",
       "\n",
       "                                                                                                                                                                                                                                                                                                                                                                                                                                                                                                                                                                                                                                                                                                                                      company_profile_tokenized_filtered  \\\n",
       "0  [re, food, ve, created, groundbreaking, award, winning, cooking, site, support, connect, celebrate, home, cooks, give, everything, need, one, place, top, editorial, business, engineering, team, re, focused, using, technology, find, new, better, ways, connect, people, around, specific, food, interests, offer, superb, highly, curated, information, food, cooking, attract, talented, home, cooks, contributors, country, also, publish, well, known, professionals, like, mario, batali, gwyneth, paltrow, danny, meyer, partnerships, whole, foods, market, random, house, food, named, best, food, website, james, beard, foundation, iacp, featured, new, york, times, npr, pando, daily, techcrunch, today, show, re, located, chelsea, new, york, city]   \n",
       "\n",
       "                                                                                                                                                                                                                                                                                                                                                                                                                                                                                                                                                                                                                                                                                                                                                                                          description_tokenized_filtered  \\\n",
       "0  [food, fast, growing, james, beard, award, winning, online, food, community, crowd, sourced, curated, recipe, hub, currently, interviewing, full, part, time, unpaid, interns, work, small, team, editors, executives, developers, new, york, city, headquarters, reproducing, repackaging, existing, food, content, number, partner, sites, huffington, post, yahoo, buzzfeed, various, content, management, systemsresearching, blogs, websites, provisions, food, affiliate, programassisting, day, day, affiliate, program, support, screening, affiliates, assisting, affiliate, inquiriessupporting, pr, amp, events, neededhelping, office, administrative, work, filing, mailing, preparing, meetingsworking, developers, document, bugs, suggest, improvements, sitesupporting, marketing, executive, staff]   \n",
       "\n",
       "                                                                                                                                                                                                                                                                                                                                                                                                                                                                                                                                                                                                                                                                                                                                                     requirements_tokenized_filtered  \n",
       "0  [experience, content, management, systems, major, plus, blogging, counts, familiar, food, editorial, voice, aestheticloves, food, appreciates, importance, home, cooking, cooking, seasonsmeticulous, editor, perfectionist, obsessive, attention, detail, maddened, typos, broken, links, delighted, finding, fixing, themcheerful, pressureexcellent, communication, skillsa, multi, tasker, juggler, responsibilities, big, smallinterested, engaged, social, media, like, twitter, facebook, pinterestloves, problem, solving, collaborating, drive, food, forwardthinks, big, picture, pitches, nitty, gritty, running, small, company, dishes, shopping, administrative, support, comfortable, realities, working, startup, call, evenings, weekends, working, long, hours]  "
      ]
     },
     "execution_count": 38,
     "metadata": {},
     "output_type": "execute_result"
    }
   ],
   "source": [
    "#removing stop words\n",
    "cols = [\"title_tokenized\",\"company_profile_tokenized\",\"description_tokenized\",\"requirements_tokenized\"]\n",
    "filtered_df = df_tokenized\n",
    "for col in cols:\n",
    "    remover = StopWordsRemover(inputCol=col, outputCol=col+\"_filtered\")\n",
    "    filtered_df = remover.transform(filtered_df)\n",
    "filtered_df.limit(1).toPandas()"
   ]
  },
  {
   "cell_type": "code",
   "execution_count": 39,
   "metadata": {},
   "outputs": [
    {
     "name": "stdout",
     "output_type": "stream",
     "text": [
      "root\n",
      " |-- employment_type: string (nullable = true)\n",
      " |-- country: string (nullable = true)\n",
      " |-- telecommuting1: integer (nullable = true)\n",
      " |-- has_company_logo1: integer (nullable = true)\n",
      " |-- has_questions1: integer (nullable = true)\n",
      " |-- fraudulent1: integer (nullable = true)\n",
      " |-- title_tokenized: array (nullable = true)\n",
      " |    |-- element: string (containsNull = true)\n",
      " |-- company_profile_tokenized: array (nullable = true)\n",
      " |    |-- element: string (containsNull = true)\n",
      " |-- description_tokenized: array (nullable = true)\n",
      " |    |-- element: string (containsNull = true)\n",
      " |-- requirements_tokenized: array (nullable = true)\n",
      " |    |-- element: string (containsNull = true)\n",
      " |-- title_tokenized_filtered: array (nullable = true)\n",
      " |    |-- element: string (containsNull = true)\n",
      " |-- company_profile_tokenized_filtered: array (nullable = true)\n",
      " |    |-- element: string (containsNull = true)\n",
      " |-- description_tokenized_filtered: array (nullable = true)\n",
      " |    |-- element: string (containsNull = true)\n",
      " |-- requirements_tokenized_filtered: array (nullable = true)\n",
      " |    |-- element: string (containsNull = true)\n",
      "\n"
     ]
    }
   ],
   "source": [
    "filtered_df.printSchema()"
   ]
  },
  {
   "cell_type": "code",
   "execution_count": 40,
   "metadata": {},
   "outputs": [
    {
     "data": {
      "text/plain": [
       "['employment_type',\n",
       " 'country',\n",
       " 'telecommuting1',\n",
       " 'has_company_logo1',\n",
       " 'has_questions1',\n",
       " 'fraudulent1']"
      ]
     },
     "execution_count": 40,
     "metadata": {},
     "output_type": "execute_result"
    }
   ],
   "source": [
    "filtered_df.columns[:6]"
   ]
  },
  {
   "cell_type": "code",
   "execution_count": 41,
   "metadata": {},
   "outputs": [
    {
     "data": {
      "text/plain": [
       "['employment_type',\n",
       " 'country',\n",
       " 'telecommuting1',\n",
       " 'has_company_logo1',\n",
       " 'has_questions1',\n",
       " 'fraudulent1',\n",
       " 'title_tokenized_filtered',\n",
       " 'company_profile_tokenized_filtered',\n",
       " 'description_tokenized_filtered',\n",
       " 'requirements_tokenized_filtered']"
      ]
     },
     "execution_count": 41,
     "metadata": {},
     "output_type": "execute_result"
    }
   ],
   "source": [
    "df_final_cols = filtered_df.columns[:6] + filtered_df.columns[10:]\n",
    "df_final_cols"
   ]
  },
  {
   "cell_type": "code",
   "execution_count": 42,
   "metadata": {},
   "outputs": [
    {
     "data": {
      "text/html": [
       "<div>\n",
       "<style scoped>\n",
       "    .dataframe tbody tr th:only-of-type {\n",
       "        vertical-align: middle;\n",
       "    }\n",
       "\n",
       "    .dataframe tbody tr th {\n",
       "        vertical-align: top;\n",
       "    }\n",
       "\n",
       "    .dataframe thead th {\n",
       "        text-align: right;\n",
       "    }\n",
       "</style>\n",
       "<table border=\"1\" class=\"dataframe\">\n",
       "  <thead>\n",
       "    <tr style=\"text-align: right;\">\n",
       "      <th></th>\n",
       "      <th>employment_type</th>\n",
       "      <th>country</th>\n",
       "      <th>telecommuting1</th>\n",
       "      <th>has_company_logo1</th>\n",
       "      <th>has_questions1</th>\n",
       "      <th>fraudulent1</th>\n",
       "      <th>title_tokenized_filtered</th>\n",
       "      <th>company_profile_tokenized_filtered</th>\n",
       "      <th>description_tokenized_filtered</th>\n",
       "      <th>requirements_tokenized_filtered</th>\n",
       "    </tr>\n",
       "  </thead>\n",
       "  <tbody>\n",
       "    <tr>\n",
       "      <th>0</th>\n",
       "      <td>other</td>\n",
       "      <td>US</td>\n",
       "      <td>0</td>\n",
       "      <td>1</td>\n",
       "      <td>0</td>\n",
       "      <td>0</td>\n",
       "      <td>[marketing, intern]</td>\n",
       "      <td>[re, food, ve, created, groundbreaking, award, winning, cooking, site, support, connect, celebrate, home, cooks, give, everything, need, one, place, top, editorial, business, engineering, team, re, focused, using, technology, find, new, better, ways, connect, people, around, specific, food, interests, offer, superb, highly, curated, information, food, cooking, attract, talented, home, cooks, contributors, country, also, publish, well, known, professionals, like, mario, batali, gwyneth, paltrow, danny, meyer, partnerships, whole, foods, market, random, house, food, named, best, food, website, james, beard, foundation, iacp, featured, new, york, times, npr, pando, daily, techcrunch, today, show, re, located, chelsea, new, york, city]</td>\n",
       "      <td>[food, fast, growing, james, beard, award, winning, online, food, community, crowd, sourced, curated, recipe, hub, currently, interviewing, full, part, time, unpaid, interns, work, small, team, editors, executives, developers, new, york, city, headquarters, reproducing, repackaging, existing, food, content, number, partner, sites, huffington, post, yahoo, buzzfeed, various, content, management, systemsresearching, blogs, websites, provisions, food, affiliate, programassisting, day, day, affiliate, program, support, screening, affiliates, assisting, affiliate, inquiriessupporting, pr, amp, events, neededhelping, office, administrative, work, filing, mailing, preparing, meetingsworking, developers, document, bugs, suggest, improvements, sitesupporting, marketing, executive, staff]</td>\n",
       "      <td>[experience, content, management, systems, major, plus, blogging, counts, familiar, food, editorial, voice, aestheticloves, food, appreciates, importance, home, cooking, cooking, seasonsmeticulous, editor, perfectionist, obsessive, attention, detail, maddened, typos, broken, links, delighted, finding, fixing, themcheerful, pressureexcellent, communication, skillsa, multi, tasker, juggler, responsibilities, big, smallinterested, engaged, social, media, like, twitter, facebook, pinterestloves, problem, solving, collaborating, drive, food, forwardthinks, big, picture, pitches, nitty, gritty, running, small, company, dishes, shopping, administrative, support, comfortable, realities, working, startup, call, evenings, weekends, working, long, hours]</td>\n",
       "    </tr>\n",
       "  </tbody>\n",
       "</table>\n",
       "</div>"
      ],
      "text/plain": [
       "  employment_type country  telecommuting1  has_company_logo1  has_questions1  \\\n",
       "0           other      US               0                  1               0   \n",
       "\n",
       "   fraudulent1 title_tokenized_filtered  \\\n",
       "0            0      [marketing, intern]   \n",
       "\n",
       "                                                                                                                                                                                                                                                                                                                                                                                                                                                                                                                                                                                                                                                                                                                                      company_profile_tokenized_filtered  \\\n",
       "0  [re, food, ve, created, groundbreaking, award, winning, cooking, site, support, connect, celebrate, home, cooks, give, everything, need, one, place, top, editorial, business, engineering, team, re, focused, using, technology, find, new, better, ways, connect, people, around, specific, food, interests, offer, superb, highly, curated, information, food, cooking, attract, talented, home, cooks, contributors, country, also, publish, well, known, professionals, like, mario, batali, gwyneth, paltrow, danny, meyer, partnerships, whole, foods, market, random, house, food, named, best, food, website, james, beard, foundation, iacp, featured, new, york, times, npr, pando, daily, techcrunch, today, show, re, located, chelsea, new, york, city]   \n",
       "\n",
       "                                                                                                                                                                                                                                                                                                                                                                                                                                                                                                                                                                                                                                                                                                                                                                                          description_tokenized_filtered  \\\n",
       "0  [food, fast, growing, james, beard, award, winning, online, food, community, crowd, sourced, curated, recipe, hub, currently, interviewing, full, part, time, unpaid, interns, work, small, team, editors, executives, developers, new, york, city, headquarters, reproducing, repackaging, existing, food, content, number, partner, sites, huffington, post, yahoo, buzzfeed, various, content, management, systemsresearching, blogs, websites, provisions, food, affiliate, programassisting, day, day, affiliate, program, support, screening, affiliates, assisting, affiliate, inquiriessupporting, pr, amp, events, neededhelping, office, administrative, work, filing, mailing, preparing, meetingsworking, developers, document, bugs, suggest, improvements, sitesupporting, marketing, executive, staff]   \n",
       "\n",
       "                                                                                                                                                                                                                                                                                                                                                                                                                                                                                                                                                                                                                                                                                                                                                     requirements_tokenized_filtered  \n",
       "0  [experience, content, management, systems, major, plus, blogging, counts, familiar, food, editorial, voice, aestheticloves, food, appreciates, importance, home, cooking, cooking, seasonsmeticulous, editor, perfectionist, obsessive, attention, detail, maddened, typos, broken, links, delighted, finding, fixing, themcheerful, pressureexcellent, communication, skillsa, multi, tasker, juggler, responsibilities, big, smallinterested, engaged, social, media, like, twitter, facebook, pinterestloves, problem, solving, collaborating, drive, food, forwardthinks, big, picture, pitches, nitty, gritty, running, small, company, dishes, shopping, administrative, support, comfortable, realities, working, startup, call, evenings, weekends, working, long, hours]  "
      ]
     },
     "execution_count": 42,
     "metadata": {},
     "output_type": "execute_result"
    }
   ],
   "source": [
    "df_final = filtered_df.select(df_final_cols)\n",
    "df_final.limit(1).toPandas()"
   ]
  },
  {
   "cell_type": "markdown",
   "metadata": {},
   "source": [
    "## Feature vectorization"
   ]
  },
  {
   "cell_type": "markdown",
   "metadata": {},
   "source": [
    "We will:\n",
    "- Use string indexer to vectorize the employment_type column.\n",
    "- Use string indexer to vectorize the country column.\n",
    "- Use:\n",
    "    - Hashing TF Vectorizer\n",
    "    - TFIDF Vectorizer\n",
    "    - WordtoVec Vectorizer \n",
    "    <br>to vectorize the text columns (title, company_profile, description, requirements)"
   ]
  },
  {
   "cell_type": "code",
   "execution_count": 43,
   "metadata": {},
   "outputs": [
    {
     "data": {
      "text/html": [
       "<div>\n",
       "<style scoped>\n",
       "    .dataframe tbody tr th:only-of-type {\n",
       "        vertical-align: middle;\n",
       "    }\n",
       "\n",
       "    .dataframe tbody tr th {\n",
       "        vertical-align: top;\n",
       "    }\n",
       "\n",
       "    .dataframe thead th {\n",
       "        text-align: right;\n",
       "    }\n",
       "</style>\n",
       "<table border=\"1\" class=\"dataframe\">\n",
       "  <thead>\n",
       "    <tr style=\"text-align: right;\">\n",
       "      <th></th>\n",
       "      <th>employment_type</th>\n",
       "      <th>country</th>\n",
       "      <th>telecommuting1</th>\n",
       "      <th>has_company_logo1</th>\n",
       "      <th>has_questions1</th>\n",
       "      <th>fraudulent1</th>\n",
       "      <th>title_tokenized_filtered</th>\n",
       "      <th>company_profile_tokenized_filtered</th>\n",
       "      <th>description_tokenized_filtered</th>\n",
       "      <th>requirements_tokenized_filtered</th>\n",
       "      <th>employment_type_indexed</th>\n",
       "    </tr>\n",
       "  </thead>\n",
       "  <tbody>\n",
       "    <tr>\n",
       "      <th>0</th>\n",
       "      <td>other</td>\n",
       "      <td>US</td>\n",
       "      <td>0</td>\n",
       "      <td>1</td>\n",
       "      <td>0</td>\n",
       "      <td>0</td>\n",
       "      <td>[marketing, intern]</td>\n",
       "      <td>[re, food, ve, created, groundbreaking, award, winning, cooking, site, support, connect, celebrate, home, cooks, give, everything, need, one, place, top, editorial, business, engineering, team, re, focused, using, technology, find, new, better, ways, connect, people, around, specific, food, interests, offer, superb, highly, curated, information, food, cooking, attract, talented, home, cooks, contributors, country, also, publish, well, known, professionals, like, mario, batali, gwyneth, paltrow, danny, meyer, partnerships, whole, foods, market, random, house, food, named, best, food, website, james, beard, foundation, iacp, featured, new, york, times, npr, pando, daily, techcrunch, today, show, re, located, chelsea, new, york, city]</td>\n",
       "      <td>[food, fast, growing, james, beard, award, winning, online, food, community, crowd, sourced, curated, recipe, hub, currently, interviewing, full, part, time, unpaid, interns, work, small, team, editors, executives, developers, new, york, city, headquarters, reproducing, repackaging, existing, food, content, number, partner, sites, huffington, post, yahoo, buzzfeed, various, content, management, systemsresearching, blogs, websites, provisions, food, affiliate, programassisting, day, day, affiliate, program, support, screening, affiliates, assisting, affiliate, inquiriessupporting, pr, amp, events, neededhelping, office, administrative, work, filing, mailing, preparing, meetingsworking, developers, document, bugs, suggest, improvements, sitesupporting, marketing, executive, staff]</td>\n",
       "      <td>[experience, content, management, systems, major, plus, blogging, counts, familiar, food, editorial, voice, aestheticloves, food, appreciates, importance, home, cooking, cooking, seasonsmeticulous, editor, perfectionist, obsessive, attention, detail, maddened, typos, broken, links, delighted, finding, fixing, themcheerful, pressureexcellent, communication, skillsa, multi, tasker, juggler, responsibilities, big, smallinterested, engaged, social, media, like, twitter, facebook, pinterestloves, problem, solving, collaborating, drive, food, forwardthinks, big, picture, pitches, nitty, gritty, running, small, company, dishes, shopping, administrative, support, comfortable, realities, working, startup, call, evenings, weekends, working, long, hours]</td>\n",
       "      <td>1.0</td>\n",
       "    </tr>\n",
       "    <tr>\n",
       "      <th>1</th>\n",
       "      <td>Full-time</td>\n",
       "      <td>NZ</td>\n",
       "      <td>0</td>\n",
       "      <td>1</td>\n",
       "      <td>0</td>\n",
       "      <td>0</td>\n",
       "      <td>[customer, service, cloud, video, production]</td>\n",
       "      <td>[seconds, worlds, cloud, video, production, service, seconds, worlds, cloud, video, production, service, enabling, brands, agencies, get, high, quality, online, video, content, shot, produced, anywhere, world, seconds, makes, video, production, fast, affordable, managed, seamlessly, cloud, purchase, publish, seconds, removes, hassle, cost, risk, speed, issues, working, regular, video, production, companies, managing, every, aspect, video, projects, beautiful, online, experience, growing, global, network, rated, video, professionals, countries, managed, dedicated, production, success, teams, countries, seconds, provides, success, guarantee, seconds, produced, almost, videos, countries, global, brands, including, worlds, largest, including, paypal, l, oreal, sony, barclays, offices, auckland, london, sydney, tokyo, singapore]</td>\n",
       "      <td>[organised, focused, vibrant, awesome, passion, customer, service, slick, typing, skills, maybe, account, management, think, administration, cooler, polar, bear, jetski, need, hear, cloud, video, production, service, opperating, glodal, level, yeah, pretty, cool, serious, delivering, world, class, product, excellent, customer, service, rapidly, expanding, business, looking, talented, project, manager, manage, successful, delivery, video, projects, manage, client, communications, drive, production, process, work, coolest, brands, planet, learn, global, team, representing, nz, huge, way, entering, next, growth, stage, business, growing, quickly, internationally, therefore, position, bursting, opportunity, right, person, entering, business, right, time, seconds, worlds, cloud, video, production, service, seconds, worlds, cloud, video, production, service, enabling, brands, ...]</td>\n",
       "      <td>[expect, key, responsibility, communicate, client, seconds, team, freelance, community, throughout, video, production, process, including, shoot, planning, securing, freelance, talent, managing, workflow, online, production, management, system, aim, manage, video, project, effectively, produce, great, videos, clients, love, key, attributesclient, focused, excellent, customer, service, communication, skillsonline, oustanding, computer, knowledge, experience, using, online, software, project, management, toolsorganised, manage, workload, able, multi, task, attention, detailmotivated, self, starter, passion, excellent, work, achieving, great, resultsadaptable, show, initiative, think, feet, constantly, evolving, atmosphereflexible, fast, turnaround, work, hours, availabilityeasy, going, amp, upbeat, dosen, get, bogged, loves, challengesense, humour, laugh, know, working, startup, takes, guts, ability, deliver, including, meeting, project, ...]</td>\n",
       "      <td>0.0</td>\n",
       "    </tr>\n",
       "  </tbody>\n",
       "</table>\n",
       "</div>"
      ],
      "text/plain": [
       "  employment_type country  telecommuting1  has_company_logo1  has_questions1  \\\n",
       "0           other      US               0                  1               0   \n",
       "1       Full-time      NZ               0                  1               0   \n",
       "\n",
       "   fraudulent1                       title_tokenized_filtered  \\\n",
       "0            0                            [marketing, intern]   \n",
       "1            0  [customer, service, cloud, video, production]   \n",
       "\n",
       "                                                                                                                                                                                                                                                                                                                                                                                                                                                                                                                                                                                                                                                                                                                                                                                                                                    company_profile_tokenized_filtered  \\\n",
       "0                                                                                                [re, food, ve, created, groundbreaking, award, winning, cooking, site, support, connect, celebrate, home, cooks, give, everything, need, one, place, top, editorial, business, engineering, team, re, focused, using, technology, find, new, better, ways, connect, people, around, specific, food, interests, offer, superb, highly, curated, information, food, cooking, attract, talented, home, cooks, contributors, country, also, publish, well, known, professionals, like, mario, batali, gwyneth, paltrow, danny, meyer, partnerships, whole, foods, market, random, house, food, named, best, food, website, james, beard, foundation, iacp, featured, new, york, times, npr, pando, daily, techcrunch, today, show, re, located, chelsea, new, york, city]   \n",
       "1  [seconds, worlds, cloud, video, production, service, seconds, worlds, cloud, video, production, service, enabling, brands, agencies, get, high, quality, online, video, content, shot, produced, anywhere, world, seconds, makes, video, production, fast, affordable, managed, seamlessly, cloud, purchase, publish, seconds, removes, hassle, cost, risk, speed, issues, working, regular, video, production, companies, managing, every, aspect, video, projects, beautiful, online, experience, growing, global, network, rated, video, professionals, countries, managed, dedicated, production, success, teams, countries, seconds, provides, success, guarantee, seconds, produced, almost, videos, countries, global, brands, including, worlds, largest, including, paypal, l, oreal, sony, barclays, offices, auckland, london, sydney, tokyo, singapore]   \n",
       "\n",
       "                                                                                                                                                                                                                                                                                                                                                                                                                                                                                                                                                                                                                                                                                                                                                                                                                                                                                            description_tokenized_filtered  \\\n",
       "0                                                                                                    [food, fast, growing, james, beard, award, winning, online, food, community, crowd, sourced, curated, recipe, hub, currently, interviewing, full, part, time, unpaid, interns, work, small, team, editors, executives, developers, new, york, city, headquarters, reproducing, repackaging, existing, food, content, number, partner, sites, huffington, post, yahoo, buzzfeed, various, content, management, systemsresearching, blogs, websites, provisions, food, affiliate, programassisting, day, day, affiliate, program, support, screening, affiliates, assisting, affiliate, inquiriessupporting, pr, amp, events, neededhelping, office, administrative, work, filing, mailing, preparing, meetingsworking, developers, document, bugs, suggest, improvements, sitesupporting, marketing, executive, staff]   \n",
       "1  [organised, focused, vibrant, awesome, passion, customer, service, slick, typing, skills, maybe, account, management, think, administration, cooler, polar, bear, jetski, need, hear, cloud, video, production, service, opperating, glodal, level, yeah, pretty, cool, serious, delivering, world, class, product, excellent, customer, service, rapidly, expanding, business, looking, talented, project, manager, manage, successful, delivery, video, projects, manage, client, communications, drive, production, process, work, coolest, brands, planet, learn, global, team, representing, nz, huge, way, entering, next, growth, stage, business, growing, quickly, internationally, therefore, position, bursting, opportunity, right, person, entering, business, right, time, seconds, worlds, cloud, video, production, service, seconds, worlds, cloud, video, production, service, enabling, brands, ...]   \n",
       "\n",
       "                                                                                                                                                                                                                                                                                                                                                                                                                                                                                                                                                                                                                                                                                                                                                                                                                                                                                                                                                              requirements_tokenized_filtered  \\\n",
       "0                                                                                                                                                                                                           [experience, content, management, systems, major, plus, blogging, counts, familiar, food, editorial, voice, aestheticloves, food, appreciates, importance, home, cooking, cooking, seasonsmeticulous, editor, perfectionist, obsessive, attention, detail, maddened, typos, broken, links, delighted, finding, fixing, themcheerful, pressureexcellent, communication, skillsa, multi, tasker, juggler, responsibilities, big, smallinterested, engaged, social, media, like, twitter, facebook, pinterestloves, problem, solving, collaborating, drive, food, forwardthinks, big, picture, pitches, nitty, gritty, running, small, company, dishes, shopping, administrative, support, comfortable, realities, working, startup, call, evenings, weekends, working, long, hours]   \n",
       "1  [expect, key, responsibility, communicate, client, seconds, team, freelance, community, throughout, video, production, process, including, shoot, planning, securing, freelance, talent, managing, workflow, online, production, management, system, aim, manage, video, project, effectively, produce, great, videos, clients, love, key, attributesclient, focused, excellent, customer, service, communication, skillsonline, oustanding, computer, knowledge, experience, using, online, software, project, management, toolsorganised, manage, workload, able, multi, task, attention, detailmotivated, self, starter, passion, excellent, work, achieving, great, resultsadaptable, show, initiative, think, feet, constantly, evolving, atmosphereflexible, fast, turnaround, work, hours, availabilityeasy, going, amp, upbeat, dosen, get, bogged, loves, challengesense, humour, laugh, know, working, startup, takes, guts, ability, deliver, including, meeting, project, ...]   \n",
       "\n",
       "   employment_type_indexed  \n",
       "0                      1.0  \n",
       "1                      0.0  "
      ]
     },
     "execution_count": 43,
     "metadata": {},
     "output_type": "execute_result"
    }
   ],
   "source": [
    "#vectorizing employment type column\n",
    "indexer = StringIndexer(inputCol=\"employment_type\", outputCol=\"employment_type_indexed\")\n",
    "feature_data = indexer.fit(df_final).transform(df_final)\n",
    "feature_data.limit(2).toPandas()"
   ]
  },
  {
   "cell_type": "code",
   "execution_count": 44,
   "metadata": {},
   "outputs": [],
   "source": [
    "feature_data = feature_data.drop(\"employment_type\")"
   ]
  },
  {
   "cell_type": "code",
   "execution_count": 45,
   "metadata": {},
   "outputs": [
    {
     "name": "stdout",
     "output_type": "stream",
     "text": [
      "root\n",
      " |-- country: string (nullable = true)\n",
      " |-- telecommuting1: integer (nullable = true)\n",
      " |-- has_company_logo1: integer (nullable = true)\n",
      " |-- has_questions1: integer (nullable = true)\n",
      " |-- fraudulent1: integer (nullable = true)\n",
      " |-- title_tokenized_filtered: array (nullable = true)\n",
      " |    |-- element: string (containsNull = true)\n",
      " |-- company_profile_tokenized_filtered: array (nullable = true)\n",
      " |    |-- element: string (containsNull = true)\n",
      " |-- description_tokenized_filtered: array (nullable = true)\n",
      " |    |-- element: string (containsNull = true)\n",
      " |-- requirements_tokenized_filtered: array (nullable = true)\n",
      " |    |-- element: string (containsNull = true)\n",
      " |-- employment_type_indexed: double (nullable = false)\n",
      "\n"
     ]
    }
   ],
   "source": [
    "feature_data.printSchema()"
   ]
  },
  {
   "cell_type": "code",
   "execution_count": 46,
   "metadata": {},
   "outputs": [
    {
     "data": {
      "text/html": [
       "<div>\n",
       "<style scoped>\n",
       "    .dataframe tbody tr th:only-of-type {\n",
       "        vertical-align: middle;\n",
       "    }\n",
       "\n",
       "    .dataframe tbody tr th {\n",
       "        vertical-align: top;\n",
       "    }\n",
       "\n",
       "    .dataframe thead th {\n",
       "        text-align: right;\n",
       "    }\n",
       "</style>\n",
       "<table border=\"1\" class=\"dataframe\">\n",
       "  <thead>\n",
       "    <tr style=\"text-align: right;\">\n",
       "      <th></th>\n",
       "      <th>country</th>\n",
       "      <th>telecommuting1</th>\n",
       "      <th>has_company_logo1</th>\n",
       "      <th>has_questions1</th>\n",
       "      <th>fraudulent1</th>\n",
       "      <th>title_tokenized_filtered</th>\n",
       "      <th>company_profile_tokenized_filtered</th>\n",
       "      <th>description_tokenized_filtered</th>\n",
       "      <th>requirements_tokenized_filtered</th>\n",
       "      <th>employment_type_indexed</th>\n",
       "      <th>country_indexed</th>\n",
       "    </tr>\n",
       "  </thead>\n",
       "  <tbody>\n",
       "    <tr>\n",
       "      <th>0</th>\n",
       "      <td>US</td>\n",
       "      <td>0</td>\n",
       "      <td>1</td>\n",
       "      <td>0</td>\n",
       "      <td>0</td>\n",
       "      <td>[marketing, intern]</td>\n",
       "      <td>[re, food, ve, created, groundbreaking, award, winning, cooking, site, support, connect, celebrate, home, cooks, give, everything, need, one, place, top, editorial, business, engineering, team, re, focused, using, technology, find, new, better, ways, connect, people, around, specific, food, interests, offer, superb, highly, curated, information, food, cooking, attract, talented, home, cooks, contributors, country, also, publish, well, known, professionals, like, mario, batali, gwyneth, paltrow, danny, meyer, partnerships, whole, foods, market, random, house, food, named, best, food, website, james, beard, foundation, iacp, featured, new, york, times, npr, pando, daily, techcrunch, today, show, re, located, chelsea, new, york, city]</td>\n",
       "      <td>[food, fast, growing, james, beard, award, winning, online, food, community, crowd, sourced, curated, recipe, hub, currently, interviewing, full, part, time, unpaid, interns, work, small, team, editors, executives, developers, new, york, city, headquarters, reproducing, repackaging, existing, food, content, number, partner, sites, huffington, post, yahoo, buzzfeed, various, content, management, systemsresearching, blogs, websites, provisions, food, affiliate, programassisting, day, day, affiliate, program, support, screening, affiliates, assisting, affiliate, inquiriessupporting, pr, amp, events, neededhelping, office, administrative, work, filing, mailing, preparing, meetingsworking, developers, document, bugs, suggest, improvements, sitesupporting, marketing, executive, staff]</td>\n",
       "      <td>[experience, content, management, systems, major, plus, blogging, counts, familiar, food, editorial, voice, aestheticloves, food, appreciates, importance, home, cooking, cooking, seasonsmeticulous, editor, perfectionist, obsessive, attention, detail, maddened, typos, broken, links, delighted, finding, fixing, themcheerful, pressureexcellent, communication, skillsa, multi, tasker, juggler, responsibilities, big, smallinterested, engaged, social, media, like, twitter, facebook, pinterestloves, problem, solving, collaborating, drive, food, forwardthinks, big, picture, pitches, nitty, gritty, running, small, company, dishes, shopping, administrative, support, comfortable, realities, working, startup, call, evenings, weekends, working, long, hours]</td>\n",
       "      <td>1.0</td>\n",
       "      <td>0.0</td>\n",
       "    </tr>\n",
       "    <tr>\n",
       "      <th>1</th>\n",
       "      <td>NZ</td>\n",
       "      <td>0</td>\n",
       "      <td>1</td>\n",
       "      <td>0</td>\n",
       "      <td>0</td>\n",
       "      <td>[customer, service, cloud, video, production]</td>\n",
       "      <td>[seconds, worlds, cloud, video, production, service, seconds, worlds, cloud, video, production, service, enabling, brands, agencies, get, high, quality, online, video, content, shot, produced, anywhere, world, seconds, makes, video, production, fast, affordable, managed, seamlessly, cloud, purchase, publish, seconds, removes, hassle, cost, risk, speed, issues, working, regular, video, production, companies, managing, every, aspect, video, projects, beautiful, online, experience, growing, global, network, rated, video, professionals, countries, managed, dedicated, production, success, teams, countries, seconds, provides, success, guarantee, seconds, produced, almost, videos, countries, global, brands, including, worlds, largest, including, paypal, l, oreal, sony, barclays, offices, auckland, london, sydney, tokyo, singapore]</td>\n",
       "      <td>[organised, focused, vibrant, awesome, passion, customer, service, slick, typing, skills, maybe, account, management, think, administration, cooler, polar, bear, jetski, need, hear, cloud, video, production, service, opperating, glodal, level, yeah, pretty, cool, serious, delivering, world, class, product, excellent, customer, service, rapidly, expanding, business, looking, talented, project, manager, manage, successful, delivery, video, projects, manage, client, communications, drive, production, process, work, coolest, brands, planet, learn, global, team, representing, nz, huge, way, entering, next, growth, stage, business, growing, quickly, internationally, therefore, position, bursting, opportunity, right, person, entering, business, right, time, seconds, worlds, cloud, video, production, service, seconds, worlds, cloud, video, production, service, enabling, brands, ...]</td>\n",
       "      <td>[expect, key, responsibility, communicate, client, seconds, team, freelance, community, throughout, video, production, process, including, shoot, planning, securing, freelance, talent, managing, workflow, online, production, management, system, aim, manage, video, project, effectively, produce, great, videos, clients, love, key, attributesclient, focused, excellent, customer, service, communication, skillsonline, oustanding, computer, knowledge, experience, using, online, software, project, management, toolsorganised, manage, workload, able, multi, task, attention, detailmotivated, self, starter, passion, excellent, work, achieving, great, resultsadaptable, show, initiative, think, feet, constantly, evolving, atmosphereflexible, fast, turnaround, work, hours, availabilityeasy, going, amp, upbeat, dosen, get, bogged, loves, challengesense, humour, laugh, know, working, startup, takes, guts, ability, deliver, including, meeting, project, ...]</td>\n",
       "      <td>0.0</td>\n",
       "      <td>6.0</td>\n",
       "    </tr>\n",
       "  </tbody>\n",
       "</table>\n",
       "</div>"
      ],
      "text/plain": [
       "  country  telecommuting1  has_company_logo1  has_questions1  fraudulent1  \\\n",
       "0      US               0                  1               0            0   \n",
       "1      NZ               0                  1               0            0   \n",
       "\n",
       "                        title_tokenized_filtered  \\\n",
       "0                            [marketing, intern]   \n",
       "1  [customer, service, cloud, video, production]   \n",
       "\n",
       "                                                                                                                                                                                                                                                                                                                                                                                                                                                                                                                                                                                                                                                                                                                                                                                                                                    company_profile_tokenized_filtered  \\\n",
       "0                                                                                                [re, food, ve, created, groundbreaking, award, winning, cooking, site, support, connect, celebrate, home, cooks, give, everything, need, one, place, top, editorial, business, engineering, team, re, focused, using, technology, find, new, better, ways, connect, people, around, specific, food, interests, offer, superb, highly, curated, information, food, cooking, attract, talented, home, cooks, contributors, country, also, publish, well, known, professionals, like, mario, batali, gwyneth, paltrow, danny, meyer, partnerships, whole, foods, market, random, house, food, named, best, food, website, james, beard, foundation, iacp, featured, new, york, times, npr, pando, daily, techcrunch, today, show, re, located, chelsea, new, york, city]   \n",
       "1  [seconds, worlds, cloud, video, production, service, seconds, worlds, cloud, video, production, service, enabling, brands, agencies, get, high, quality, online, video, content, shot, produced, anywhere, world, seconds, makes, video, production, fast, affordable, managed, seamlessly, cloud, purchase, publish, seconds, removes, hassle, cost, risk, speed, issues, working, regular, video, production, companies, managing, every, aspect, video, projects, beautiful, online, experience, growing, global, network, rated, video, professionals, countries, managed, dedicated, production, success, teams, countries, seconds, provides, success, guarantee, seconds, produced, almost, videos, countries, global, brands, including, worlds, largest, including, paypal, l, oreal, sony, barclays, offices, auckland, london, sydney, tokyo, singapore]   \n",
       "\n",
       "                                                                                                                                                                                                                                                                                                                                                                                                                                                                                                                                                                                                                                                                                                                                                                                                                                                                                            description_tokenized_filtered  \\\n",
       "0                                                                                                    [food, fast, growing, james, beard, award, winning, online, food, community, crowd, sourced, curated, recipe, hub, currently, interviewing, full, part, time, unpaid, interns, work, small, team, editors, executives, developers, new, york, city, headquarters, reproducing, repackaging, existing, food, content, number, partner, sites, huffington, post, yahoo, buzzfeed, various, content, management, systemsresearching, blogs, websites, provisions, food, affiliate, programassisting, day, day, affiliate, program, support, screening, affiliates, assisting, affiliate, inquiriessupporting, pr, amp, events, neededhelping, office, administrative, work, filing, mailing, preparing, meetingsworking, developers, document, bugs, suggest, improvements, sitesupporting, marketing, executive, staff]   \n",
       "1  [organised, focused, vibrant, awesome, passion, customer, service, slick, typing, skills, maybe, account, management, think, administration, cooler, polar, bear, jetski, need, hear, cloud, video, production, service, opperating, glodal, level, yeah, pretty, cool, serious, delivering, world, class, product, excellent, customer, service, rapidly, expanding, business, looking, talented, project, manager, manage, successful, delivery, video, projects, manage, client, communications, drive, production, process, work, coolest, brands, planet, learn, global, team, representing, nz, huge, way, entering, next, growth, stage, business, growing, quickly, internationally, therefore, position, bursting, opportunity, right, person, entering, business, right, time, seconds, worlds, cloud, video, production, service, seconds, worlds, cloud, video, production, service, enabling, brands, ...]   \n",
       "\n",
       "                                                                                                                                                                                                                                                                                                                                                                                                                                                                                                                                                                                                                                                                                                                                                                                                                                                                                                                                                              requirements_tokenized_filtered  \\\n",
       "0                                                                                                                                                                                                           [experience, content, management, systems, major, plus, blogging, counts, familiar, food, editorial, voice, aestheticloves, food, appreciates, importance, home, cooking, cooking, seasonsmeticulous, editor, perfectionist, obsessive, attention, detail, maddened, typos, broken, links, delighted, finding, fixing, themcheerful, pressureexcellent, communication, skillsa, multi, tasker, juggler, responsibilities, big, smallinterested, engaged, social, media, like, twitter, facebook, pinterestloves, problem, solving, collaborating, drive, food, forwardthinks, big, picture, pitches, nitty, gritty, running, small, company, dishes, shopping, administrative, support, comfortable, realities, working, startup, call, evenings, weekends, working, long, hours]   \n",
       "1  [expect, key, responsibility, communicate, client, seconds, team, freelance, community, throughout, video, production, process, including, shoot, planning, securing, freelance, talent, managing, workflow, online, production, management, system, aim, manage, video, project, effectively, produce, great, videos, clients, love, key, attributesclient, focused, excellent, customer, service, communication, skillsonline, oustanding, computer, knowledge, experience, using, online, software, project, management, toolsorganised, manage, workload, able, multi, task, attention, detailmotivated, self, starter, passion, excellent, work, achieving, great, resultsadaptable, show, initiative, think, feet, constantly, evolving, atmosphereflexible, fast, turnaround, work, hours, availabilityeasy, going, amp, upbeat, dosen, get, bogged, loves, challengesense, humour, laugh, know, working, startup, takes, guts, ability, deliver, including, meeting, project, ...]   \n",
       "\n",
       "   employment_type_indexed  country_indexed  \n",
       "0                      1.0              0.0  \n",
       "1                      0.0              6.0  "
      ]
     },
     "execution_count": 46,
     "metadata": {},
     "output_type": "execute_result"
    }
   ],
   "source": [
    "#vectorizing country column\n",
    "indexer = StringIndexer(inputCol=\"country\", outputCol=\"country_indexed\")\n",
    "feature_data = indexer.fit(feature_data).transform(feature_data)\n",
    "feature_data.limit(2).toPandas()"
   ]
  },
  {
   "cell_type": "code",
   "execution_count": 47,
   "metadata": {},
   "outputs": [
    {
     "name": "stdout",
     "output_type": "stream",
     "text": [
      "root\n",
      " |-- telecommuting1: integer (nullable = true)\n",
      " |-- has_company_logo1: integer (nullable = true)\n",
      " |-- has_questions1: integer (nullable = true)\n",
      " |-- fraudulent1: integer (nullable = true)\n",
      " |-- title_tokenized_filtered: array (nullable = true)\n",
      " |    |-- element: string (containsNull = true)\n",
      " |-- company_profile_tokenized_filtered: array (nullable = true)\n",
      " |    |-- element: string (containsNull = true)\n",
      " |-- description_tokenized_filtered: array (nullable = true)\n",
      " |    |-- element: string (containsNull = true)\n",
      " |-- requirements_tokenized_filtered: array (nullable = true)\n",
      " |    |-- element: string (containsNull = true)\n",
      " |-- employment_type_indexed: double (nullable = false)\n",
      " |-- country_indexed: double (nullable = false)\n",
      "\n"
     ]
    }
   ],
   "source": [
    "feature_data = feature_data.drop(\"country\")\n",
    "feature_data.printSchema()"
   ]
  },
  {
   "cell_type": "code",
   "execution_count": 48,
   "metadata": {},
   "outputs": [
    {
     "data": {
      "text/plain": [
       "['title_tokenized_filtered',\n",
       " 'company_profile_tokenized_filtered',\n",
       " 'description_tokenized_filtered',\n",
       " 'requirements_tokenized_filtered']"
      ]
     },
     "execution_count": 48,
     "metadata": {},
     "output_type": "execute_result"
    }
   ],
   "source": [
    "feature_data.columns[4:8]"
   ]
  },
  {
   "cell_type": "code",
   "execution_count": 49,
   "metadata": {},
   "outputs": [
    {
     "data": {
      "text/html": [
       "<div>\n",
       "<style scoped>\n",
       "    .dataframe tbody tr th:only-of-type {\n",
       "        vertical-align: middle;\n",
       "    }\n",
       "\n",
       "    .dataframe tbody tr th {\n",
       "        vertical-align: top;\n",
       "    }\n",
       "\n",
       "    .dataframe thead th {\n",
       "        text-align: right;\n",
       "    }\n",
       "</style>\n",
       "<table border=\"1\" class=\"dataframe\">\n",
       "  <thead>\n",
       "    <tr style=\"text-align: right;\">\n",
       "      <th></th>\n",
       "      <th>telecommuting1</th>\n",
       "      <th>has_company_logo1</th>\n",
       "      <th>has_questions1</th>\n",
       "      <th>fraudulent1</th>\n",
       "      <th>employment_type_indexed</th>\n",
       "      <th>country_indexed</th>\n",
       "      <th>title_tokenized_filtered_rawfeatures</th>\n",
       "      <th>company_profile_tokenized_filtered_rawfeatures</th>\n",
       "      <th>description_tokenized_filtered_rawfeatures</th>\n",
       "      <th>requirements_tokenized_filtered_rawfeatures</th>\n",
       "    </tr>\n",
       "  </thead>\n",
       "  <tbody>\n",
       "    <tr>\n",
       "      <th>0</th>\n",
       "      <td>0</td>\n",
       "      <td>1</td>\n",
       "      <td>0</td>\n",
       "      <td>0</td>\n",
       "      <td>1.0</td>\n",
       "      <td>0.0</td>\n",
       "      <td>(0.0, 0.0, 0.0, 0.0, 0.0, 0.0, 0.0, 0.0, 0.0, 0.0, 0.0, 0.0, 0.0, 0.0, 0.0, 0.0, 0.0, 0.0, 0.0, 0.0, 0.0, 0.0, 0.0, 0.0, 0.0, 0.0, 0.0, 0.0, 0.0, 0.0, 0.0, 0.0, 0.0, 0.0, 0.0, 0.0, 0.0, 0.0, 0.0, 0.0, 0.0, 0.0, 1.0, 0.0, 0.0, 0.0, 1.0, 0.0, 0.0, 0.0)</td>\n",
       "      <td>(2.0, 3.0, 1.0, 5.0, 1.0, 1.0, 2.0, 2.0, 2.0, 1.0, 5.0, 0.0, 5.0, 4.0, 0.0, 4.0, 0.0, 3.0, 3.0, 1.0, 2.0, 1.0, 0.0, 0.0, 3.0, 1.0, 0.0, 1.0, 3.0, 0.0, 3.0, 1.0, 0.0, 4.0, 0.0, 4.0, 2.0, 2.0, 1.0, 1.0, 3.0, 1.0, 5.0, 1.0, 1.0, 3.0, 0.0, 2.0, 3.0, 1.0)</td>\n",
       "      <td>(2.0, 5.0, 0.0, 4.0, 1.0, 4.0, 1.0, 2.0, 0.0, 1.0, 1.0, 2.0, 3.0, 2.0, 0.0, 0.0, 3.0, 2.0, 2.0, 1.0, 1.0, 3.0, 2.0, 3.0, 3.0, 0.0, 1.0, 2.0, 0.0, 2.0, 1.0, 1.0, 1.0, 3.0, 2.0, 1.0, 1.0, 0.0, 5.0, 0.0, 2.0, 1.0, 5.0, 1.0, 2.0, 1.0, 0.0, 2.0, 2.0, 0.0)</td>\n",
       "      <td>(1.0, 1.0, 1.0, 5.0, 1.0, 0.0, 0.0, 1.0, 2.0, 3.0, 1.0, 2.0, 4.0, 1.0, 1.0, 2.0, 1.0, 1.0, 2.0, 0.0, 0.0, 1.0, 1.0, 2.0, 2.0, 1.0, 1.0, 1.0, 0.0, 1.0, 2.0, 2.0, 1.0, 1.0, 1.0, 1.0, 1.0, 0.0, 3.0, 2.0, 2.0, 1.0, 4.0, 3.0, 2.0, 0.0, 4.0, 1.0, 5.0, 1.0)</td>\n",
       "    </tr>\n",
       "    <tr>\n",
       "      <th>1</th>\n",
       "      <td>0</td>\n",
       "      <td>1</td>\n",
       "      <td>0</td>\n",
       "      <td>0</td>\n",
       "      <td>0.0</td>\n",
       "      <td>6.0</td>\n",
       "      <td>(0.0, 0.0, 1.0, 1.0, 0.0, 0.0, 0.0, 0.0, 0.0, 0.0, 0.0, 0.0, 0.0, 1.0, 0.0, 0.0, 0.0, 0.0, 0.0, 0.0, 0.0, 0.0, 0.0, 0.0, 1.0, 0.0, 0.0, 0.0, 0.0, 0.0, 0.0, 0.0, 0.0, 0.0, 0.0, 0.0, 0.0, 1.0, 0.0, 0.0, 0.0, 0.0, 0.0, 0.0, 0.0, 0.0, 0.0, 0.0, 0.0, 0.0)</td>\n",
       "      <td>(0.0, 1.0, 3.0, 6.0, 2.0, 0.0, 1.0, 5.0, 3.0, 0.0, 3.0, 2.0, 1.0, 2.0, 1.0, 0.0, 3.0, 0.0, 0.0, 0.0, 1.0, 1.0, 0.0, 1.0, 7.0, 4.0, 1.0, 0.0, 3.0, 0.0, 5.0, 1.0, 2.0, 1.0, 2.0, 2.0, 1.0, 4.0, 1.0, 2.0, 10.0, 0.0, 2.0, 0.0, 5.0, 4.0, 1.0, 0.0, 0.0, 1.0)</td>\n",
       "      <td>(0.0, 2.0, 7.0, 6.0, 3.0, 3.0, 1.0, 10.0, 3.0, 2.0, 5.0, 3.0, 2.0, 5.0, 3.0, 2.0, 3.0, 2.0, 3.0, 3.0, 2.0, 1.0, 0.0, 3.0, 13.0, 6.0, 3.0, 3.0, 4.0, 0.0, 9.0, 2.0, 4.0, 4.0, 2.0, 7.0, 2.0, 7.0, 2.0, 2.0, 13.0, 3.0, 3.0, 1.0, 9.0, 8.0, 2.0, 3.0, 1.0, 5.0)</td>\n",
       "      <td>(5.0, 3.0, 5.0, 3.0, 1.0, 1.0, 1.0, 3.0, 1.0, 3.0, 2.0, 3.0, 1.0, 3.0, 3.0, 4.0, 1.0, 3.0, 1.0, 1.0, 3.0, 2.0, 0.0, 1.0, 4.0, 0.0, 6.0, 2.0, 1.0, 1.0, 4.0, 5.0, 1.0, 2.0, 2.0, 7.0, 2.0, 1.0, 1.0, 1.0, 6.0, 6.0, 2.0, 2.0, 3.0, 0.0, 3.0, 1.0, 3.0, 0.0)</td>\n",
       "    </tr>\n",
       "  </tbody>\n",
       "</table>\n",
       "</div>"
      ],
      "text/plain": [
       "   telecommuting1  has_company_logo1  has_questions1  fraudulent1  \\\n",
       "0               0                  1               0            0   \n",
       "1               0                  1               0            0   \n",
       "\n",
       "   employment_type_indexed  country_indexed  \\\n",
       "0                      1.0              0.0   \n",
       "1                      0.0              6.0   \n",
       "\n",
       "                                                                                                                                                                                                                         title_tokenized_filtered_rawfeatures  \\\n",
       "0  (0.0, 0.0, 0.0, 0.0, 0.0, 0.0, 0.0, 0.0, 0.0, 0.0, 0.0, 0.0, 0.0, 0.0, 0.0, 0.0, 0.0, 0.0, 0.0, 0.0, 0.0, 0.0, 0.0, 0.0, 0.0, 0.0, 0.0, 0.0, 0.0, 0.0, 0.0, 0.0, 0.0, 0.0, 0.0, 0.0, 0.0, 0.0, 0.0, 0.0, 0.0, 0.0, 1.0, 0.0, 0.0, 0.0, 1.0, 0.0, 0.0, 0.0)   \n",
       "1  (0.0, 0.0, 1.0, 1.0, 0.0, 0.0, 0.0, 0.0, 0.0, 0.0, 0.0, 0.0, 0.0, 1.0, 0.0, 0.0, 0.0, 0.0, 0.0, 0.0, 0.0, 0.0, 0.0, 0.0, 1.0, 0.0, 0.0, 0.0, 0.0, 0.0, 0.0, 0.0, 0.0, 0.0, 0.0, 0.0, 0.0, 1.0, 0.0, 0.0, 0.0, 0.0, 0.0, 0.0, 0.0, 0.0, 0.0, 0.0, 0.0, 0.0)   \n",
       "\n",
       "                                                                                                                                                                                                                company_profile_tokenized_filtered_rawfeatures  \\\n",
       "0   (2.0, 3.0, 1.0, 5.0, 1.0, 1.0, 2.0, 2.0, 2.0, 1.0, 5.0, 0.0, 5.0, 4.0, 0.0, 4.0, 0.0, 3.0, 3.0, 1.0, 2.0, 1.0, 0.0, 0.0, 3.0, 1.0, 0.0, 1.0, 3.0, 0.0, 3.0, 1.0, 0.0, 4.0, 0.0, 4.0, 2.0, 2.0, 1.0, 1.0, 3.0, 1.0, 5.0, 1.0, 1.0, 3.0, 0.0, 2.0, 3.0, 1.0)   \n",
       "1  (0.0, 1.0, 3.0, 6.0, 2.0, 0.0, 1.0, 5.0, 3.0, 0.0, 3.0, 2.0, 1.0, 2.0, 1.0, 0.0, 3.0, 0.0, 0.0, 0.0, 1.0, 1.0, 0.0, 1.0, 7.0, 4.0, 1.0, 0.0, 3.0, 0.0, 5.0, 1.0, 2.0, 1.0, 2.0, 2.0, 1.0, 4.0, 1.0, 2.0, 10.0, 0.0, 2.0, 0.0, 5.0, 4.0, 1.0, 0.0, 0.0, 1.0)   \n",
       "\n",
       "                                                                                                                                                                                                                      description_tokenized_filtered_rawfeatures  \\\n",
       "0     (2.0, 5.0, 0.0, 4.0, 1.0, 4.0, 1.0, 2.0, 0.0, 1.0, 1.0, 2.0, 3.0, 2.0, 0.0, 0.0, 3.0, 2.0, 2.0, 1.0, 1.0, 3.0, 2.0, 3.0, 3.0, 0.0, 1.0, 2.0, 0.0, 2.0, 1.0, 1.0, 1.0, 3.0, 2.0, 1.0, 1.0, 0.0, 5.0, 0.0, 2.0, 1.0, 5.0, 1.0, 2.0, 1.0, 0.0, 2.0, 2.0, 0.0)   \n",
       "1  (0.0, 2.0, 7.0, 6.0, 3.0, 3.0, 1.0, 10.0, 3.0, 2.0, 5.0, 3.0, 2.0, 5.0, 3.0, 2.0, 3.0, 2.0, 3.0, 3.0, 2.0, 1.0, 0.0, 3.0, 13.0, 6.0, 3.0, 3.0, 4.0, 0.0, 9.0, 2.0, 4.0, 4.0, 2.0, 7.0, 2.0, 7.0, 2.0, 2.0, 13.0, 3.0, 3.0, 1.0, 9.0, 8.0, 2.0, 3.0, 1.0, 5.0)   \n",
       "\n",
       "                                                                                                                                                                                                                  requirements_tokenized_filtered_rawfeatures  \n",
       "0  (1.0, 1.0, 1.0, 5.0, 1.0, 0.0, 0.0, 1.0, 2.0, 3.0, 1.0, 2.0, 4.0, 1.0, 1.0, 2.0, 1.0, 1.0, 2.0, 0.0, 0.0, 1.0, 1.0, 2.0, 2.0, 1.0, 1.0, 1.0, 0.0, 1.0, 2.0, 2.0, 1.0, 1.0, 1.0, 1.0, 1.0, 0.0, 3.0, 2.0, 2.0, 1.0, 4.0, 3.0, 2.0, 0.0, 4.0, 1.0, 5.0, 1.0)  \n",
       "1  (5.0, 3.0, 5.0, 3.0, 1.0, 1.0, 1.0, 3.0, 1.0, 3.0, 2.0, 3.0, 1.0, 3.0, 3.0, 4.0, 1.0, 3.0, 1.0, 1.0, 3.0, 2.0, 0.0, 1.0, 4.0, 0.0, 6.0, 2.0, 1.0, 1.0, 4.0, 5.0, 1.0, 2.0, 2.0, 7.0, 2.0, 1.0, 1.0, 1.0, 6.0, 6.0, 2.0, 2.0, 3.0, 0.0, 3.0, 1.0, 3.0, 0.0)  "
      ]
     },
     "execution_count": 49,
     "metadata": {},
     "output_type": "execute_result"
    }
   ],
   "source": [
    "# Hashing TF\n",
    "cols = feature_data.columns[4:8]\n",
    "HTFfeaturizedData = feature_data\n",
    "\n",
    "for col in cols:\n",
    "    hashingTF = HashingTF(inputCol=col, outputCol=col+\"_rawfeatures\", numFeatures=50)\n",
    "    HTFfeaturizedData = hashingTF.transform(HTFfeaturizedData)\n",
    "    HTFfeaturizedData = HTFfeaturizedData.drop(col)\n",
    "HTFfeaturizedData.limit(2).toPandas()"
   ]
  },
  {
   "cell_type": "code",
   "execution_count": 50,
   "metadata": {},
   "outputs": [
    {
     "data": {
      "text/html": [
       "<div>\n",
       "<style scoped>\n",
       "    .dataframe tbody tr th:only-of-type {\n",
       "        vertical-align: middle;\n",
       "    }\n",
       "\n",
       "    .dataframe tbody tr th {\n",
       "        vertical-align: top;\n",
       "    }\n",
       "\n",
       "    .dataframe thead th {\n",
       "        text-align: right;\n",
       "    }\n",
       "</style>\n",
       "<table border=\"1\" class=\"dataframe\">\n",
       "  <thead>\n",
       "    <tr style=\"text-align: right;\">\n",
       "      <th></th>\n",
       "      <th>telecommuting1</th>\n",
       "      <th>has_company_logo1</th>\n",
       "      <th>has_questions1</th>\n",
       "      <th>fraudulent1</th>\n",
       "      <th>employment_type_indexed</th>\n",
       "      <th>country_indexed</th>\n",
       "      <th>title_tokenized_filtered_rawfeatures_tfidf</th>\n",
       "      <th>company_profile_tokenized_filtered_rawfeatures_tfidf</th>\n",
       "      <th>description_tokenized_filtered_rawfeatures_tfidf</th>\n",
       "      <th>requirements_tokenized_filtered_rawfeatures_tfidf</th>\n",
       "    </tr>\n",
       "  </thead>\n",
       "  <tbody>\n",
       "    <tr>\n",
       "      <th>0</th>\n",
       "      <td>0</td>\n",
       "      <td>1</td>\n",
       "      <td>0</td>\n",
       "      <td>0</td>\n",
       "      <td>1.0</td>\n",
       "      <td>0.0</td>\n",
       "      <td>(0.0, 0.0, 0.0, 0.0, 0.0, 0.0, 0.0, 0.0, 0.0, 0.0, 0.0, 0.0, 0.0, 0.0, 0.0, 0.0, 0.0, 0.0, 0.0, 0.0, 0.0, 0.0, 0.0, 0.0, 0.0, 0.0, 0.0, 0.0, 0.0, 0.0, 0.0, 0.0, 0.0, 0.0, 0.0, 0.0, 0.0, 0.0, 0.0, 0.0, 0.0, 0.0, 2.596198158881319, 0.0, 0.0, 0.0, 2.7872533956440284, 0.0, 0.0, 0.0)</td>\n",
       "      <td>(1.6539129241456119, 2.267133799935574, 0.6601615508551427, 2.5581571675046466, 0.7994445933226298, 0.8167673405398773, 1.24819074574283, 0.7733298560926558, 1.5041575412723518, 0.733252353808031, 2.1636942350977386, 0.0, 3.0570741783287634, 1.853088198074099, 0.0, 3.0621896460876177, 0.0, 2.151557387812281, 1.9349829314014195, 0.8700493707683976, 1.1509247592513716, 1.107968112477655, 0.0, 0.0, 1.633224445595979, 0.6917925259369071, 0.0, 0.7489578642892835, 1.8818723754626365, 0.0, 2.062339441355095, 0.7145329546372695, 0.0, 2.487151225316324, 0.0, 1.9074081577069577, 1.8754132247553965, 1.5975786564889385, 0.7550840321016392, 0.6923812807375465, 1.5544229225732566, 0.6699031899822944, 2.035878853347798, 0.762005345832527, 0.558629064439829, 2.0672661286793423, 0.0, 1.0107187255265202, 2.9122872440149603, 0.8783845182690638)</td>\n",
       "      <td>(0.764154336861333, 1.5658533195851905, 0.0, 0.8636813409900508, 0.41099104525011354, 1.3791262003606026, 0.39336789111912723, 0.2780215317298331, 0.0, 0.4226149243396903, 0.20291284886784092, 0.8584038191636133, 0.5890932419897865, 0.3945945667098162, 0.0, 0.0, 1.030104366879011, 0.5810696092920499, 0.49152886543337254, 0.5734733708568909, 0.3522978707609938, 1.0722737358966812, 0.8007598558276658, 0.5905998603806727, 0.5567761825542852, 0.0, 0.2572849481892588, 0.6670593465854314, 0.0, 1.190077377233556, 0.3131706639170381, 0.32688785477214544, 0.17276052551872845, 0.742950475010308, 1.0702115117393591, 0.232216828334358, 0.4210871774687386, 0.0, 1.8456030919770918, 0.0, 0.25525957689458506, 0.2944038923420912, 0.8323779431477479, 0.36232365085153156, 0.5219015068493438, 0.370997912231163, 0.0, 0.4786091179587886, 0.6716718187722954, 0.0)</td>\n",
       "      <td>(0.8711754970135327, 0.741383481519428, 0.6720937713621129, 3.450729270966911, 0.9869183617135769, 0.0, 0.0, 0.47145455461248503, 1.6612028410927244, 2.568236282264297, 0.595466221757108, 1.91156519260407, 2.9694943224408457, 0.5951455547670266, 0.620910132109274, 1.6944778483712495, 0.7158584955917359, 0.772414172990075, 1.3032881909344087, 0.0, 0.0, 0.8715981215179566, 0.5935437604152533, 1.317359969365888, 1.0207084627640668, 1.0576747824604187, 0.7856440878756971, 0.6567458581342744, 0.0, 1.0075277659796968, 1.542023117595481, 1.364372158105036, 0.4193824531763066, 0.8218489240877762, 0.8476515505583042, 0.3293426469384993, 0.9380077265022259, 0.0, 2.4331442971228134, 1.7032981493263548, 0.7123229475058264, 0.8010189835717383, 1.9860338254861418, 1.675578090233334, 1.5430427454534053, 0.0, 2.632898237686968, 0.8189038081705347, 3.6344612704546746, 0.7082904373664832)</td>\n",
       "    </tr>\n",
       "    <tr>\n",
       "      <th>1</th>\n",
       "      <td>0</td>\n",
       "      <td>1</td>\n",
       "      <td>0</td>\n",
       "      <td>0</td>\n",
       "      <td>0.0</td>\n",
       "      <td>6.0</td>\n",
       "      <td>(0.0, 0.0, 1.5349006274688988, 2.442612291269019, 0.0, 0.0, 0.0, 0.0, 0.0, 0.0, 0.0, 0.0, 0.0, 2.254095276753278, 0.0, 0.0, 0.0, 0.0, 0.0, 0.0, 0.0, 0.0, 0.0, 0.0, 2.4590173071587516, 0.0, 0.0, 0.0, 0.0, 0.0, 0.0, 0.0, 0.0, 0.0, 0.0, 0.0, 0.0, 2.136125097838184, 0.0, 0.0, 0.0, 0.0, 0.0, 0.0, 0.0, 0.0, 0.0, 0.0, 0.0, 0.0)</td>\n",
       "      <td>(0.0, 0.7557112666451913, 1.980484652565428, 3.069788601005576, 1.5988891866452597, 0.0, 0.624095372871415, 1.9333246402316395, 2.256236311908528, 0.0, 1.2982165410586433, 1.8166727225638832, 0.6114148356657527, 0.9265440990370495, 0.789530606564978, 0.0, 2.0395709276054865, 0.0, 0.0, 0.0, 0.5754623796256858, 1.107968112477655, 0.0, 0.7079314783437833, 3.810857039723951, 2.7671701037476284, 0.7580983523945618, 0.0, 1.8818723754626365, 0.0, 3.4372324022584917, 0.7145329546372695, 1.2598860402819676, 0.621787806329081, 2.050887109242624, 0.9537040788534789, 0.9377066123776983, 3.195157312977877, 0.7550840321016392, 1.384762561475093, 5.181409741910855, 0.0, 0.8143515413391192, 0.0, 2.7931453221991447, 2.756354838239123, 0.76580089694785, 0.0, 0.0, 0.8783845182690638)</td>\n",
       "      <td>(0.0, 0.6263413278340761, 1.5252798883035048, 1.295522011485076, 1.2329731357503406, 1.034344650270452, 0.39336789111912723, 1.3901076586491656, 1.2851624002541784, 0.8452298486793806, 1.0145642443392047, 1.28760572874542, 0.392728827993191, 0.9864864167745404, 1.1007195975123945, 0.8032242110065614, 1.030104366879011, 0.5810696092920499, 0.7372932981500588, 1.7204201125706726, 0.7045957415219876, 0.35742457863222704, 0.0, 0.5905998603806727, 2.412696791068569, 2.3869942778879683, 0.7718548445677764, 1.000589019878147, 1.2077924049696676, 0.0, 2.8185359752533428, 0.6537757095442909, 0.6910421020749138, 0.9906006333470774, 1.0702115117393591, 1.625517798340506, 0.8421743549374772, 2.5427884926011415, 0.7382412367908368, 0.6067679323974952, 1.6591872498148028, 0.8832116770262736, 0.49942676588864876, 0.36232365085153156, 2.348556780822047, 2.967983297849304, 0.7204180761897104, 0.7179136769381829, 0.3358359093861477, 1.7964001160301448)</td>\n",
       "      <td>(4.355877485067664, 2.2241504445582843, 3.3604688568105647, 2.070437562580147, 0.9869183617135769, 0.6846374898406433, 0.910677939989779, 1.414363663837455, 0.8306014205463622, 2.568236282264297, 1.190932443514216, 2.867347788906105, 0.7423735806102114, 1.7854366643010797, 1.8627303963278221, 3.388955696742499, 0.7158584955917359, 2.317242518970225, 0.6516440954672044, 0.9010540686857316, 2.2822300703116216, 1.7431962430359131, 0.0, 0.658679984682944, 2.0414169255281336, 0.0, 4.713864527254183, 1.3134917162685489, 0.8689245112572138, 1.0075277659796968, 3.084046235190962, 3.4109303952625902, 0.4193824531763066, 1.6436978481755524, 1.6953031011166084, 2.305398528569495, 1.8760154530044517, 0.8721618988408527, 0.8110480990409378, 0.8516490746631774, 2.1369688425174793, 4.80611390143043, 0.9930169127430709, 1.117052060155556, 2.3145641181801078, 0.0, 1.9746736782652259, 0.8189038081705347, 2.180676762272805, 0.0)</td>\n",
       "    </tr>\n",
       "  </tbody>\n",
       "</table>\n",
       "</div>"
      ],
      "text/plain": [
       "   telecommuting1  has_company_logo1  has_questions1  fraudulent1  \\\n",
       "0               0                  1               0            0   \n",
       "1               0                  1               0            0   \n",
       "\n",
       "   employment_type_indexed  country_indexed  \\\n",
       "0                      1.0              0.0   \n",
       "1                      0.0              6.0   \n",
       "\n",
       "                                                                                                                                                                                                                                                                                           title_tokenized_filtered_rawfeatures_tfidf  \\\n",
       "0                                             (0.0, 0.0, 0.0, 0.0, 0.0, 0.0, 0.0, 0.0, 0.0, 0.0, 0.0, 0.0, 0.0, 0.0, 0.0, 0.0, 0.0, 0.0, 0.0, 0.0, 0.0, 0.0, 0.0, 0.0, 0.0, 0.0, 0.0, 0.0, 0.0, 0.0, 0.0, 0.0, 0.0, 0.0, 0.0, 0.0, 0.0, 0.0, 0.0, 0.0, 0.0, 0.0, 2.596198158881319, 0.0, 0.0, 0.0, 2.7872533956440284, 0.0, 0.0, 0.0)   \n",
       "1  (0.0, 0.0, 1.5349006274688988, 2.442612291269019, 0.0, 0.0, 0.0, 0.0, 0.0, 0.0, 0.0, 0.0, 0.0, 2.254095276753278, 0.0, 0.0, 0.0, 0.0, 0.0, 0.0, 0.0, 0.0, 0.0, 0.0, 2.4590173071587516, 0.0, 0.0, 0.0, 0.0, 0.0, 0.0, 0.0, 0.0, 0.0, 0.0, 0.0, 0.0, 2.136125097838184, 0.0, 0.0, 0.0, 0.0, 0.0, 0.0, 0.0, 0.0, 0.0, 0.0, 0.0, 0.0)   \n",
       "\n",
       "                                                                                                                                                                                                                                                                                                                                                                                                                                                                                                                                                                                                                                                                                                                                                                                                                    company_profile_tokenized_filtered_rawfeatures_tfidf  \\\n",
       "0  (1.6539129241456119, 2.267133799935574, 0.6601615508551427, 2.5581571675046466, 0.7994445933226298, 0.8167673405398773, 1.24819074574283, 0.7733298560926558, 1.5041575412723518, 0.733252353808031, 2.1636942350977386, 0.0, 3.0570741783287634, 1.853088198074099, 0.0, 3.0621896460876177, 0.0, 2.151557387812281, 1.9349829314014195, 0.8700493707683976, 1.1509247592513716, 1.107968112477655, 0.0, 0.0, 1.633224445595979, 0.6917925259369071, 0.0, 0.7489578642892835, 1.8818723754626365, 0.0, 2.062339441355095, 0.7145329546372695, 0.0, 2.487151225316324, 0.0, 1.9074081577069577, 1.8754132247553965, 1.5975786564889385, 0.7550840321016392, 0.6923812807375465, 1.5544229225732566, 0.6699031899822944, 2.035878853347798, 0.762005345832527, 0.558629064439829, 2.0672661286793423, 0.0, 1.0107187255265202, 2.9122872440149603, 0.8783845182690638)   \n",
       "1                                                                (0.0, 0.7557112666451913, 1.980484652565428, 3.069788601005576, 1.5988891866452597, 0.0, 0.624095372871415, 1.9333246402316395, 2.256236311908528, 0.0, 1.2982165410586433, 1.8166727225638832, 0.6114148356657527, 0.9265440990370495, 0.789530606564978, 0.0, 2.0395709276054865, 0.0, 0.0, 0.0, 0.5754623796256858, 1.107968112477655, 0.0, 0.7079314783437833, 3.810857039723951, 2.7671701037476284, 0.7580983523945618, 0.0, 1.8818723754626365, 0.0, 3.4372324022584917, 0.7145329546372695, 1.2598860402819676, 0.621787806329081, 2.050887109242624, 0.9537040788534789, 0.9377066123776983, 3.195157312977877, 0.7550840321016392, 1.384762561475093, 5.181409741910855, 0.0, 0.8143515413391192, 0.0, 2.7931453221991447, 2.756354838239123, 0.76580089694785, 0.0, 0.0, 0.8783845182690638)   \n",
       "\n",
       "                                                                                                                                                                                                                                                                                                                                                                                                                                                                                                                                                                                                                                                                                                                                                                                                                                                                                                                                       description_tokenized_filtered_rawfeatures_tfidf  \\\n",
       "0                                                                                                  (0.764154336861333, 1.5658533195851905, 0.0, 0.8636813409900508, 0.41099104525011354, 1.3791262003606026, 0.39336789111912723, 0.2780215317298331, 0.0, 0.4226149243396903, 0.20291284886784092, 0.8584038191636133, 0.5890932419897865, 0.3945945667098162, 0.0, 0.0, 1.030104366879011, 0.5810696092920499, 0.49152886543337254, 0.5734733708568909, 0.3522978707609938, 1.0722737358966812, 0.8007598558276658, 0.5905998603806727, 0.5567761825542852, 0.0, 0.2572849481892588, 0.6670593465854314, 0.0, 1.190077377233556, 0.3131706639170381, 0.32688785477214544, 0.17276052551872845, 0.742950475010308, 1.0702115117393591, 0.232216828334358, 0.4210871774687386, 0.0, 1.8456030919770918, 0.0, 0.25525957689458506, 0.2944038923420912, 0.8323779431477479, 0.36232365085153156, 0.5219015068493438, 0.370997912231163, 0.0, 0.4786091179587886, 0.6716718187722954, 0.0)   \n",
       "1  (0.0, 0.6263413278340761, 1.5252798883035048, 1.295522011485076, 1.2329731357503406, 1.034344650270452, 0.39336789111912723, 1.3901076586491656, 1.2851624002541784, 0.8452298486793806, 1.0145642443392047, 1.28760572874542, 0.392728827993191, 0.9864864167745404, 1.1007195975123945, 0.8032242110065614, 1.030104366879011, 0.5810696092920499, 0.7372932981500588, 1.7204201125706726, 0.7045957415219876, 0.35742457863222704, 0.0, 0.5905998603806727, 2.412696791068569, 2.3869942778879683, 0.7718548445677764, 1.000589019878147, 1.2077924049696676, 0.0, 2.8185359752533428, 0.6537757095442909, 0.6910421020749138, 0.9906006333470774, 1.0702115117393591, 1.625517798340506, 0.8421743549374772, 2.5427884926011415, 0.7382412367908368, 0.6067679323974952, 1.6591872498148028, 0.8832116770262736, 0.49942676588864876, 0.36232365085153156, 2.348556780822047, 2.967983297849304, 0.7204180761897104, 0.7179136769381829, 0.3358359093861477, 1.7964001160301448)   \n",
       "\n",
       "                                                                                                                                                                                                                                                                                                                                                                                                                                                                                                                                                                                                                                                                                                                                                                                                                                                                                                             requirements_tokenized_filtered_rawfeatures_tfidf  \n",
       "0                                          (0.8711754970135327, 0.741383481519428, 0.6720937713621129, 3.450729270966911, 0.9869183617135769, 0.0, 0.0, 0.47145455461248503, 1.6612028410927244, 2.568236282264297, 0.595466221757108, 1.91156519260407, 2.9694943224408457, 0.5951455547670266, 0.620910132109274, 1.6944778483712495, 0.7158584955917359, 0.772414172990075, 1.3032881909344087, 0.0, 0.0, 0.8715981215179566, 0.5935437604152533, 1.317359969365888, 1.0207084627640668, 1.0576747824604187, 0.7856440878756971, 0.6567458581342744, 0.0, 1.0075277659796968, 1.542023117595481, 1.364372158105036, 0.4193824531763066, 0.8218489240877762, 0.8476515505583042, 0.3293426469384993, 0.9380077265022259, 0.0, 2.4331442971228134, 1.7032981493263548, 0.7123229475058264, 0.8010189835717383, 1.9860338254861418, 1.675578090233334, 1.5430427454534053, 0.0, 2.632898237686968, 0.8189038081705347, 3.6344612704546746, 0.7082904373664832)  \n",
       "1  (4.355877485067664, 2.2241504445582843, 3.3604688568105647, 2.070437562580147, 0.9869183617135769, 0.6846374898406433, 0.910677939989779, 1.414363663837455, 0.8306014205463622, 2.568236282264297, 1.190932443514216, 2.867347788906105, 0.7423735806102114, 1.7854366643010797, 1.8627303963278221, 3.388955696742499, 0.7158584955917359, 2.317242518970225, 0.6516440954672044, 0.9010540686857316, 2.2822300703116216, 1.7431962430359131, 0.0, 0.658679984682944, 2.0414169255281336, 0.0, 4.713864527254183, 1.3134917162685489, 0.8689245112572138, 1.0075277659796968, 3.084046235190962, 3.4109303952625902, 0.4193824531763066, 1.6436978481755524, 1.6953031011166084, 2.305398528569495, 1.8760154530044517, 0.8721618988408527, 0.8110480990409378, 0.8516490746631774, 2.1369688425174793, 4.80611390143043, 0.9930169127430709, 1.117052060155556, 2.3145641181801078, 0.0, 1.9746736782652259, 0.8189038081705347, 2.180676762272805, 0.0)  "
      ]
     },
     "execution_count": 50,
     "metadata": {},
     "output_type": "execute_result"
    }
   ],
   "source": [
    "# TF-IDF\n",
    "TFIDFfeaturizedData = HTFfeaturizedData\n",
    "cols = HTFfeaturizedData.columns[6:10]\n",
    "for col in cols:\n",
    "    idf = IDF(inputCol=col, outputCol=col+\"_tfidf\")\n",
    "    idfModel = idf.fit(HTFfeaturizedData)\n",
    "    TFIDFfeaturizedData = idfModel.transform(TFIDFfeaturizedData)\n",
    "    TFIDFfeaturizedData = TFIDFfeaturizedData.drop(col)\n",
    "TFIDFfeaturizedData.name = 'TFIDFfeaturizedData'\n",
    "TFIDFfeaturizedData.limit(2).toPandas()"
   ]
  },
  {
   "cell_type": "code",
   "execution_count": 52,
   "metadata": {},
   "outputs": [
    {
     "data": {
      "text/html": [
       "<div>\n",
       "<style scoped>\n",
       "    .dataframe tbody tr th:only-of-type {\n",
       "        vertical-align: middle;\n",
       "    }\n",
       "\n",
       "    .dataframe tbody tr th {\n",
       "        vertical-align: top;\n",
       "    }\n",
       "\n",
       "    .dataframe thead th {\n",
       "        text-align: right;\n",
       "    }\n",
       "</style>\n",
       "<table border=\"1\" class=\"dataframe\">\n",
       "  <thead>\n",
       "    <tr style=\"text-align: right;\">\n",
       "      <th></th>\n",
       "      <th>telecommuting1</th>\n",
       "      <th>has_company_logo1</th>\n",
       "      <th>has_questions1</th>\n",
       "      <th>fraudulent1</th>\n",
       "      <th>employment_type_indexed</th>\n",
       "      <th>country_indexed</th>\n",
       "      <th>title_tokenized_filtered_w2v</th>\n",
       "      <th>company_profile_tokenized_filtered_w2v</th>\n",
       "      <th>description_tokenized_filtered_w2v</th>\n",
       "      <th>requirements_tokenized_filtered_w2v</th>\n",
       "    </tr>\n",
       "  </thead>\n",
       "  <tbody>\n",
       "    <tr>\n",
       "      <th>0</th>\n",
       "      <td>0</td>\n",
       "      <td>1</td>\n",
       "      <td>0</td>\n",
       "      <td>0</td>\n",
       "      <td>1.0</td>\n",
       "      <td>0.0</td>\n",
       "      <td>[-0.06928297132253647, -0.3702474907040596, -0.16312932595610619, -0.37926886044442654, -0.2184382677078247]</td>\n",
       "      <td>[-0.14248051975873557, 0.20141157888846986, -0.1762768022636784, -0.389535442945805, 0.37078204979758433]</td>\n",
       "      <td>[-0.07412367839632289, 0.09655342376624633, 0.33162052989272134, 0.037503075414514614, 0.021555425371930358]</td>\n",
       "      <td>[-0.07241791500347099, 0.23837789629477188, -0.26856790416474857, 0.13539069683545016, -0.1046861531333877]</td>\n",
       "    </tr>\n",
       "    <tr>\n",
       "      <th>1</th>\n",
       "      <td>0</td>\n",
       "      <td>1</td>\n",
       "      <td>0</td>\n",
       "      <td>0</td>\n",
       "      <td>0.0</td>\n",
       "      <td>6.0</td>\n",
       "      <td>[-0.5204122811555862, -0.1517421631142497, 0.02989270463585854, -0.17545882016420367, -0.426320093870163]</td>\n",
       "      <td>[-0.13137909273960088, 0.1920246264456134, -0.3858934829109593, 0.0811426564058485, 0.2116717520427253]</td>\n",
       "      <td>[-0.11637427035020664, 0.0043905874008487444, 0.3997167061655394, -0.13870391027376172, 0.010491414275899539]</td>\n",
       "      <td>[0.022067648882997067, 0.35713057887624017, -0.26549652126268486, 0.20456188595853744, -0.11866273788036778]</td>\n",
       "    </tr>\n",
       "  </tbody>\n",
       "</table>\n",
       "</div>"
      ],
      "text/plain": [
       "   telecommuting1  has_company_logo1  has_questions1  fraudulent1  \\\n",
       "0               0                  1               0            0   \n",
       "1               0                  1               0            0   \n",
       "\n",
       "   employment_type_indexed  country_indexed  \\\n",
       "0                      1.0              0.0   \n",
       "1                      0.0              6.0   \n",
       "\n",
       "                                                                                   title_tokenized_filtered_w2v  \\\n",
       "0  [-0.06928297132253647, -0.3702474907040596, -0.16312932595610619, -0.37926886044442654, -0.2184382677078247]   \n",
       "1     [-0.5204122811555862, -0.1517421631142497, 0.02989270463585854, -0.17545882016420367, -0.426320093870163]   \n",
       "\n",
       "                                                                      company_profile_tokenized_filtered_w2v  \\\n",
       "0  [-0.14248051975873557, 0.20141157888846986, -0.1762768022636784, -0.389535442945805, 0.37078204979758433]   \n",
       "1    [-0.13137909273960088, 0.1920246264456134, -0.3858934829109593, 0.0811426564058485, 0.2116717520427253]   \n",
       "\n",
       "                                                                              description_tokenized_filtered_w2v  \\\n",
       "0   [-0.07412367839632289, 0.09655342376624633, 0.33162052989272134, 0.037503075414514614, 0.021555425371930358]   \n",
       "1  [-0.11637427035020664, 0.0043905874008487444, 0.3997167061655394, -0.13870391027376172, 0.010491414275899539]   \n",
       "\n",
       "                                                                            requirements_tokenized_filtered_w2v  \n",
       "0   [-0.07241791500347099, 0.23837789629477188, -0.26856790416474857, 0.13539069683545016, -0.1046861531333877]  \n",
       "1  [0.022067648882997067, 0.35713057887624017, -0.26549652126268486, 0.20456188595853744, -0.11866273788036778]  "
      ]
     },
     "execution_count": 52,
     "metadata": {},
     "output_type": "execute_result"
    }
   ],
   "source": [
    "# Word2Vec\n",
    "cols = feature_data.columns[4:8]\n",
    "W2VfeaturizedData = feature_data\n",
    "\n",
    "for col in cols:\n",
    "    word2Vec = Word2Vec(vectorSize=5, minCount=0, inputCol=col, outputCol=col+\"_w2v\")\n",
    "    model = word2Vec.fit(W2VfeaturizedData)\n",
    "    W2VfeaturizedData = model.transform(W2VfeaturizedData)\n",
    "    W2VfeaturizedData = W2VfeaturizedData.drop(col)\n",
    "W2VfeaturizedData.limit(2).toPandas()"
   ]
  },
  {
   "cell_type": "code",
   "execution_count": 53,
   "metadata": {},
   "outputs": [
    {
     "data": {
      "text/html": [
       "<div>\n",
       "<style scoped>\n",
       "    .dataframe tbody tr th:only-of-type {\n",
       "        vertical-align: middle;\n",
       "    }\n",
       "\n",
       "    .dataframe tbody tr th {\n",
       "        vertical-align: top;\n",
       "    }\n",
       "\n",
       "    .dataframe thead th {\n",
       "        text-align: right;\n",
       "    }\n",
       "</style>\n",
       "<table border=\"1\" class=\"dataframe\">\n",
       "  <thead>\n",
       "    <tr style=\"text-align: right;\">\n",
       "      <th></th>\n",
       "      <th>telecommuting1</th>\n",
       "      <th>has_company_logo1</th>\n",
       "      <th>has_questions1</th>\n",
       "      <th>fraudulent1</th>\n",
       "      <th>employment_type_indexed</th>\n",
       "      <th>country_indexed</th>\n",
       "      <th>title_tokenized_filtered_w2v_scaledFeatures</th>\n",
       "      <th>company_profile_tokenized_filtered_w2v_scaledFeatures</th>\n",
       "      <th>description_tokenized_filtered_w2v_scaledFeatures</th>\n",
       "      <th>requirements_tokenized_filtered_w2v_scaledFeatures</th>\n",
       "    </tr>\n",
       "  </thead>\n",
       "  <tbody>\n",
       "    <tr>\n",
       "      <th>0</th>\n",
       "      <td>0</td>\n",
       "      <td>1</td>\n",
       "      <td>0</td>\n",
       "      <td>0</td>\n",
       "      <td>1.0</td>\n",
       "      <td>0.0</td>\n",
       "      <td>[0.5938849866325313, 0.31394627216468474, 0.594669685839558, 0.24351221495283287, 0.41688990325425856]</td>\n",
       "      <td>[0.3949858217777207, 0.3925060384878866, 0.34471420262940267, 0.27259337839238384, 0.6389375600462016]</td>\n",
       "      <td>[0.42664604919089694, 0.7414088181486949, 0.8237246426849907, 0.4828342812984385, 0.34483377183585395]</td>\n",
       "      <td>[0.3832848011107217, 0.5665807784903685, 0.3191296196720339, 0.46690713155779584, 0.6301159056496086]</td>\n",
       "    </tr>\n",
       "    <tr>\n",
       "      <th>1</th>\n",
       "      <td>0</td>\n",
       "      <td>1</td>\n",
       "      <td>0</td>\n",
       "      <td>0</td>\n",
       "      <td>0.0</td>\n",
       "      <td>6.0</td>\n",
       "      <td>[0.47400191609691034, 0.3964122989606692, 0.6435826036577118, 0.302910470271507, 0.3471509405930398]</td>\n",
       "      <td>[0.39934470980149117, 0.38853941088296007, 0.1967346984048519, 0.5194790452139721, 0.5453165554492275]</td>\n",
       "      <td>[0.4064482249423874, 0.715136710383798, 0.8521189722909471, 0.41835198845595584, 0.341916719094687]</td>\n",
       "      <td>[0.4069349089677808, 0.6179740657221018, 0.32043532968433974, 0.4889262604410459, 0.6250656377405553]</td>\n",
       "    </tr>\n",
       "  </tbody>\n",
       "</table>\n",
       "</div>"
      ],
      "text/plain": [
       "   telecommuting1  has_company_logo1  has_questions1  fraudulent1  \\\n",
       "0               0                  1               0            0   \n",
       "1               0                  1               0            0   \n",
       "\n",
       "   employment_type_indexed  country_indexed  \\\n",
       "0                      1.0              0.0   \n",
       "1                      0.0              6.0   \n",
       "\n",
       "                                                              title_tokenized_filtered_w2v_scaledFeatures  \\\n",
       "0  [0.5938849866325313, 0.31394627216468474, 0.594669685839558, 0.24351221495283287, 0.41688990325425856]   \n",
       "1    [0.47400191609691034, 0.3964122989606692, 0.6435826036577118, 0.302910470271507, 0.3471509405930398]   \n",
       "\n",
       "                                                    company_profile_tokenized_filtered_w2v_scaledFeatures  \\\n",
       "0  [0.3949858217777207, 0.3925060384878866, 0.34471420262940267, 0.27259337839238384, 0.6389375600462016]   \n",
       "1  [0.39934470980149117, 0.38853941088296007, 0.1967346984048519, 0.5194790452139721, 0.5453165554492275]   \n",
       "\n",
       "                                                        description_tokenized_filtered_w2v_scaledFeatures  \\\n",
       "0  [0.42664604919089694, 0.7414088181486949, 0.8237246426849907, 0.4828342812984385, 0.34483377183585395]   \n",
       "1     [0.4064482249423874, 0.715136710383798, 0.8521189722909471, 0.41835198845595584, 0.341916719094687]   \n",
       "\n",
       "                                                      requirements_tokenized_filtered_w2v_scaledFeatures  \n",
       "0  [0.3832848011107217, 0.5665807784903685, 0.3191296196720339, 0.46690713155779584, 0.6301159056496086]  \n",
       "1  [0.4069349089677808, 0.6179740657221018, 0.32043532968433974, 0.4889262604410459, 0.6250656377405553]  "
      ]
     },
     "execution_count": 53,
     "metadata": {},
     "output_type": "execute_result"
    }
   ],
   "source": [
    "# W2Vec Dataframes typically has negative values so we will correct for that here so that we can use the Naive Bayes classifier\n",
    "cols = W2VfeaturizedData.columns[6:10]\n",
    "for col in cols:\n",
    "    scaler = MinMaxScaler(inputCol=col, outputCol=col+\"_scaledFeatures\")\n",
    "\n",
    "    # Compute summary statistics and generate MinMaxScalerModel\n",
    "    scalerModel = scaler.fit(W2VfeaturizedData)\n",
    "\n",
    "    # rescale each feature to range [min, max].\n",
    "    W2VfeaturizedData = scalerModel.transform(W2VfeaturizedData)\n",
    "    W2VfeaturizedData = W2VfeaturizedData.drop(col)\n",
    "\n",
    "W2VfeaturizedData.name = 'W2VfeaturizedData' # We will need this to print later\n",
    "W2VfeaturizedData.limit(2).toPandas()"
   ]
  },
  {
   "cell_type": "markdown",
   "metadata": {},
   "source": [
    "**Last check**, id the column has more than 32 distict values we will have to drop it to use the decision tree and its family"
   ]
  },
  {
   "cell_type": "code",
   "execution_count": 55,
   "metadata": {},
   "outputs": [
    {
     "name": "stdout",
     "output_type": "stream",
     "text": [
      "telecommuting1 3\n",
      "has_company_logo1 3\n",
      "has_questions1 3\n",
      "fraudulent1 2\n",
      "employment_type_indexed 4\n",
      "country_indexed 91\n",
      "title_tokenized_filtered_w2v_scaledFeatures 9747\n",
      "company_profile_tokenized_filtered_w2v_scaledFeatures 1623\n",
      "description_tokenized_filtered_w2v_scaledFeatures 13548\n",
      "requirements_tokenized_filtered_w2v_scaledFeatures 10987\n"
     ]
    }
   ],
   "source": [
    "for col in W2VfeaturizedData.columns:\n",
    "    distinct_count = W2VfeaturizedData.select(col).distinct().count()\n",
    "    print(col, distinct_count)"
   ]
  },
  {
   "cell_type": "markdown",
   "metadata": {},
   "source": [
    "We see that the country column has 91 distict values so we will not use it, but if we have time, we will change handeling this column and can cast the less repeated value to one value."
   ]
  },
  {
   "cell_type": "code",
   "execution_count": 58,
   "metadata": {},
   "outputs": [
    {
     "data": {
      "text/plain": [
       "DataFrame[telecommuting1: int, has_company_logo1: int, has_questions1: int, fraudulent1: int, employment_type_indexed: double, title_tokenized_filtered_w2v_scaledFeatures: vector, company_profile_tokenized_filtered_w2v_scaledFeatures: vector, description_tokenized_filtered_w2v_scaledFeatures: vector, requirements_tokenized_filtered_w2v_scaledFeatures: vector]"
      ]
     },
     "execution_count": 58,
     "metadata": {},
     "output_type": "execute_result"
    }
   ],
   "source": [
    "W2VfeaturizedData.drop(\"country_indexed\")"
   ]
  },
  {
   "cell_type": "code",
   "execution_count": 59,
   "metadata": {},
   "outputs": [
    {
     "data": {
      "text/plain": [
       "DataFrame[telecommuting1: int, has_company_logo1: int, has_questions1: int, fraudulent1: int, employment_type_indexed: double, title_tokenized_filtered_rawfeatures_tfidf: vector, company_profile_tokenized_filtered_rawfeatures_tfidf: vector, description_tokenized_filtered_rawfeatures_tfidf: vector, requirements_tokenized_filtered_rawfeatures_tfidf: vector]"
      ]
     },
     "execution_count": 59,
     "metadata": {},
     "output_type": "execute_result"
    }
   ],
   "source": [
    "TFIDFfeaturizedData.drop(\"country_indexed\")"
   ]
  },
  {
   "cell_type": "code",
   "execution_count": 60,
   "metadata": {},
   "outputs": [
    {
     "data": {
      "text/plain": [
       "DataFrame[telecommuting1: int, has_company_logo1: int, has_questions1: int, fraudulent1: int, employment_type_indexed: double, title_tokenized_filtered_rawfeatures: vector, company_profile_tokenized_filtered_rawfeatures: vector, description_tokenized_filtered_rawfeatures: vector, requirements_tokenized_filtered_rawfeatures: vector]"
      ]
     },
     "execution_count": 60,
     "metadata": {},
     "output_type": "execute_result"
    }
   ],
   "source": [
    "HTFfeaturizedData.drop(\"country_indexed\")"
   ]
  },
  {
   "cell_type": "markdown",
   "metadata": {},
   "source": [
    "Now we have 3 datasets each with a different type of vectorizer (TF, TFIDF, WordToVec), it is time to train our model and see which is the best one to use.\n",
    "<br> For that, we need to combine our features into one column called features and our target label as a column named label for each of the 3 datasets."
   ]
  },
  {
   "cell_type": "code",
   "execution_count": 61,
   "metadata": {},
   "outputs": [
    {
     "data": {
      "text/html": [
       "<div>\n",
       "<style scoped>\n",
       "    .dataframe tbody tr th:only-of-type {\n",
       "        vertical-align: middle;\n",
       "    }\n",
       "\n",
       "    .dataframe tbody tr th {\n",
       "        vertical-align: top;\n",
       "    }\n",
       "\n",
       "    .dataframe thead th {\n",
       "        text-align: right;\n",
       "    }\n",
       "</style>\n",
       "<table border=\"1\" class=\"dataframe\">\n",
       "  <thead>\n",
       "    <tr style=\"text-align: right;\">\n",
       "      <th></th>\n",
       "      <th>features</th>\n",
       "      <th>label</th>\n",
       "    </tr>\n",
       "  </thead>\n",
       "  <tbody>\n",
       "    <tr>\n",
       "      <th>0</th>\n",
       "      <td>(0.0, 1.0, 0.0, 1.0, 0.0, 0.0, 0.0, 0.0, 0.0, 0.0, 0.0, 0.0, 0.0, 0.0, 0.0, 0.0, 0.0, 0.0, 0.0, 0.0, 0.0, 0.0, 0.0, 0.0, 0.0, 0.0, 0.0, 0.0, 0.0, 0.0, 0.0, 0.0, 0.0, 0.0, 0.0, 0.0, 0.0, 0.0, 0.0, 0.0, 0.0, 0.0, 0.0, 0.0, 0.0, 0.0, 0.0, 1.0, 0.0, 0.0, 0.0, 1.0, 0.0, 0.0, 0.0, 2.0, 3.0, 1.0, 5.0, 1.0, 1.0, 2.0, 2.0, 2.0, 1.0, 5.0, 0.0, 5.0, 4.0, 0.0, 4.0, 0.0, 3.0, 3.0, 1.0, 2.0, 1.0, 0.0, 0.0, 3.0, 1.0, 0.0, 1.0, 3.0, 0.0, 3.0, 1.0, 0.0, 4.0, 0.0, 4.0, 2.0, 2.0, 1.0, 1.0, 3.0, 1.0, 5.0, 1.0, 1.0, ...)</td>\n",
       "      <td>0</td>\n",
       "    </tr>\n",
       "    <tr>\n",
       "      <th>1</th>\n",
       "      <td>[0.0, 1.0, 0.0, 0.0, 6.0, 0.0, 0.0, 1.0, 1.0, 0.0, 0.0, 0.0, 0.0, 0.0, 0.0, 0.0, 0.0, 0.0, 1.0, 0.0, 0.0, 0.0, 0.0, 0.0, 0.0, 0.0, 0.0, 0.0, 0.0, 1.0, 0.0, 0.0, 0.0, 0.0, 0.0, 0.0, 0.0, 0.0, 0.0, 0.0, 0.0, 0.0, 1.0, 0.0, 0.0, 0.0, 0.0, 0.0, 0.0, 0.0, 0.0, 0.0, 0.0, 0.0, 0.0, 0.0, 1.0, 3.0, 6.0, 2.0, 0.0, 1.0, 5.0, 3.0, 0.0, 3.0, 2.0, 1.0, 2.0, 1.0, 0.0, 3.0, 0.0, 0.0, 0.0, 1.0, 1.0, 0.0, 1.0, 7.0, 4.0, 1.0, 0.0, 3.0, 0.0, 5.0, 1.0, 2.0, 1.0, 2.0, 2.0, 1.0, 4.0, 1.0, 2.0, 10.0, 0.0, 2.0, 0.0, 5.0, ...]</td>\n",
       "      <td>0</td>\n",
       "    </tr>\n",
       "    <tr>\n",
       "      <th>2</th>\n",
       "      <td>(0.0, 1.0, 0.0, 1.0, 0.0, 0.0, 0.0, 0.0, 0.0, 0.0, 0.0, 0.0, 0.0, 0.0, 0.0, 0.0, 0.0, 1.0, 1.0, 0.0, 0.0, 0.0, 0.0, 0.0, 0.0, 0.0, 0.0, 0.0, 0.0, 0.0, 0.0, 0.0, 0.0, 0.0, 0.0, 0.0, 0.0, 0.0, 0.0, 0.0, 0.0, 0.0, 0.0, 1.0, 0.0, 0.0, 0.0, 0.0, 0.0, 0.0, 1.0, 0.0, 0.0, 0.0, 0.0, 1.0, 0.0, 1.0, 3.0, 2.0, 4.0, 5.0, 1.0, 2.0, 0.0, 3.0, 4.0, 0.0, 0.0, 0.0, 0.0, 0.0, 0.0, 2.0, 7.0, 4.0, 0.0, 0.0, 0.0, 2.0, 5.0, 3.0, 1.0, 2.0, 1.0, 2.0, 3.0, 0.0, 1.0, 1.0, 2.0, 0.0, 1.0, 0.0, 2.0, 3.0, 2.0, 3.0, 1.0, 1.0, ...)</td>\n",
       "      <td>0</td>\n",
       "    </tr>\n",
       "  </tbody>\n",
       "</table>\n",
       "</div>"
      ],
      "text/plain": [
       "                                                                                                                                                                                                                                                                                                                                                                                                                                                                                                                     features  \\\n",
       "0   (0.0, 1.0, 0.0, 1.0, 0.0, 0.0, 0.0, 0.0, 0.0, 0.0, 0.0, 0.0, 0.0, 0.0, 0.0, 0.0, 0.0, 0.0, 0.0, 0.0, 0.0, 0.0, 0.0, 0.0, 0.0, 0.0, 0.0, 0.0, 0.0, 0.0, 0.0, 0.0, 0.0, 0.0, 0.0, 0.0, 0.0, 0.0, 0.0, 0.0, 0.0, 0.0, 0.0, 0.0, 0.0, 0.0, 0.0, 1.0, 0.0, 0.0, 0.0, 1.0, 0.0, 0.0, 0.0, 2.0, 3.0, 1.0, 5.0, 1.0, 1.0, 2.0, 2.0, 2.0, 1.0, 5.0, 0.0, 5.0, 4.0, 0.0, 4.0, 0.0, 3.0, 3.0, 1.0, 2.0, 1.0, 0.0, 0.0, 3.0, 1.0, 0.0, 1.0, 3.0, 0.0, 3.0, 1.0, 0.0, 4.0, 0.0, 4.0, 2.0, 2.0, 1.0, 1.0, 3.0, 1.0, 5.0, 1.0, 1.0, ...)   \n",
       "1  [0.0, 1.0, 0.0, 0.0, 6.0, 0.0, 0.0, 1.0, 1.0, 0.0, 0.0, 0.0, 0.0, 0.0, 0.0, 0.0, 0.0, 0.0, 1.0, 0.0, 0.0, 0.0, 0.0, 0.0, 0.0, 0.0, 0.0, 0.0, 0.0, 1.0, 0.0, 0.0, 0.0, 0.0, 0.0, 0.0, 0.0, 0.0, 0.0, 0.0, 0.0, 0.0, 1.0, 0.0, 0.0, 0.0, 0.0, 0.0, 0.0, 0.0, 0.0, 0.0, 0.0, 0.0, 0.0, 0.0, 1.0, 3.0, 6.0, 2.0, 0.0, 1.0, 5.0, 3.0, 0.0, 3.0, 2.0, 1.0, 2.0, 1.0, 0.0, 3.0, 0.0, 0.0, 0.0, 1.0, 1.0, 0.0, 1.0, 7.0, 4.0, 1.0, 0.0, 3.0, 0.0, 5.0, 1.0, 2.0, 1.0, 2.0, 2.0, 1.0, 4.0, 1.0, 2.0, 10.0, 0.0, 2.0, 0.0, 5.0, ...]   \n",
       "2   (0.0, 1.0, 0.0, 1.0, 0.0, 0.0, 0.0, 0.0, 0.0, 0.0, 0.0, 0.0, 0.0, 0.0, 0.0, 0.0, 0.0, 1.0, 1.0, 0.0, 0.0, 0.0, 0.0, 0.0, 0.0, 0.0, 0.0, 0.0, 0.0, 0.0, 0.0, 0.0, 0.0, 0.0, 0.0, 0.0, 0.0, 0.0, 0.0, 0.0, 0.0, 0.0, 0.0, 1.0, 0.0, 0.0, 0.0, 0.0, 0.0, 0.0, 1.0, 0.0, 0.0, 0.0, 0.0, 1.0, 0.0, 1.0, 3.0, 2.0, 4.0, 5.0, 1.0, 2.0, 0.0, 3.0, 4.0, 0.0, 0.0, 0.0, 0.0, 0.0, 0.0, 2.0, 7.0, 4.0, 0.0, 0.0, 0.0, 2.0, 5.0, 3.0, 1.0, 2.0, 1.0, 2.0, 3.0, 0.0, 1.0, 1.0, 2.0, 0.0, 1.0, 0.0, 2.0, 3.0, 2.0, 3.0, 1.0, 1.0, ...)   \n",
       "\n",
       "   label  \n",
       "0      0  \n",
       "1      0  \n",
       "2      0  "
      ]
     },
     "execution_count": 61,
     "metadata": {},
     "output_type": "execute_result"
    }
   ],
   "source": [
    "#for tf dataset\n",
    "features_list = HTFfeaturizedData.columns\n",
    "features_list.remove('fraudulent1')\n",
    "\n",
    "# Create your vector assembler object\n",
    "assembler = VectorAssembler(inputCols=features_list,outputCol='features',handleInvalid=\"skip\")\n",
    "output_tf = assembler.transform(HTFfeaturizedData).select('features','fraudulent1')\n",
    "\n",
    "output_tf = output_tf.withColumnRenamed('fraudulent1','label')\n",
    "output_tf.name = 'tf'\n",
    "output_tf.limit(3).toPandas()"
   ]
  },
  {
   "cell_type": "code",
   "execution_count": 62,
   "metadata": {},
   "outputs": [
    {
     "data": {
      "text/html": [
       "<div>\n",
       "<style scoped>\n",
       "    .dataframe tbody tr th:only-of-type {\n",
       "        vertical-align: middle;\n",
       "    }\n",
       "\n",
       "    .dataframe tbody tr th {\n",
       "        vertical-align: top;\n",
       "    }\n",
       "\n",
       "    .dataframe thead th {\n",
       "        text-align: right;\n",
       "    }\n",
       "</style>\n",
       "<table border=\"1\" class=\"dataframe\">\n",
       "  <thead>\n",
       "    <tr style=\"text-align: right;\">\n",
       "      <th></th>\n",
       "      <th>features</th>\n",
       "      <th>label</th>\n",
       "    </tr>\n",
       "  </thead>\n",
       "  <tbody>\n",
       "    <tr>\n",
       "      <th>0</th>\n",
       "      <td>(0.0, 1.0, 0.0, 1.0, 0.0, 0.0, 0.0, 0.0, 0.0, 0.0, 0.0, 0.0, 0.0, 0.0, 0.0, 0.0, 0.0, 0.0, 0.0, 0.0, 0.0, 0.0, 0.0, 0.0, 0.0, 0.0, 0.0, 0.0, 0.0, 0.0, 0.0, 0.0, 0.0, 0.0, 0.0, 0.0, 0.0, 0.0, 0.0, 0.0, 0.0, 0.0, 0.0, 0.0, 0.0, 0.0, 0.0, 2.596198158881319, 0.0, 0.0, 0.0, 2.7872533956440284, 0.0, 0.0, 0.0, 1.6539129241456119, 2.267133799935574, 0.6601615508551427, 2.5581571675046466, 0.7994445933226298, 0.8167673405398773, 1.24819074574283, 0.7733298560926558, 1.5041575412723518, 0.733252353808031, 2.1636942350977386, 0.0, 3.0570741783287634, 1.853088198074099, 0.0, 3.0621896460876177, 0.0, 2.151557387812281, 1.9349829314014195, 0.8700493707683976, 1.1509247592513716, 1.107968112477655, 0.0, 0.0, 1.633224445595979, 0.6917925259369071, 0.0, 0.7489578642892835, 1.8818723754626365, 0.0, 2.062339441355095, 0.7145329546372695, 0.0, 2.487151225316324, 0.0, 1.9074081577069577, 1.8754132247553965, 1.5975786564889385, 0.7550840321016392, 0.6923812807375465, 1.5544229225732566, 0.6699031899822944, 2.035878853347798, 0.762005345832527, 0.558629064439829, ...)</td>\n",
       "      <td>0</td>\n",
       "    </tr>\n",
       "    <tr>\n",
       "      <th>1</th>\n",
       "      <td>[0.0, 1.0, 0.0, 0.0, 6.0, 0.0, 0.0, 1.5349006274688988, 2.442612291269019, 0.0, 0.0, 0.0, 0.0, 0.0, 0.0, 0.0, 0.0, 0.0, 2.254095276753278, 0.0, 0.0, 0.0, 0.0, 0.0, 0.0, 0.0, 0.0, 0.0, 0.0, 2.4590173071587516, 0.0, 0.0, 0.0, 0.0, 0.0, 0.0, 0.0, 0.0, 0.0, 0.0, 0.0, 0.0, 2.136125097838184, 0.0, 0.0, 0.0, 0.0, 0.0, 0.0, 0.0, 0.0, 0.0, 0.0, 0.0, 0.0, 0.0, 0.7557112666451913, 1.980484652565428, 3.069788601005576, 1.5988891866452597, 0.0, 0.624095372871415, 1.9333246402316395, 2.256236311908528, 0.0, 1.2982165410586433, 1.8166727225638832, 0.6114148356657527, 0.9265440990370495, 0.789530606564978, 0.0, 2.0395709276054865, 0.0, 0.0, 0.0, 0.5754623796256858, 1.107968112477655, 0.0, 0.7079314783437833, 3.810857039723951, 2.7671701037476284, 0.7580983523945618, 0.0, 1.8818723754626365, 0.0, 3.4372324022584917, 0.7145329546372695, 1.2598860402819676, 0.621787806329081, 2.050887109242624, 0.9537040788534789, 0.9377066123776983, 3.195157312977877, 0.7550840321016392, 1.384762561475093, 5.181409741910855, 0.0, 0.8143515413391192, 0.0, 2.7931453221991447, ...]</td>\n",
       "      <td>0</td>\n",
       "    </tr>\n",
       "    <tr>\n",
       "      <th>2</th>\n",
       "      <td>(0.0, 1.0, 0.0, 1.0, 0.0, 0.0, 0.0, 0.0, 0.0, 0.0, 0.0, 0.0, 0.0, 0.0, 0.0, 0.0, 0.0, 3.230256423071258, 2.254095276753278, 0.0, 0.0, 0.0, 0.0, 0.0, 0.0, 0.0, 0.0, 0.0, 0.0, 0.0, 0.0, 0.0, 0.0, 0.0, 0.0, 0.0, 0.0, 0.0, 0.0, 0.0, 0.0, 0.0, 0.0, 2.608126729746593, 0.0, 0.0, 0.0, 0.0, 0.0, 0.0, 2.398190005919665, 0.0, 0.0, 0.0, 0.0, 0.8269564620728059, 0.0, 0.6601615508551427, 1.534894300502788, 1.5988891866452597, 3.2670693621595093, 3.1204768643570753, 0.3866649280463279, 1.5041575412723518, 0.0, 1.2982165410586433, 3.6333454451277665, 0.0, 0.0, 0.0, 0.0, 0.0, 0.0, 1.2899886209342797, 6.090345595378784, 2.301849518502743, 0.0, 0.0, 0.0, 1.088816297063986, 3.4589626296845353, 2.2742950571836853, 0.7489578642892835, 1.2545815836417578, 1.1319916646269126, 1.3748929609033966, 2.1435988639118086, 0.0, 0.621787806329081, 1.025443554621312, 0.9537040788534789, 0.0, 0.7987893282444692, 0.0, 1.384762561475093, 1.5544229225732566, 1.3398063799645887, 1.221527312008679, 0.762005345832527, 0.558629064439829, ...)</td>\n",
       "      <td>0</td>\n",
       "    </tr>\n",
       "  </tbody>\n",
       "</table>\n",
       "</div>"
      ],
      "text/plain": [
       "                                                                                                                                                                                                                                                                                                                                                                                                                                                                                                                                                                                                                                                                                                                                                                                                                                                                                                                                                                                                                                                                                                features  \\\n",
       "0  (0.0, 1.0, 0.0, 1.0, 0.0, 0.0, 0.0, 0.0, 0.0, 0.0, 0.0, 0.0, 0.0, 0.0, 0.0, 0.0, 0.0, 0.0, 0.0, 0.0, 0.0, 0.0, 0.0, 0.0, 0.0, 0.0, 0.0, 0.0, 0.0, 0.0, 0.0, 0.0, 0.0, 0.0, 0.0, 0.0, 0.0, 0.0, 0.0, 0.0, 0.0, 0.0, 0.0, 0.0, 0.0, 0.0, 0.0, 2.596198158881319, 0.0, 0.0, 0.0, 2.7872533956440284, 0.0, 0.0, 0.0, 1.6539129241456119, 2.267133799935574, 0.6601615508551427, 2.5581571675046466, 0.7994445933226298, 0.8167673405398773, 1.24819074574283, 0.7733298560926558, 1.5041575412723518, 0.733252353808031, 2.1636942350977386, 0.0, 3.0570741783287634, 1.853088198074099, 0.0, 3.0621896460876177, 0.0, 2.151557387812281, 1.9349829314014195, 0.8700493707683976, 1.1509247592513716, 1.107968112477655, 0.0, 0.0, 1.633224445595979, 0.6917925259369071, 0.0, 0.7489578642892835, 1.8818723754626365, 0.0, 2.062339441355095, 0.7145329546372695, 0.0, 2.487151225316324, 0.0, 1.9074081577069577, 1.8754132247553965, 1.5975786564889385, 0.7550840321016392, 0.6923812807375465, 1.5544229225732566, 0.6699031899822944, 2.035878853347798, 0.762005345832527, 0.558629064439829, ...)   \n",
       "1   [0.0, 1.0, 0.0, 0.0, 6.0, 0.0, 0.0, 1.5349006274688988, 2.442612291269019, 0.0, 0.0, 0.0, 0.0, 0.0, 0.0, 0.0, 0.0, 0.0, 2.254095276753278, 0.0, 0.0, 0.0, 0.0, 0.0, 0.0, 0.0, 0.0, 0.0, 0.0, 2.4590173071587516, 0.0, 0.0, 0.0, 0.0, 0.0, 0.0, 0.0, 0.0, 0.0, 0.0, 0.0, 0.0, 2.136125097838184, 0.0, 0.0, 0.0, 0.0, 0.0, 0.0, 0.0, 0.0, 0.0, 0.0, 0.0, 0.0, 0.0, 0.7557112666451913, 1.980484652565428, 3.069788601005576, 1.5988891866452597, 0.0, 0.624095372871415, 1.9333246402316395, 2.256236311908528, 0.0, 1.2982165410586433, 1.8166727225638832, 0.6114148356657527, 0.9265440990370495, 0.789530606564978, 0.0, 2.0395709276054865, 0.0, 0.0, 0.0, 0.5754623796256858, 1.107968112477655, 0.0, 0.7079314783437833, 3.810857039723951, 2.7671701037476284, 0.7580983523945618, 0.0, 1.8818723754626365, 0.0, 3.4372324022584917, 0.7145329546372695, 1.2598860402819676, 0.621787806329081, 2.050887109242624, 0.9537040788534789, 0.9377066123776983, 3.195157312977877, 0.7550840321016392, 1.384762561475093, 5.181409741910855, 0.0, 0.8143515413391192, 0.0, 2.7931453221991447, ...]   \n",
       "2                                               (0.0, 1.0, 0.0, 1.0, 0.0, 0.0, 0.0, 0.0, 0.0, 0.0, 0.0, 0.0, 0.0, 0.0, 0.0, 0.0, 0.0, 3.230256423071258, 2.254095276753278, 0.0, 0.0, 0.0, 0.0, 0.0, 0.0, 0.0, 0.0, 0.0, 0.0, 0.0, 0.0, 0.0, 0.0, 0.0, 0.0, 0.0, 0.0, 0.0, 0.0, 0.0, 0.0, 0.0, 0.0, 2.608126729746593, 0.0, 0.0, 0.0, 0.0, 0.0, 0.0, 2.398190005919665, 0.0, 0.0, 0.0, 0.0, 0.8269564620728059, 0.0, 0.6601615508551427, 1.534894300502788, 1.5988891866452597, 3.2670693621595093, 3.1204768643570753, 0.3866649280463279, 1.5041575412723518, 0.0, 1.2982165410586433, 3.6333454451277665, 0.0, 0.0, 0.0, 0.0, 0.0, 0.0, 1.2899886209342797, 6.090345595378784, 2.301849518502743, 0.0, 0.0, 0.0, 1.088816297063986, 3.4589626296845353, 2.2742950571836853, 0.7489578642892835, 1.2545815836417578, 1.1319916646269126, 1.3748929609033966, 2.1435988639118086, 0.0, 0.621787806329081, 1.025443554621312, 0.9537040788534789, 0.0, 0.7987893282444692, 0.0, 1.384762561475093, 1.5544229225732566, 1.3398063799645887, 1.221527312008679, 0.762005345832527, 0.558629064439829, ...)   \n",
       "\n",
       "   label  \n",
       "0      0  \n",
       "1      0  \n",
       "2      0  "
      ]
     },
     "execution_count": 62,
     "metadata": {},
     "output_type": "execute_result"
    }
   ],
   "source": [
    "#for tfidf dataset\n",
    "features_list = TFIDFfeaturizedData.columns\n",
    "features_list.remove('fraudulent1')\n",
    "\n",
    "# Create your vector assembler object\n",
    "assembler = VectorAssembler(inputCols=features_list,outputCol='features',handleInvalid=\"skip\")\n",
    "output_tfidf = assembler.transform(TFIDFfeaturizedData).select('features','fraudulent1')\n",
    "\n",
    "output_tfidf = output_tfidf.withColumnRenamed('fraudulent1','label')\n",
    "output_tfidf.name = 'tfidf'\n",
    "output_tfidf.limit(3).toPandas()"
   ]
  },
  {
   "cell_type": "code",
   "execution_count": 63,
   "metadata": {},
   "outputs": [
    {
     "data": {
      "text/html": [
       "<div>\n",
       "<style scoped>\n",
       "    .dataframe tbody tr th:only-of-type {\n",
       "        vertical-align: middle;\n",
       "    }\n",
       "\n",
       "    .dataframe tbody tr th {\n",
       "        vertical-align: top;\n",
       "    }\n",
       "\n",
       "    .dataframe thead th {\n",
       "        text-align: right;\n",
       "    }\n",
       "</style>\n",
       "<table border=\"1\" class=\"dataframe\">\n",
       "  <thead>\n",
       "    <tr style=\"text-align: right;\">\n",
       "      <th></th>\n",
       "      <th>features</th>\n",
       "      <th>label</th>\n",
       "    </tr>\n",
       "  </thead>\n",
       "  <tbody>\n",
       "    <tr>\n",
       "      <th>0</th>\n",
       "      <td>[0.0, 1.0, 0.0, 1.0, 0.0, 0.5938849866325313, 0.31394627216468474, 0.594669685839558, 0.24351221495283287, 0.41688990325425856, 0.3949858217777207, 0.3925060384878866, 0.34471420262940267, 0.27259337839238384, 0.6389375600462016, 0.42664604919089694, 0.7414088181486949, 0.8237246426849907, 0.4828342812984385, 0.34483377183585395, 0.3832848011107217, 0.5665807784903685, 0.3191296196720339, 0.46690713155779584, 0.6301159056496086]</td>\n",
       "      <td>0</td>\n",
       "    </tr>\n",
       "    <tr>\n",
       "      <th>1</th>\n",
       "      <td>[0.0, 1.0, 0.0, 0.0, 6.0, 0.47400191609691034, 0.3964122989606692, 0.6435826036577118, 0.302910470271507, 0.3471509405930398, 0.39934470980149117, 0.38853941088296007, 0.1967346984048519, 0.5194790452139721, 0.5453165554492275, 0.4064482249423874, 0.715136710383798, 0.8521189722909471, 0.41835198845595584, 0.341916719094687, 0.4069349089677808, 0.6179740657221018, 0.32043532968433974, 0.4889262604410459, 0.6250656377405553]</td>\n",
       "      <td>0</td>\n",
       "    </tr>\n",
       "    <tr>\n",
       "      <th>2</th>\n",
       "      <td>[0.0, 1.0, 0.0, 1.0, 0.0, 0.5667715002251741, 0.43237919593240515, 0.6067006880714229, 0.3197604987262238, 0.4949714104866441, 0.25973427111289293, 0.7272436866294264, 0.714207900664917, 0.4087479597348681, 0.11788445304304353, 0.5149665676111005, 0.7540698089556455, 0.673108253446897, 0.4509247071689377, 0.2025246116421931, 0.3993938540149158, 0.5589437107398724, 0.4375731020558867, 0.4901143212943974, 0.5117774668994118]</td>\n",
       "      <td>0</td>\n",
       "    </tr>\n",
       "  </tbody>\n",
       "</table>\n",
       "</div>"
      ],
      "text/plain": [
       "                                                                                                                                                                                                                                                                                                                                                                                                                                           features  \\\n",
       "0  [0.0, 1.0, 0.0, 1.0, 0.0, 0.5938849866325313, 0.31394627216468474, 0.594669685839558, 0.24351221495283287, 0.41688990325425856, 0.3949858217777207, 0.3925060384878866, 0.34471420262940267, 0.27259337839238384, 0.6389375600462016, 0.42664604919089694, 0.7414088181486949, 0.8237246426849907, 0.4828342812984385, 0.34483377183585395, 0.3832848011107217, 0.5665807784903685, 0.3191296196720339, 0.46690713155779584, 0.6301159056496086]   \n",
       "1       [0.0, 1.0, 0.0, 0.0, 6.0, 0.47400191609691034, 0.3964122989606692, 0.6435826036577118, 0.302910470271507, 0.3471509405930398, 0.39934470980149117, 0.38853941088296007, 0.1967346984048519, 0.5194790452139721, 0.5453165554492275, 0.4064482249423874, 0.715136710383798, 0.8521189722909471, 0.41835198845595584, 0.341916719094687, 0.4069349089677808, 0.6179740657221018, 0.32043532968433974, 0.4889262604410459, 0.6250656377405553]   \n",
       "2        [0.0, 1.0, 0.0, 1.0, 0.0, 0.5667715002251741, 0.43237919593240515, 0.6067006880714229, 0.3197604987262238, 0.4949714104866441, 0.25973427111289293, 0.7272436866294264, 0.714207900664917, 0.4087479597348681, 0.11788445304304353, 0.5149665676111005, 0.7540698089556455, 0.673108253446897, 0.4509247071689377, 0.2025246116421931, 0.3993938540149158, 0.5589437107398724, 0.4375731020558867, 0.4901143212943974, 0.5117774668994118]   \n",
       "\n",
       "   label  \n",
       "0      0  \n",
       "1      0  \n",
       "2      0  "
      ]
     },
     "execution_count": 63,
     "metadata": {},
     "output_type": "execute_result"
    }
   ],
   "source": [
    "#for w2v\n",
    "features_list = W2VfeaturizedData.columns\n",
    "features_list.remove('fraudulent1')\n",
    "\n",
    "# Create your vector assembler object\n",
    "assembler = VectorAssembler(inputCols=features_list,outputCol='features',handleInvalid=\"skip\")\n",
    "output_w2v = assembler.transform(W2VfeaturizedData).select('features','fraudulent1')\n",
    "\n",
    "output_w2v = output_w2v.withColumnRenamed('fraudulent1','label')\n",
    "output_w2v.name = 'w2v'\n",
    "output_w2v.limit(3).toPandas()"
   ]
  },
  {
   "cell_type": "markdown",
   "metadata": {},
   "source": [
    "## Training "
   ]
  },
  {
   "cell_type": "markdown",
   "metadata": {},
   "source": [
    "After preparing our data for the model, we will try different models and parameters to find the best one for classification of our label, on the 3 datasets which were encoded by different ways."
   ]
  },
  {
   "cell_type": "code",
   "execution_count": 64,
   "metadata": {},
   "outputs": [],
   "source": [
    "def ClassTrainEval(classifier,features,classes,train,test):\n",
    "\n",
    "    def FindMtype(classifier):\n",
    "        # Intstantiate Model\n",
    "        M = classifier\n",
    "        # Learn what it is\n",
    "        Mtype = type(M).__name__\n",
    "        \n",
    "        return Mtype\n",
    "    \n",
    "    Mtype = FindMtype(classifier)\n",
    "    \n",
    "\n",
    "    def IntanceFitModel(Mtype,classifier,classes,features,train):\n",
    "        \n",
    "        if Mtype == \"OneVsRest\":\n",
    "            # instantiate the base classifier.\n",
    "            lr = LogisticRegression()\n",
    "            # instantiate the One Vs Rest Classifier.\n",
    "            OVRclassifier = OneVsRest(classifier=lr)\n",
    "#             fitModel = OVRclassifier.fit(train)\n",
    "            # Add parameters of your choice here:\n",
    "            paramGrid = ParamGridBuilder() \\\n",
    "                .addGrid(lr.regParam, [0.1, 0.01]) \\\n",
    "                .build()\n",
    "            #Cross Validator requires the following parameters:\n",
    "            crossval = CrossValidator(estimator=OVRclassifier,\n",
    "                                      estimatorParamMaps=paramGrid,\n",
    "                                      evaluator=MulticlassClassificationEvaluator(),\n",
    "                                      numFolds=2) # 3 is best practice\n",
    "            # Run cross-validation, and choose the best set of parameters.\n",
    "            fitModel = crossval.fit(train)\n",
    "            return fitModel\n",
    "        if Mtype == \"MultilayerPerceptronClassifier\":\n",
    "            # specify layers for the neural network:\n",
    "            # input layer of size features, two intermediate of features+1 and same size as features\n",
    "            # and output of size number of classes\n",
    "            # Note: crossvalidator cannot be used here\n",
    "            features_count = len(features[0][0])\n",
    "            layers = [features_count, features_count+1, features_count, classes]\n",
    "            MPC_classifier = MultilayerPerceptronClassifier(maxIter=100, layers=layers, blockSize=128, seed=1234)\n",
    "            fitModel = MPC_classifier.fit(train)\n",
    "            return fitModel\n",
    "        if Mtype in(\"LinearSVC\",\"GBTClassifier\") and classes != 2: # These classifiers currently only accept binary classification\n",
    "            print(Mtype,\" could not be used because PySpark currently only accepts binary classification data for this algorithm\")\n",
    "            return\n",
    "        if Mtype in(\"LogisticRegression\",\"NaiveBayes\",\"RandomForestClassifier\",\"GBTClassifier\",\"LinearSVC\",\"DecisionTreeClassifier\"):\n",
    "  \n",
    "            # Add parameters of your choice here:\n",
    "            if Mtype in(\"LogisticRegression\"):\n",
    "                paramGrid = (ParamGridBuilder() \\\n",
    "#                              .addGrid(classifier.regParam, [0.1, 0.01]) \\\n",
    "                             .addGrid(classifier.maxIter, [10, 15,20])\n",
    "                             .build())\n",
    "                \n",
    "            # Add parameters of your choice here:\n",
    "            if Mtype in(\"NaiveBayes\"):\n",
    "                paramGrid = (ParamGridBuilder() \\\n",
    "                             .addGrid(classifier.smoothing, [0.0, 0.2, 0.4, 0.6]) \\\n",
    "                             .build())\n",
    "                \n",
    "            # Add parameters of your choice here:\n",
    "            if Mtype in(\"RandomForestClassifier\"):\n",
    "                paramGrid = (ParamGridBuilder() \\\n",
    "                               .addGrid(classifier.maxDepth, [2, 5, 10])\n",
    "#                                .addGrid(classifier.maxBins, [5, 10, 20])\n",
    "#                                .addGrid(classifier.numTrees, [5, 20, 50])\n",
    "                             .build())\n",
    "                \n",
    "            # Add parameters of your choice here:\n",
    "            if Mtype in(\"GBTClassifier\"):\n",
    "                paramGrid = (ParamGridBuilder() \\\n",
    "#                              .addGrid(classifier.maxDepth, [2, 5, 10, 20, 30]) \\\n",
    "#                              .addGrid(classifier.maxBins, [10, 20, 40, 80, 100]) \\\n",
    "                             .addGrid(classifier.maxIter, [10, 15,50,100])\n",
    "                             .build())\n",
    "                \n",
    "            # Add parameters of your choice here:\n",
    "            if Mtype in(\"LinearSVC\"):\n",
    "                paramGrid = (ParamGridBuilder() \\\n",
    "                             .addGrid(classifier.maxIter, [10, 15]) \\\n",
    "                             .addGrid(classifier.regParam, [0.1, 0.01]) \\\n",
    "                             .build())\n",
    "            \n",
    "            # Add parameters of your choice here:\n",
    "            if Mtype in(\"DecisionTreeClassifier\"):\n",
    "                paramGrid = (ParamGridBuilder() \\\n",
    "#                              .addGrid(classifier.maxDepth, [2, 5, 10, 20, 30]) \\\n",
    "                             .addGrid(classifier.maxBins, [99, 100]) \\\n",
    "                             .build())\n",
    "            \n",
    "            #Cross Validator requires all of the following parameters:\n",
    "            crossval = CrossValidator(estimator=classifier,\n",
    "                                      estimatorParamMaps=paramGrid,\n",
    "                                      evaluator=MulticlassClassificationEvaluator(),\n",
    "                                      numFolds=2) # 3 + is best practice\n",
    "            # Fit Model: Run cross-validation, and choose the best set of parameters.\n",
    "            fitModel = crossval.fit(train)\n",
    "            return fitModel\n",
    "    \n",
    "    fitModel = IntanceFitModel(Mtype,classifier,classes,features,train)\n",
    "    \n",
    "    # Print feature selection metrics\n",
    "    if fitModel is not None:\n",
    "        \n",
    "        if Mtype in(\"OneVsRest\"):\n",
    "            # Get Best Model\n",
    "            BestModel = fitModel.bestModel\n",
    "            print(\" \")\n",
    "            print('\\033[1m' + Mtype + '\\033[0m')\n",
    "            # Extract list of binary models\n",
    "            models = BestModel.models\n",
    "            for model in models:\n",
    "                print('\\033[1m' + 'Intercept: '+ '\\033[0m',model.intercept,'\\033[1m' + '\\nCoefficients:'+ '\\033[0m',model.coefficients)\n",
    "\n",
    "        if Mtype == \"MultilayerPerceptronClassifier\":\n",
    "            print(\"\")\n",
    "            print('\\033[1m' + Mtype,\" Weights\"+ '\\033[0m')\n",
    "            print('\\033[1m' + \"Model Weights: \"+ '\\033[0m',fitModel.weights.size)\n",
    "            print(\"\")\n",
    "\n",
    "        if Mtype in(\"DecisionTreeClassifier\", \"GBTClassifier\",\"RandomForestClassifier\"):\n",
    "            # FEATURE IMPORTANCES\n",
    "            # Estimate of the importance of each feature.\n",
    "            # Each feature’s importance is the average of its importance across all trees \n",
    "            # in the ensemble The importance vector is normalized to sum to 1. \n",
    "            # Get Best Model\n",
    "            BestModel = fitModel.bestModel\n",
    "            print(\" \")\n",
    "            print('\\033[1m' + Mtype,\" Feature Importances\"+ '\\033[0m')\n",
    "            print(\"(Scores add up to 1)\")\n",
    "            print(\"Lowest score is the least important\")\n",
    "            print(\" \")\n",
    "            print(BestModel.featureImportances)\n",
    "            \n",
    "            if Mtype in(\"DecisionTreeClassifier\"):\n",
    "                global DT_featureimportances\n",
    "                DT_featureimportances = BestModel.featureImportances.toArray()\n",
    "                global DT_BestModel\n",
    "                DT_BestModel = BestModel\n",
    "            if Mtype in(\"GBTClassifier\"):\n",
    "                global GBT_featureimportances\n",
    "                GBT_featureimportances = BestModel.featureImportances.toArray()\n",
    "                global GBT_BestModel\n",
    "                GBT_BestModel = BestModel\n",
    "            if Mtype in(\"RandomForestClassifier\"):\n",
    "                global RF_featureimportances\n",
    "                RF_featureimportances = BestModel.featureImportances.toArray()\n",
    "                global RF_BestModel\n",
    "                RF_BestModel = BestModel\n",
    "\n",
    "        if Mtype in(\"LogisticRegression\"):\n",
    "            # Get Best Model\n",
    "            BestModel = fitModel.bestModel\n",
    "            print(\" \")\n",
    "            print('\\033[1m' + Mtype,\" Coefficient Matrix\"+ '\\033[0m')\n",
    "            print(\"You should compares these relative to eachother\")\n",
    "            print(\"Coefficients: \\n\" + str(BestModel.coefficientMatrix))\n",
    "            print(\"Intercept: \" + str(BestModel.interceptVector))\n",
    "            global LR_coefficients\n",
    "            LR_coefficients = BestModel.coefficientMatrix.toArray()\n",
    "            global LR_BestModel\n",
    "            LR_BestModel = BestModel\n",
    "\n",
    "        if Mtype in(\"LinearSVC\"):\n",
    "            # Get Best Model\n",
    "            BestModel = fitModel.bestModel\n",
    "            print(\" \")\n",
    "            print('\\033[1m' + Mtype,\" Coefficients\"+ '\\033[0m')\n",
    "            print(\"You should compares these relative to eachother\")\n",
    "            print(\"Coefficients: \\n\" + str(BestModel.coefficients))\n",
    "            global LSVC_coefficients\n",
    "            LSVC_coefficients = BestModel.coefficients.toArray()\n",
    "            global LSVC_BestModel\n",
    "            LSVC_BestModel = BestModel\n",
    "        \n",
    "   \n",
    "    # Set the column names to match the external results dataframe that we will join with later:\n",
    "    columns = ['Classifier', 'Result']\n",
    "    \n",
    "    if Mtype in(\"LinearSVC\",\"GBTClassifier\") and classes != 2:\n",
    "        Mtype = [Mtype] # make this a list\n",
    "        score = [\"N/A\"]\n",
    "        result = spark.createDataFrame(zip(Mtype,score), schema=columns)\n",
    "    else:\n",
    "        predictions = fitModel.transform(test)\n",
    "        MC_evaluator = MulticlassClassificationEvaluator(metricName=\"accuracy\") # redictionCol=\"prediction\",\n",
    "        accuracy = (MC_evaluator.evaluate(predictions))*100\n",
    "        Mtype = [Mtype] # make this a string\n",
    "        score = [str(accuracy)] #make this a string and convert to a list\n",
    "        result = spark.createDataFrame(zip(Mtype,score), schema=columns)\n",
    "        result = result.withColumn('Result',result.Result.substr(0, 5))\n",
    "        \n",
    "    return result\n",
    "    #Also returns the fit model important scores or p values"
   ]
  },
  {
   "cell_type": "code",
   "execution_count": 71,
   "metadata": {},
   "outputs": [],
   "source": [
    "classifiers = [\n",
    "                LogisticRegression()\n",
    "                ,OneVsRest()\n",
    "               ,LinearSVC()\n",
    "               ,NaiveBayes()\n",
    "               ,MultilayerPerceptronClassifier()\n",
    "              ] \n",
    "\n",
    "featureDF_list = [output_tf,output_tfidf,output_w2v]"
   ]
  },
  {
   "cell_type": "code",
   "execution_count": 72,
   "metadata": {},
   "outputs": [
    {
     "name": "stdout",
     "output_type": "stream",
     "text": [
      "\u001b[1mtf  Results:\u001b[0m\n",
      " \n",
      "\u001b[1mLogisticRegression  Coefficient Matrix\u001b[0m\n",
      "You should compares these relative to eachother\n",
      "Coefficients: \n",
      "DenseMatrix([[ 1.09894541e-01, -2.45507097e+00, -6.10700759e-01,\n",
      "              -1.38285757e-02, -1.27960008e-02,  4.95890121e-01,\n",
      "               5.04311905e-01,  3.03284933e-01,  2.05625123e-02,\n",
      "              -3.09914050e-01,  2.27942795e-02, -6.75220216e-01,\n",
      "               4.76626693e-01, -2.52758553e-01, -2.30759433e-01,\n",
      "              -4.49558788e-01, -8.09215981e-02,  6.41269127e-01,\n",
      "               8.61154494e-01, -2.99556239e-01,  5.25510280e-01,\n",
      "               1.20917135e-01, -2.64486306e-01,  9.22015315e-01,\n",
      "              -2.52950270e-02, -2.94457935e-01, -1.16246280e+00,\n",
      "               7.63184468e-02,  3.72905958e-02,  4.84385345e-01,\n",
      "              -2.98578181e-02, -1.32286832e-01,  2.32450833e-01,\n",
      "               6.26355655e-01, -3.01285945e-01,  5.14480397e-01,\n",
      "              -8.41828190e-01,  3.73322618e-01, -4.40794759e-01,\n",
      "              -2.52205724e-01,  1.39636581e-01,  1.04878320e+00,\n",
      "               2.02913619e-01,  1.09695689e+00, -1.56735173e-01,\n",
      "              -3.78914050e-01, -7.67677528e-01, -2.54960460e-01,\n",
      "              -2.20314905e-01, -3.21222254e-01,  2.30481186e-01,\n",
      "              -2.42273166e-01,  1.80675373e-01,  7.35979835e-01,\n",
      "              -1.14090347e+00, -4.35300878e-01,  2.98379794e-01,\n",
      "               4.91599642e-01,  3.11263750e-01, -2.40346948e-01,\n",
      "               2.57326755e-01,  2.00622952e-01,  1.98759828e-02,\n",
      "              -5.97835357e-02, -4.78442032e-01, -8.69958126e-02,\n",
      "              -1.80143797e-01, -8.05595785e-02, -7.58778616e-02,\n",
      "               1.16811641e-01, -6.90273749e-02, -4.76626522e-01,\n",
      "              -2.38430297e-01, -1.73407532e-01, -1.67417145e-01,\n",
      "              -2.00870380e-01,  1.98185333e-01,  1.65981954e-02,\n",
      "               4.08399010e-02, -2.56437805e-02, -3.86133985e-01,\n",
      "              -1.38118211e-01, -3.45830008e-01, -2.57420875e-02,\n",
      "               3.56795085e-01,  1.47118752e-01, -3.79687496e-01,\n",
      "               1.27801718e-01,  5.03907467e-02,  1.13694613e-01,\n",
      "               4.61106369e-01,  2.30841915e-01, -1.51971332e-01,\n",
      "               2.37049877e-01, -4.35749467e-01,  1.50613215e-02,\n",
      "              -2.10885379e-01,  1.03664096e-01, -1.54520037e-01,\n",
      "              -1.69245594e-01, -5.66955043e-02, -2.44435264e-01,\n",
      "              -4.08965693e-02, -8.81218757e-02,  3.83730381e-01,\n",
      "              -2.83607109e-02, -7.65745689e-02, -1.18237630e-01,\n",
      "               9.50952666e-02,  1.14564353e-01, -3.44360530e-02,\n",
      "               1.43703767e-01,  3.56426476e-02, -4.88819988e-02,\n",
      "              -9.69593977e-02,  1.10212063e-01,  4.07396948e-02,\n",
      "              -5.39620336e-02,  6.99077284e-02, -2.42985074e-01,\n",
      "               1.02115604e-01, -2.75374330e-02, -4.68929738e-02,\n",
      "              -6.17941146e-02,  6.83807694e-03, -1.17360597e-01,\n",
      "              -3.56152911e-02, -6.52013208e-02, -9.03049694e-02,\n",
      "              -3.02122805e-02,  1.05179133e-01,  2.89221386e-02,\n",
      "               9.45852393e-02, -6.23954262e-02, -6.80996674e-02,\n",
      "              -2.22570379e-02, -1.30863444e-02,  3.62743383e-02,\n",
      "              -5.77090859e-02, -4.92995856e-03, -7.93276443e-02,\n",
      "               2.15572792e-01, -1.20799307e-01, -2.31837033e-01,\n",
      "               8.78711428e-02,  6.32043934e-02,  7.08380826e-02,\n",
      "               6.44216967e-02, -8.52990262e-02,  9.82010354e-02,\n",
      "               8.14062915e-02,  4.04423715e-02, -1.35221290e-02,\n",
      "               1.92509707e-02,  3.19200189e-02, -2.48750462e-01,\n",
      "               2.54849372e-01, -8.56671020e-02,  1.07911177e-01,\n",
      "              -1.95423737e-03, -1.99113927e-01, -1.67803105e-01,\n",
      "              -7.83210664e-02, -2.58374552e-01,  7.69020915e-02,\n",
      "              -6.78213447e-02, -5.08993102e-02,  1.32065662e-01,\n",
      "              -3.47868076e-02,  3.04410125e-03,  1.35347638e-01,\n",
      "               1.44521749e-01, -2.29393055e-01,  1.64565065e-01,\n",
      "               2.30016244e-01, -1.08821457e-02, -3.21248138e-03,\n",
      "              -2.28977565e-02,  7.05778405e-02, -1.62657846e-02,\n",
      "              -3.03564245e-01,  1.07952567e-01,  5.08138109e-02,\n",
      "              -2.84949508e-01,  2.60992749e-01, -6.34401864e-02,\n",
      "               1.26906214e-01,  8.71930134e-02,  3.10189533e-03,\n",
      "              -1.23585754e-01, -5.82398213e-03, -9.47368796e-02,\n",
      "              -1.73476455e-01, -2.31158286e-01,  1.66611357e-02,\n",
      "               1.30969191e-01, -1.20968739e-01, -8.18030488e-02,\n",
      "              -1.78596153e-01,  1.95927449e-01,  2.15725381e-01,\n",
      "               2.23088553e-02,  1.04312966e-01, -2.43986396e-01,\n",
      "              -6.73647642e-02]])\n",
      "Intercept: [-1.6403811255567824]\n",
      " \n",
      "\u001b[1mOneVsRest\u001b[0m\n",
      "\u001b[1mIntercept: \u001b[0m 1.6774166226594236 \u001b[1m\n",
      "Coefficients:\u001b[0m [-0.20637461740540117,1.2633549991424182,0.35974350637912034,-0.010828352584082745,0.008368463351728065,-0.3404881876926367,-0.4002489887327117,-0.26764839842008054,-0.05804683753976545,0.25887184405970837,-0.039112555898327836,0.3282758153145444,-0.28344722081373225,0.527471491237633,0.14613908832127567,0.15388397041766444,0.05280037093288892,-0.645673211097194,-0.40245377995714127,0.13926512711428646,-0.37965351394314345,-0.12334573942745813,0.21939973538830482,-0.594754629909901,-0.1294525115870056,0.2282601035300677,0.6248659580453401,0.11841654955359548,0.11389547419809448,-0.2456860196076523,-0.04911308642915897,0.1427849173356397,-0.03379276063582126,-0.25773951836077086,0.30069000610590024,-0.2035513588899651,0.4905159759454961,-0.10069284521858085,0.25009520894044374,0.1458001820560036,0.0283726506690709,-0.8245809910013933,-0.0075690043409548866,-0.6527848386011416,0.01994530262440947,0.3218084262138388,0.1978737710853166,0.07578346673296806,0.20404794748493546,0.03953834328988193,-0.2622252617929562,0.012730507841728137,-0.035032425674759914,-0.48885139241774517,0.5740300747753212,0.20001529869227241,-0.07885377933679719,-0.19283325479603888,-0.1785659422565555,0.08972327048220119,-0.09944755414840455,-0.04206230508403915,-0.0019023916675145291,0.04153783131418829,0.1783682111275677,0.03216586701495738,0.08941112748313003,0.06177756746711636,0.05887879171322718,-0.01048346805083906,0.04053028028085436,0.1843780227251679,0.06114482297830344,0.07258642133730511,0.09523626438193218,0.08619383802721037,-0.09650199754409278,-0.016410291100321873,-0.04089566100091539,0.012659884990845839,0.1634289422928796,0.051867800382523394,0.15817411267559792,0.009507817281394985,-0.23139149962171088,-0.03622320064594297,0.16981605555435353,-0.032236441869261806,-0.0322981747881595,-0.010300888779268293,-0.1747074710112686,-0.08102185874937332,0.06873457292253068,-0.050299463945972844,0.17397063547538513,0.021719444032463765,0.08223307264038342,-0.02028637659096979,0.05611619620968688,0.0725826547557201,0.055907247695103586,0.10620596761659656,0.04497137225833977,0.027550370536990186,-0.18280372584106183,0.009189352208996656,0.03778740579997911,0.03106637350864143,-0.04536060967274966,-0.03805055971282908,0.03289002150240668,-0.057158154686704744,-0.015673644724886453,0.020008177737327097,0.05565913716304543,-0.04136020446508006,-0.015671036464244687,0.032327174511409075,-0.018815667378148132,0.10365946196022109,-0.06688571132165658,0.03503808404866029,0.02166507886569697,0.012735254029307001,0.008306921928359771,0.05071803160530765,0.028241140650306994,0.04147535966348095,0.03350632052002588,0.023651028332430553,-0.03058176743281247,-0.025614250193904592,-0.0660581591531439,0.013075043139969303,0.0216846182608007,-0.010552677437454893,0.031157961630576526,-0.008788478787933414,0.01055523203424124,-0.007331424545643786,0.03460779299118987,-0.1138349516723254,0.052623561143390805,0.09673796389805152,-0.042213146183596055,-0.022881324460284715,-0.010699139584354398,-0.024381743439615897,0.03765036460688661,-0.03986637359516865,-0.04794001584359757,-0.028186986447289397,0.012051721217568373,-0.02546012838712251,-0.01587849169097805,0.08011756088870846,-0.08671614531877665,0.01426506095039629,-0.04572834196624652,0.02307577719020194,0.07710950793089959,0.048221205429098024,0.03368431717276784,0.075177424769957,-0.011789031099739604,0.03811015397604562,0.009590433545351208,-0.029994506036361057,0.01662255491559996,0.009800247023249881,-0.06668676569431346,-0.03405677281653692,0.09588872037215554,-0.06169035418131472,-0.12189721561033494,0.012231933329234593,0.02369728119021091,0.02988625388672999,-0.02751598277719218,0.015079696801579036,0.10007869766093996,-0.05674671646087438,-0.028526339079097022,0.09756453579942145,-0.08845492511551374,0.01295938950679418,-0.048364082636708945,-0.01607063196852226,0.0016463922934153439,0.051340966360000656,0.0028410667169619045,0.002019508895534698,0.07490174567938244,0.10552060193836486,-0.0011419768894295197,-0.050968222136624185,0.04650463694822459,0.03568194725424864,0.08936937364227579,-0.09712885835730879,-0.09306949269104599,-0.0169912592590768,-0.030142664935672997,0.07578749629835581,0.043765650727113435]\n",
      "\u001b[1mIntercept: \u001b[0m -1.6774166226620961 \u001b[1m\n",
      "Coefficients:\u001b[0m [0.20637461741020738,-1.2633549991408553,-0.35974350637981145,0.010828352585232499,-0.008368463351625601,0.3404881876954789,0.40024898873180836,0.26764839842069627,0.058046837541355076,-0.258871844055995,0.039112555895715516,-0.32827581531508004,0.2834472208139408,-0.5274714912354457,-0.146139088319802,-0.15388397041657675,-0.05280037093361475,0.6456732110923926,0.40245377995838155,-0.1392651271126512,0.37965351394196617,0.12334573942782484,-0.21939973538942067,0.5947546299110512,0.129452511582334,-0.22826010353076182,-0.6248659580418378,-0.11841654955263381,-0.11389547419898462,0.2456860196065322,0.049113086428322655,-0.14278491733916399,0.03379276063653661,0.25773951836079423,-0.3006900061058404,0.2035513588933983,-0.4905159759462803,0.10069284521629317,-0.2500952089425463,-0.14580018205199255,-0.028372650670278093,0.8245809909999485,0.007569004342088213,0.6527848385996071,-0.019945302624688275,-0.3218084262130947,-0.1978737710880929,-0.07578346673116966,-0.20404794748126331,-0.03953834329075551,0.26222526179300665,-0.012730507843420476,0.03503242567398492,0.48885139241303477,-0.5740300747734923,-0.20001529869120332,0.07885377933665391,0.192833254796212,0.1785659422571466,-0.0897232704831341,0.09944755414784681,0.04206230508362193,0.0019023916680302522,-0.041537831314121844,-0.17836821112741363,-0.03216586701518104,-0.08941112748235362,-0.061777567466541956,-0.058878791713780444,0.01048346805035971,-0.04053028028135728,-0.18437802272583378,-0.06114482297847736,-0.07258642133705324,-0.09523626438165574,-0.08619383802675876,0.09650199754431002,0.016410291101309208,0.040895661001276416,-0.01265988499052898,-0.16342894229247348,-0.05186780038224283,-0.1581741126756423,-0.00950781728213921,0.2313914996223592,0.036223200645829914,-0.16981605555421952,0.03223644186957502,0.032298174788303276,0.01030088877915928,0.17470747101143902,0.0810218587487226,-0.06873457292302393,0.05029946394607597,-0.1739706354761684,-0.0217194440322925,-0.08223307264057805,0.020286376591132874,-0.056116196209906016,-0.07258265475571943,-0.05590724769566364,-0.10620596761662633,-0.04497137225822276,-0.027550370537062028,0.18280372584096236,-0.009189352209101402,-0.03778740580016343,-0.03106637350888115,0.045360609672863546,0.03805055971316832,-0.03289002150258871,0.05715815468699608,0.015673644724741028,-0.02000817773743108,-0.055659137163244964,0.04136020446515966,0.01567103646434666,-0.03232717451164126,0.018815667378045575,-0.10365946196031706,0.06688571132139298,-0.03503808404887018,-0.02166507886585655,-0.012735254029371418,-0.008306921928333716,-0.05071803160539633,-0.028241140650132404,-0.041475359663615284,-0.03350632052013862,-0.02365102833225108,0.03058176743292114,0.02561425019377573,0.06605815915281386,-0.013075043140154018,-0.021684618260729954,0.010552677437658288,-0.03115796163058218,0.008788478787823756,-0.010555232034037803,0.007331424545774556,-0.03460779299121115,0.1138349516724622,-0.0526235611433389,-0.09673796389834985,0.04221314618354797,0.022881324460328926,0.010699139584590168,0.02438174343968952,-0.037650364606860054,0.03986637359513751,0.04794001584384467,0.028186986447577746,-0.012051721217374278,0.025460128387054963,0.015878491690806913,-0.0801175608887602,0.08671614531893775,-0.014265060950448943,0.045728341966093815,-0.023075777190618714,-0.07710950793044785,-0.048221205428802344,-0.03368431717270965,-0.0751774247702852,0.011789031099674383,-0.038110153976249644,-0.009590433545139334,0.029994506036868426,-0.016622554915415158,-0.00980024702330669,0.06668676569421497,0.03405677281676553,-0.09588872037227454,0.06169035418145635,0.12189721561033806,-0.012231933329158545,-0.0236972811902559,-0.02988625388621031,0.027515982776855415,-0.015079696801261437,-0.10007869766095547,0.05674671646149615,0.028526339079334884,-0.0975645357994488,0.08845492511557085,-0.012959389506413526,0.04836408263669328,0.0160706319682289,-0.0016463922935155,-0.05134096635985244,-0.0028410667171044064,-0.0020195088961271505,-0.07490174567972557,-0.10552060193857302,0.0011419768888069712,0.050968222136625316,-0.04650463694852411,-0.03568194725442293,-0.089369373641955,0.09712885835733132,0.09306949269136536,0.016991259259419505,0.03014266493546136,-0.07578749629793645,-0.04376565072639413]\n",
      " \n",
      "\u001b[1mLinearSVC  Coefficients\u001b[0m\n",
      "You should compares these relative to eachother\n",
      "Coefficients: \n",
      "[0.053368316050574655,-0.17359505740678807,-0.038562324363307345,0.012440508358510495,-0.0015391124032708482,0.08446778679693537,0.11775965335637696,0.07368248568170398,0.0060003772145078476,-0.06663122801753935,-0.029904864197685975,-0.043834607062359386,0.026648413591540403,-0.15706158211551177,-0.03354222588500618,0.03864931429482457,0.0,0.22524541184118452,0.04414751282847803,0.006712213614225569,0.1089681885543649,0.03573132170056234,-0.04198430208989351,0.1073073513532404,0.016930396233264013,-0.05612073991313614,-0.10397315124476487,-0.0343597736884614,-0.035754130374955985,0.08200015354265891,0.04038717855317053,-0.01853621928451043,-0.004347230878890419,0.02700239490635081,-0.04918918118416378,0.0197265392764043,-0.08740028989592359,0.0043916145185506645,-0.06984015745366959,-0.02389188908986395,-0.047627425759669446,0.1900425396294725,-0.033445161060714226,0.11064148427766277,0.028554134742948937,-0.05350580295677276,-0.013468151957167914,-0.015251761967250067,-0.031051460579007345,-0.0,0.1188074138880889,-0.010830544413745737,-0.002703635734267176,0.11643429391260628,-0.11439544619082914,-0.00762496551335934,0.0016432316305088515,0.01862107115269351,0.017698681448290787,-0.00397178722848726,0.0019182380498601896,-0.0016572036809161257,-0.0013775672172653285,-0.000714475139658286,-0.007371555109173462,-0.0009983590265435628,-0.003038181055055455,-0.0022676431152630024,-0.0018474354087134217,0.0,-0.001456953841439505,-0.019163905242181346,-8.363858090084387e-05,-0.002432669158242025,-0.027660930666615863,-0.001485380902437543,0.003684536962598019,-0.006650094355438941,0.0009031676646054808,-0.0014569280826424301,-0.003245490113489209,-0.002560724156219588,-0.0035154929001420254,-0.00016738458317753244,0.031455839238015045,0.0,-0.03241298548823798,0.0014519589125758737,0.0007514055219494856,-0.0010022941855875244,0.011731932179552405,0.0013173762324110844,-0.0014681761223376605,-0.00162514381024237,-0.013356874154879916,-0.001604012402300242,-0.0017181224747771053,-0.0007858365530496543,-0.0017818124667330368,-0.003448723399847509,-0.005185364066979251,-0.005290439438754967,-0.0020315486320287277,-0.00013113672844922072,0.023867389051786154,-0.0017560625261458865,-0.006265002260762315,-0.0,0.005568959681773613,0.004048034091754366,-0.00590340326946444,0.007615891688125288,0.0029625123567224598,-0.0052503313288695605,-0.01143734604834259,0.006264691110509424,0.0008010935060547239,-0.0061648128049942045,-0.0003284620748440488,-0.014450212637734407,0.015340893352737557,-0.008836437975445649,-0.0028210065179438758,-0.0004729993361860321,-0.004609884443838764,-0.007504199474585791,-0.006263506953775981,-0.007582637499577743,-0.003863939704690916,-0.006187176399962983,0.004270155220474557,0.0110952668981206,0.01466556554747674,0.0005516762342937098,-0.0,-0.0013134860617428075,-0.006306373307816648,-0.0012624539747004846,-0.00087306025200595,0.0010161314417099397,-0.00552549509542816,0.02204869415589266,-0.00876373963064792,-0.0169440771500626,0.00578472806253086,0.0014289918025562382,-0.004090848794694547,0.0027427088028781476,-0.0052086963187331315,0.006927383378358458,0.007585685678467032,0.006666088105199802,-0.003265624646165246,0.00765369345357273,0.003752049747171414,-0.005361183705539189,0.012401996127775398,0.0009564081201993153,0.001416525098219808,-0.0015390973043588466,-0.0023461700988164393,-0.00900945032717713,-0.0040768739671869225,-0.002125835882136271,0.0,-0.010216105528771715,-9.055599779090565e-05,-0.00039606703323113215,0.0006059042973398406,-0.0010843821589838533,0.0029279245386334995,0.0013852771866725484,-0.008937932763163318,0.011594496375547424,0.011271561305611189,-0.001514136147576287,-0.0020336158675759754,-0.014884628992727831,0.000630147454130878,-0.0006956865931174695,-0.014736183209567414,0.0035907751992773117,0.004610196356101389,-0.009867761786044092,0.008332001283168647,-0.0027001113397253523,0.0048772443529592445,0.0007882184755440757,-0.0011299348418559727,-0.002261812010244008,-0.00026536059182205216,0.006360036814668879,-0.004496977954074933,-0.015124223045853575,-0.0011349904671213121,0.004144789384082145,-0.009310527730400217,-0.0028879179999623927,-0.005070211467999916,0.010197704241579526,0.005527833463884214,0.0006334986006736936,-0.0008590525315502131,-0.011221958657809766,-0.002232580400764993]\n",
      "\n",
      "\u001b[1mMultilayerPerceptronClassifier  Weights\u001b[0m\n",
      "\u001b[1mModel Weights: \u001b[0m 85283\n",
      "\n",
      "+------------------------------+------+\n",
      "|Classifier                    |Result|\n",
      "+------------------------------+------+\n",
      "|LogisticRegression            |95.61 |\n",
      "|OneVsRest                     |95.53 |\n",
      "|LinearSVC                     |94.59 |\n",
      "|NaiveBayes                    |74.22 |\n",
      "|MultilayerPerceptronClassifier|96.84 |\n",
      "+------------------------------+------+\n",
      "\n",
      "None\n",
      "\u001b[1mtfidf  Results:\u001b[0m\n",
      " \n",
      "\u001b[1mLogisticRegression  Coefficient Matrix\u001b[0m\n",
      "You should compares these relative to eachother\n",
      "Coefficients: \n",
      "DenseMatrix([[ 1.09894541e-01, -2.45507097e+00, -6.10700759e-01,\n",
      "              -1.38285757e-02, -1.27960008e-02,  1.49774105e-01,\n",
      "               1.65514124e-01,  1.97592553e-01,  8.41824647e-03,\n",
      "              -9.14702651e-02,  7.04997740e-03, -2.44242656e-01,\n",
      "               1.83474587e-01, -9.58081563e-02, -6.93552918e-02,\n",
      "              -1.72368460e-01, -3.99477171e-02,  1.98519573e-01,\n",
      "               3.82039971e-01, -9.47613664e-02,  1.76427974e-01,\n",
      "               5.50155216e-02, -1.07889085e-01,  3.22304194e-01,\n",
      "              -7.21763394e-03, -1.01026794e-01, -3.76826787e-01,\n",
      "               2.23619156e-02,  1.15813682e-02,  1.96983301e-01,\n",
      "              -9.87478556e-03, -3.90239700e-02,  7.09557721e-02,\n",
      "               1.89086382e-01, -8.02878187e-02,  2.15803396e-01,\n",
      "              -3.16395407e-01,  1.27222333e-01, -1.58634713e-01,\n",
      "              -7.65813272e-02,  5.11053072e-02,  2.93134845e-01,\n",
      "               9.49914495e-02,  4.20591867e-01, -8.22402116e-02,\n",
      "              -1.89653651e-01, -2.65148342e-01, -9.82053158e-02,\n",
      "              -7.18934512e-02, -1.52797560e-01,  9.61063076e-02,\n",
      "              -8.69218299e-02,  6.11043443e-02,  2.32921644e-01,\n",
      "              -4.50478450e-01, -5.26389112e-01,  3.94833062e-01,\n",
      "               7.44665667e-01,  6.08374955e-01, -3.00642408e-01,\n",
      "               3.15055148e-01,  3.21462009e-01,  5.14036348e-02,\n",
      "              -7.94910561e-02, -6.52493006e-01, -2.01035366e-01,\n",
      "              -1.98322786e-01, -1.31759280e-01, -1.63786833e-01,\n",
      "               1.47950744e-01, -9.01673416e-02, -7.01068812e-01,\n",
      "              -3.32452621e-01, -2.68851258e-01, -1.92422580e-01,\n",
      "              -3.49059100e-01,  1.78872777e-01,  4.01423637e-02,\n",
      "               5.76890592e-02, -4.71039615e-02, -5.58164436e-01,\n",
      "              -1.82190359e-01, -4.61748283e-01, -4.10369287e-02,\n",
      "               3.15192325e-01,  2.14007572e-01, -5.31378565e-01,\n",
      "               2.02878219e-01,  8.10417093e-02,  1.10873594e-01,\n",
      "               9.66979967e-01,  2.46177122e-01, -1.90252081e-01,\n",
      "               3.13938406e-01, -6.29349000e-01,  2.90679993e-02,\n",
      "              -3.14799783e-01,  2.54592987e-01, -2.02780778e-01,\n",
      "              -3.02965966e-01, -8.22760604e-02, -3.19189055e-01,\n",
      "              -8.09257180e-02, -9.07759452e-02,  4.36859226e-01,\n",
      "              -7.42277039e-02, -2.44513863e-01, -5.42630514e-01,\n",
      "               4.40418298e-01,  2.78751458e-01, -9.98778879e-02,\n",
      "               3.65316464e-01,  2.56402066e-01, -1.14106977e-01,\n",
      "              -2.29427292e-01,  5.43149752e-01,  9.49196495e-02,\n",
      "              -2.74805565e-01,  3.54326867e-01, -6.62253334e-01,\n",
      "               2.54264257e-01, -8.01979893e-02, -1.61402259e-01,\n",
      "              -2.51436361e-01,  1.19239659e-02, -3.33128886e-01,\n",
      "              -9.96442138e-02, -1.62848625e-01, -4.58711433e-01,\n",
      "              -1.62788647e-01,  2.64380524e-01,  1.12412867e-01,\n",
      "               2.83588679e-01, -2.06642883e-01, -1.14445781e-01,\n",
      "              -7.10699962e-02, -4.00331313e-02,  2.09968905e-01,\n",
      "              -2.33026647e-01, -9.21305463e-03, -3.41610230e-01,\n",
      "               5.11943379e-01, -3.32546396e-01, -6.28079337e-01,\n",
      "               2.89636740e-01,  4.95216627e-01,  2.40615306e-01,\n",
      "               3.86973833e-01, -2.35422187e-01,  3.76320184e-01,\n",
      "               2.19425201e-01,  1.12274727e-01, -5.65059398e-02,\n",
      "               5.73225501e-02,  8.88444023e-02, -2.85534273e-01,\n",
      "               3.43748381e-01, -1.27463020e-01,  1.56359958e-01,\n",
      "              -1.98014086e-03, -2.90831178e-01, -1.84261744e-01,\n",
      "              -1.66126439e-01, -3.11069239e-01,  8.98306266e-02,\n",
      "              -1.13896208e-01, -5.32540667e-02,  1.77896501e-01,\n",
      "              -5.84509239e-02,  4.90264386e-03,  1.59751439e-01,\n",
      "               2.01885917e-01, -2.96981935e-01,  2.52538259e-01,\n",
      "               2.55274630e-01, -1.43046213e-02, -3.68573693e-03,\n",
      "              -3.85780426e-02,  1.07150425e-01, -3.18715581e-02,\n",
      "              -2.87010950e-01,  1.37406452e-01,  7.73721072e-02,\n",
      "              -3.27933560e-01,  2.59042736e-01, -8.22817579e-02,\n",
      "               1.86028736e-01,  2.07908111e-01,  3.77428897e-03,\n",
      "              -1.45797827e-01, -1.76836562e-02, -1.00997974e-01,\n",
      "              -1.98903960e-01, -2.85011809e-01,  1.95633814e-02,\n",
      "               3.67724194e-01, -1.51018566e-01, -1.64756607e-01,\n",
      "              -3.19763348e-01,  2.53949477e-01,  2.60399573e-01,\n",
      "               3.38924687e-02,  1.27381220e-01, -3.35656894e-01,\n",
      "              -9.51089562e-02]])\n",
      "Intercept: [-1.6403811255567753]\n",
      " \n",
      "\u001b[1mOneVsRest\u001b[0m\n",
      "\u001b[1mIntercept: \u001b[0m 1.6774166226621308 \u001b[1m\n",
      "Coefficients:\u001b[0m [-0.20637461741020285,1.2633549991408435,0.3597435063798211,-0.010828352585243724,0.008368463351624764,-0.10283792968242798,-0.13136088993502665,-0.17437506613184214,-0.02376424525040018,0.07640530085136459,-0.012097010352220529,0.11874489997544432,-0.10911130775382873,0.19993812424581545,0.043922447710592755,0.05900172283096935,0.026065405681760696,-0.19988295866570818,-0.1785433757432233,0.044055012077624155,-0.12745992365043812,-0.05612050083896083,0.08949739954398424,-0.20790534440546937,-0.03693772859557842,0.0783147052016452,0.2025580793659553,0.03469699647391654,0.03537260249426253,-0.0999122775148002,-0.01624302202666982,0.04212085403067329,-0.01031526276979337,-0.07780728498395893,0.0801290105891607,-0.08538143480159031,0.18435709747717405,-0.03431449917696971,0.09000511184047572,0.04427168126299816,0.010384048489841573,-0.230470341439334,-0.003543333838338382,-0.25028877284004764,0.010465461460479226,0.1610712060949266,0.06834367351205663,0.029190170431289998,0.06658519606682277,0.018807421715648327,-0.10934298831440857,0.004567402398115971,-0.011847953436046698,-0.15471085544996493,0.2266521103214337,0.24186920093694364,-0.10434379215583461,-0.2921000996595757,-0.3490128451164046,0.11223200611093055,-0.12175750573242398,-0.06739723912724523,-0.00492000057425038,0.05523069249645353,0.24325624077588315,0.0743308978075834,0.09843394065626107,0.10104034750689433,0.1270933391621059,-0.01327810215739076,0.05294287417259008,0.2712011927071791,0.08525660062543994,0.1125380800405483,0.10946075887342258,0.14978188162850853,-0.08709817228269508,-0.03968792150299437,-0.05776782393820367,0.023254400259557377,0.23623982070510324,0.06841829983986569,0.21119227157823595,0.015156953371722445,-0.204410957123633,-0.05269239377300446,0.23766021490279202,-0.051173583703424584,-0.05194404660166631,-0.010045300624044502,-0.3663766882940575,-0.08640427366005034,0.08604843666863216,-0.06661439231614702,0.2512642099319134,0.04191802060471885,0.12275366630624832,-0.049822160483111846,0.07364278546968954,0.12992996493747283,0.08113214876409544,0.1386861363572621,0.08898889695507167,0.028380137220681917,-0.20811355623752406,0.024051037246862177,0.12066074557408853,0.1425735802522347,-0.2100803040198352,-0.09258245441822724,0.09539379788155575,-0.14530457614214942,-0.11275130114721237,0.04670579624832926,0.13170177851672188,-0.203832358058785,-0.036512038074614,0.16462847750103515,-0.09536708797048388,0.2825228028861768,-0.16654306582111952,0.10204233233675589,0.07456965058713697,0.05181894665796519,0.014485279265751064,0.14396349173454137,0.0790128668772683,0.10359000732059621,0.17019807877303494,0.1274355606794215,-0.07687098636862984,-0.09955596071222415,-0.19805781746692702,0.043302286341106014,0.03644236698480341,-0.033696251448562135,0.09531697545723433,-0.050870873201125,0.0426215436522438,-0.01370088896513722,0.14903223525807938,-0.2703358301165854,0.14486652313993714,0.262076836343828,-0.13914099255955237,-0.17927887163879036,-0.036341705605426614,-0.14645837050586585,0.10391362672122986,-0.15277355237314835,-0.12921909871550658,-0.07825174680974063,0.050361435940769236,-0.07581121516633478,-0.04419530913273878,0.09196489245095527,-0.11696530537909139,0.021224807546630062,-0.06625895336216961,0.023381647445032537,0.11262822891628897,0.05295088780710202,0.0714476439842543,0.09050962701319759,-0.01377096552340331,0.06400053031352815,0.010034116107828022,-0.04040352030336462,0.027930234515355177,0.015783680304931307,-0.07871069634615092,-0.04757472744472122,0.12414158585552576,-0.09466878409636395,-0.13528290903578927,0.016078922307102898,0.02718831145366046,0.05035223327981758,-0.04177443283038186,0.02954751009005284,0.09462142741849311,-0.07222954686127087,-0.04343588730102588,0.11228194686127983,-0.08779403218685157,0.016808294711716024,-0.07089573376206178,-0.038319752880723826,0.0020032785166011658,0.06056848043991024,0.008626476842627358,0.00215297682424814,0.08588055242870951,0.13010400007514714,-0.0013409007568736878,-0.1431042543696995,0.058056847468408265,0.0718657392367174,0.16000932602819998,-0.1258926347225578,-0.11234309119470641,-0.02581377284728947,-0.036808553867638295,0.1042623523244367,0.06179054299973429]\n",
      "\u001b[1mIntercept: \u001b[0m -1.6774166226634546 \u001b[1m\n",
      "Coefficients:\u001b[0m [0.2063746174125804,-1.2633549991400674,-0.3597435063801613,0.010828352585811425,-0.00836846335157408,0.1028379296828519,0.13136088993488002,0.1743750661320395,0.023764245250722408,-0.0764053008508218,0.012097010351820434,-0.11874489997553944,0.10911130775386721,-0.19993812424540658,-0.043922447710373444,-0.05900172283076312,-0.026065405681937732,0.19988295866497247,0.17854337574349477,-0.04405501207736914,0.12745992365024264,0.056120500839042575,-0.08949739954420949,0.20790534440566769,0.03693772859491866,-0.07831470520176283,-0.20255807936539444,-0.03469699647377579,-0.035372602494399406,0.09991227751457395,0.01624302202653295,-0.042120854031186684,0.010315262769900909,0.07780728498396264,-0.08012901058915255,0.08538143480230176,-0.18435709747731974,0.034314499176584724,-0.09000511184084997,-0.04427168126239477,-0.01038404849006032,0.23047034143913567,0.003543333838600089,0.2502887728397565,-0.010465461460552012,-0.16107120609474235,-0.06834367351252978,-0.029190170430947928,-0.06658519606623033,-0.018807421715853947,0.1093429883144183,-0.004567402398416705,0.011847953435918077,0.1547108554492272,-0.22665211032107788,-0.24186920093630687,0.1043437921557429,0.29210009965970507,0.34901284511697683,-0.11223200611150679,0.12175750573208523,0.06739723912691453,0.0049200005749120155,-0.055230692496410605,-0.24325624077577898,-0.07433089780783828,-0.09843394065583651,-0.1010403475064308,-0.1270933391626971,0.013278102157089343,-0.0529428741729157,-0.2712011927076634,-0.08525660062556097,-0.1125380800403557,-0.1094607588732651,-0.14978188162812084,0.08709817228279144,0.039687921504178346,0.057767823938457134,-0.023254400259268705,-0.23623982070481495,-0.06841829983968384,-0.21119227157826656,-0.015156953372309446,0.20441095712391594,0.05269239377292331,-0.23766021490269768,0.05117358370367166,0.05194404660178011,0.010045300623991683,0.3663766882942349,0.0864042736597069,-0.08604843666893865,0.06661439231621434,-0.25126420993247267,-0.041918020604556155,-0.12275366630639196,0.049822160483309286,-0.0736427854698339,-0.1299299649374711,-0.08113214876449562,-0.13868613635728116,-0.08898889695495678,-0.0283801372207189,0.2081135562374676,-0.024051037246997326,-0.12066074557438024,-0.1425735802527777,0.21008030402009623,0.0925824544186351,-0.09539379788181787,0.14530457614251502,0.11275130114669633,-0.04670579624844964,-0.13170177851695436,0.20383235805898015,0.036512038074731176,-0.1646284775016194,0.0953670879702255,-0.28252280288630577,0.1665430658207942,-0.10204233233705921,-0.07456965058741037,-0.05181894665809421,-0.014485279265728707,-0.14396349173466502,-0.07901286687702576,-0.1035900073207632,-0.17019807877331694,-0.12743556067894257,0.0768709863687653,0.09955596071197548,0.1980578174664375,-0.04330228634140857,-0.0364423669847439,0.033696251448882615,-0.09531697545724221,0.0508708732008094,-0.04262154365183641,0.013700888965258546,-0.1490322352581242,0.27033583011674633,-0.14486652313986484,-0.2620768363442267,0.13914099255947476,0.17927887163896156,0.03634170560582223,0.14645837050608268,-0.10391362672119323,0.15277355237308798,0.1292190987158357,0.07825174681013634,-0.05036143594036701,0.0758112151662343,0.0441953091325021,-0.09196489245098406,0.11696530537919833,-0.021224807546668514,0.06625895336205928,-0.023381647445241995,-0.11262822891596207,-0.05295088780693994,-0.07144764398419354,-0.09050962701339157,0.013770965523365866,-0.06400053031369782,-0.0100341161077188,0.04040352030370204,-0.027930234515201057,-0.015783680304977142,0.0787106963460925,0.047574727444878305,-0.1241415858556017,0.09466878409647105,0.13528290903579057,-0.016078922307053323,-0.02718831145368686,-0.05035223327938496,0.04177443283012789,-0.029547510089744954,-0.09462142741850037,0.07222954686166197,0.04343588730120511,-0.11228194686129474,0.08779403218687909,-0.01680829471147108,0.07089573376205009,0.03831975288037721,-0.002003278516660611,-0.06056848043982306,-0.008626476842840547,-0.0021529768245595105,-0.08588055242890402,-0.13010400007527398,0.0013409007565124234,0.14310425436970106,-0.05805684746859351,-0.07186573923689088,-0.16000932602791523,0.12589263472257203,0.11234309119489666,0.02581377284754724,0.03680855386751024,-0.10426235232415013,-0.06179054299923053]\n",
      " \n",
      "\u001b[1mLinearSVC  Coefficients\u001b[0m\n",
      "You should compares these relative to eachother\n",
      "Coefficients: \n",
      "[0.053368316050574544,-0.17359505740678846,-0.0385623243633072,0.01244050835851048,-0.001539112403270844,0.025511875691917714,0.03864847457165905,0.04800472705728748,0.0024565409893153606,-0.019666020618584263,-0.009249189767752923,-0.01585598386553969,0.010258146995367886,-0.05953420922466203,-0.01008119510987439,0.014818802266782267,0.0,0.0697298859101178,0.0195854688503081,0.002123335956194612,0.036583559702254624,0.016257226871193818,-0.01712620961937412,0.03751088384746378,0.0048308864265042975,-0.019254697312459837,-0.033704191356119066,-0.010067688604479689,-0.011104186976487468,0.03334671671644519,0.013357128996398062,-0.0054680942589240555,-0.0013269951312662649,0.008151575082820207,-0.013108119125816624,0.008274473018730058,-0.032848805245928994,0.0014965914654479066,-0.02513431268496567,-0.0072546829754999145,-0.017431064311973988,0.05311687932957401,-0.015656929968456176,0.042421820617747706,0.014982585238890782,-0.02678066673623394,-0.004651768524498319,-0.0058746524856260595,-0.010132753680378952,-0.0,0.04954045075445482,-0.0038857408625537666,-0.0009143686076935353,0.036848926881469866,-0.04516831160901323,-0.009220516270284624,0.0021744172715640487,0.028206839869078393,0.03459263893772978,-0.004968183238290242,0.002348573399852433,-0.0026553692800051526,-0.003562689857147497,-0.0009500004089384418,-0.010053230747764305,-0.002307070496258129,-0.003344775332749687,-0.0037088454237356274,-0.003987798121284142,0.0,-0.0019031529850554799,-0.02818814239230243,-0.0001166205206163051,-0.003771613359628153,-0.03179236902635379,-0.00258119549605262,0.003325490076026309,-0.01608310426285342,0.0012757840161571278,-0.0026761687652381134,-0.00469142118743444,-0.0033778257770000013,-0.0046938460329514296,-0.00026683730314556965,0.02778804846445786,0.0,-0.04536247807449564,0.0023049051519785316,0.0012084597258116634,-0.000977425018735091,0.024602877222998233,0.0014048916953573285,-0.0018380016738134455,-0.0021522688087034065,-0.019291212120367707,-0.0030957065397200093,-0.002564732487424796,-0.001929968847992654,-0.0023383201659646163,-0.006173548100841737,-0.0075249586809975,-0.006908374565556588,-0.004020007902733611,-0.00013508632644536437,0.027171914526475216,-0.004596093855486638,-0.02000507385462467,-0.0,0.025791733212109837,0.009849445963696989,-0.01712215537032281,0.01936073548468368,0.02131138792229506,-0.012256033932749297,-0.027063280044387916,0.030873801957162595,0.0018664723715588094,-0.03139475569693253,-0.001664807894253684,-0.03938390668356881,0.038198284221320884,-0.025734590376171804,-0.009709702496335584,-0.0019246045123677813,-0.008038532699348459,-0.021300723329311884,-0.01752399618891625,-0.018938605486760466,-0.019627195825276906,-0.03333750577249069,0.01073355372494537,0.04312443062140878,0.04397079696895744,0.0018270564776652115,-0.0,-0.004194154220303297,-0.01929216156474359,-0.007307537245038316,-0.003525377322063905,0.0018989357347848003,-0.02379455070100382,0.05236135255514821,-0.02412555255501528,-0.04590390323824051,0.019067349323072205,0.011196381502632238,-0.013895362463282407,0.01647514104293928,-0.014375810981402065,0.026546707711875877,0.02044670718722237,0.018506165587784534,-0.013646311880112233,0.022789979390715018,0.0104432462280815,-0.006153965215869609,0.01672817973008801,0.0014230277990241933,0.0020525010613522917,-0.001559498094337322,-0.003426879383076923,-0.009893124596032522,-0.008647437865008918,-0.002559393506379889,0.0,-0.017156482022818824,-9.474539308548585e-05,-0.0005335144509123923,0.0010180774979946339,-0.0017464397871880864,0.003455842803076885,0.0019351271168856572,-0.011571425118423014,0.017792682318765685,0.012509306263997905,-0.001990337653428879,-0.002333203591621174,-0.025077559542221937,0.0009566822566126096,-0.001363144557915306,-0.013932622252075725,0.004570485865917226,0.007019757032344797,-0.011356293507898393,0.008269748551363006,-0.003502037432403273,0.007149434007409253,0.001879474140070209,-0.0013748692840477514,-0.002668327579598318,-0.000805727998753859,0.006780367192054079,-0.005156127503450488,-0.018647751056611678,-0.0013326973525690225,0.011637388346381282,-0.011623354653699498,-0.005816452797334365,-0.009077842741355955,0.013217656181757978,0.006672582830140646,0.000962435374988482,-0.001049027398552912,-0.015438269694927667,-0.0031520690990351585]\n",
      "\n",
      "\u001b[1mMultilayerPerceptronClassifier  Weights\u001b[0m\n",
      "\u001b[1mModel Weights: \u001b[0m 85283\n",
      "\n",
      "+------------------------------+------+\n",
      "|Classifier                    |Result|\n",
      "+------------------------------+------+\n",
      "|LogisticRegression            |95.61 |\n",
      "|OneVsRest                     |95.53 |\n",
      "|LinearSVC                     |94.59 |\n",
      "|NaiveBayes                    |76.40 |\n",
      "|MultilayerPerceptronClassifier|96.97 |\n",
      "+------------------------------+------+\n",
      "\n",
      "None\n",
      "\u001b[1mw2v  Results:\u001b[0m\n",
      " \n",
      "\u001b[1mLogisticRegression  Coefficient Matrix\u001b[0m\n",
      "You should compares these relative to eachother\n",
      "Coefficients: \n",
      "DenseMatrix([[ 0.53079902, -2.40939832, -0.51766572,  0.09364031, -0.01073308,\n",
      "              -0.21785438, -0.88520153,  3.11243471, -3.21392569, -1.78665875,\n",
      "              -2.75999295, -0.91408792, -1.00592017, -0.79391686,  0.78393447,\n",
      "               4.08512207,  2.33849984, -1.31311485,  1.64599981, -5.31434075,\n",
      "               1.67275261,  0.88890227, -2.04788443, -3.95396479, -0.68204837]])\n",
      "Intercept: [0.7434714793182517]\n",
      " \n",
      "\u001b[1mOneVsRest\u001b[0m\n",
      "\u001b[1mIntercept: \u001b[0m -1.0618905058064745 \u001b[1m\n",
      "Coefficients:\u001b[0m [-0.4538892258840872,1.8706414424229714,0.4574819571477387,-0.09791093431931408,0.009335724943847275,0.5173469416603531,0.8208946001990893,-0.5256143319116529,1.3696069583278299,1.2238027758055845,1.7402174767754977,1.4838567337889623,-0.09271573017352622,0.12261936181210502,0.09469057325793376,-2.4078455705191337,-1.2106905993444108,0.9489747102813052,-1.1959179047665114,2.3032241416620804,-0.5588858593065807,-0.6800318957324554,1.052965097118812,2.5497817794110746,0.49382967279544077]\n",
      "\u001b[1mIntercept: \u001b[0m 1.0618905058063977 \u001b[1m\n",
      "Coefficients:\u001b[0m [0.453889225884066,-1.8706414424229634,-0.45748195714773965,0.09791093431931507,-0.009335724943847275,-0.5173469416603312,-0.8208946001991203,0.5256143319116467,-1.369606958327837,-1.2238027758055843,-1.7402174767754715,-1.4838567337889406,0.09271573017355324,-0.12261936181209203,-0.09469057325795255,2.4078455705191244,1.2106905993444204,-0.9489747102813144,1.1959179047665014,-2.303224141662049,0.5588858593066032,0.6800318957324558,-1.0529650971187816,-2.5497817794110067,-0.4938296727954394]\n",
      " \n",
      "\u001b[1mLinearSVC  Coefficients\u001b[0m\n",
      "You should compares these relative to eachother\n",
      "Coefficients: \n",
      "[0.0735621731406943,-0.16645203543469236,-0.04073339698185865,0.010552364821939402,-0.0009240828218508043,-0.10427981891941787,-0.116349529570784,0.0,-0.13871610991635985,-0.19517926782120973,-0.20644185949415794,-0.2474032836326048,0.0038700679258860437,0.03915024880794287,-0.08076667045514023,0.23878882189945272,0.1080383009563365,-0.12848173153889275,0.10111967030105531,-0.091576355346026,-0.05557731638610843,0.232070480579359,-0.11140355708782247,-0.328182276937333,-0.23100291548417518]\n",
      "\n",
      "\u001b[1mMultilayerPerceptronClassifier  Weights\u001b[0m\n",
      "\u001b[1mModel Weights: \u001b[0m 1403\n",
      "\n",
      "+------------------------------+------+\n",
      "|Classifier                    |Result|\n",
      "+------------------------------+------+\n",
      "|LogisticRegression            |94.87 |\n",
      "|OneVsRest                     |94.75 |\n",
      "|LinearSVC                     |94.73 |\n",
      "|NaiveBayes                    |94.73 |\n",
      "|MultilayerPerceptronClassifier|95.41 |\n",
      "+------------------------------+------+\n",
      "\n",
      "None\n"
     ]
    }
   ],
   "source": [
    "for featureDF in featureDF_list:\n",
    "    print('\\033[1m' + featureDF.name,\" Results:\"+ '\\033[0m')\n",
    "    train, test = featureDF.randomSplit([0.7, 0.3],seed = 11)\n",
    "    features = featureDF.select(['features']).collect()\n",
    "    # Learn how many classes there are in order to specify evaluation type based on binary or multi and turn the df into an object\n",
    "    class_count = featureDF.select(countDistinct(\"label\")).collect()\n",
    "    classes = class_count[0][0]\n",
    "\n",
    "    #set up your results table\n",
    "    columns = ['Classifier', 'Result']\n",
    "    vals = [(\"Place Holder\",\"N/A\")]\n",
    "    results = spark.createDataFrame(vals, columns)\n",
    "\n",
    "    for classifier in classifiers:\n",
    "        new_result = ClassTrainEval(classifier,features,classes,train,test)\n",
    "        results = results.union(new_result)\n",
    "    results = results.where(\"Classifier!='Place Holder'\")\n",
    "    print(results.show(truncate=False))"
   ]
  },
  {
   "cell_type": "markdown",
   "metadata": {},
   "source": [
    "We see that Multilayer Perceptron Classifier with tfidf vectorization has the highest accuracy which is 97%.<br>\n",
    "So, we will use that to do prediction on the test data."
   ]
  },
  {
   "cell_type": "code",
   "execution_count": 77,
   "metadata": {},
   "outputs": [],
   "source": [
    "output_tfidf\n",
    "\n",
    "train, test = featureDF.randomSplit([0.7, 0.3],seed = 11)\n",
    "features = featureDF.select(['features']).collect()\n",
    "features_count = len(features[0][0])\n",
    "layers = [features_count, features_count+1, features_count, classes]\n",
    "classifier = MultilayerPerceptronClassifier(maxIter=200, layers=layers, blockSize=128, seed=1234)\n",
    "model = classifier.fit(output_tfidf)"
   ]
  },
  {
   "cell_type": "code",
   "execution_count": 79,
   "metadata": {},
   "outputs": [
    {
     "name": "stdout",
     "output_type": "stream",
     "text": [
      "+--------------------+-----+--------------------+--------------------+----------+\n",
      "|            features|label|       rawPrediction|         probability|prediction|\n",
      "+--------------------+-----+--------------------+--------------------+----------+\n",
      "|(205,[0,1,2,3,16,...|    0|[32.4394991019324...|[1.0,1.3552636765...|       0.0|\n",
      "|(205,[0,1,2,3,33,...|    0|[34.8121172465717...|[1.0,9.0784053169...|       0.0|\n",
      "|(205,[0,1,2,8,42,...|    0|[35.6300149882356...|[1.0,1.9750962562...|       0.0|\n",
      "|(205,[0,1,2,9,13,...|    0|[30.1074214508040...|[1.0,1.3770302060...|       0.0|\n",
      "|(205,[0,1,2,14,21...|    0|[17.6072621780993...|[0.99999999999999...|       0.0|\n",
      "|(205,[0,1,2,15,52...|    0|[28.2125437109945...|[1.0,5.6230031911...|       0.0|\n",
      "|(205,[0,1,2,44,50...|    0|[36.0735556254588...|[1.0,6.9261187227...|       0.0|\n",
      "|(205,[0,1,3,8,20,...|    0|[33.1071873497003...|[1.0,3.0648619332...|       0.0|\n",
      "|(205,[0,1,3,16,46...|    0|[29.1333301296530...|[1.0,8.3664844045...|       0.0|\n",
      "|(205,[0,1,7,8,20,...|    0|[28.2875484153764...|[1.0,3.8215817235...|       0.0|\n",
      "|(205,[0,1,21,42,4...|    0|[41.4360484159880...|[1.0,2.1221125219...|       0.0|\n",
      "|(205,[0,1,49,55,5...|    0|[30.2635768591357...|[1.0,8.6402527345...|       0.0|\n",
      "|(205,[0,2,3,14,16...|    0|[32.1914680728791...|[1.0,1.8298550508...|       0.0|\n",
      "|(205,[0,2,4,17,44...|    0|[41.0674852321660...|[1.0,3.6650375186...|       0.0|\n",
      "|(205,[0,2,10,49,5...|    0|[14.3792814482469...|[0.99999999999954...|       0.0|\n",
      "|(205,[0,3,4,12,15...|    0|[34.5446071722012...|[1.0,1.5146220422...|       0.0|\n",
      "|(205,[0,4,19,25,7...|    0|[41.3436327826799...|[1.0,2.2242052095...|       0.0|\n",
      "|(205,[0,7,42,54,7...|    0|[23.7101445224244...|[1.0,4.4875124673...|       0.0|\n",
      "|(205,[1,2,3,4,5,7...|    0|[38.0002593951159...|[1.0,1.5888912256...|       0.0|\n",
      "|(205,[1,2,3,4,7,1...|    0|[43.5951031907602...|[1.0,3.3625295022...|       0.0|\n",
      "+--------------------+-----+--------------------+--------------------+----------+\n",
      "only showing top 20 rows\n",
      "\n"
     ]
    }
   ],
   "source": [
    "predictions = model.transform(test)\n",
    "predictions.show()"
   ]
  }
 ],
 "metadata": {
  "colab": {
   "provenance": []
  },
  "kernelspec": {
   "display_name": "Python 3 (ipykernel)",
   "language": "python",
   "name": "python3"
  },
  "language_info": {
   "codemirror_mode": {
    "name": "ipython",
    "version": 3
   },
   "file_extension": ".py",
   "mimetype": "text/x-python",
   "name": "python",
   "nbconvert_exporter": "python",
   "pygments_lexer": "ipython3",
   "version": "3.8.12"
  }
 },
 "nbformat": 4,
 "nbformat_minor": 4
}
